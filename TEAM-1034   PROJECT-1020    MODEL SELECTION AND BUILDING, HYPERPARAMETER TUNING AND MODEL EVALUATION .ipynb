{
 "cells": [
  {
   "cell_type": "code",
   "execution_count": 14,
   "metadata": {},
   "outputs": [],
   "source": [
    "## Importing the libraries required\n",
    "\n",
    "import pandas as pd\n",
    "import numpy as np\n",
    "import matplotlib.pyplot as plt\n",
    "%matplotlib inline\n",
    "import seaborn as sns\n",
    "from scipy import stats\n",
    "from sklearn.preprocessing import MinMaxScaler\n",
    "import math\n",
    "## for feature selection\n",
    "\n",
    "from sklearn.linear_model import Lasso\n",
    "from sklearn.feature_selection import SelectFromModel\n",
    "\n",
    "## lINEAR REGRESSION\n",
    "\n",
    "from sklearn.model_selection import train_test_split \n",
    "from sklearn.linear_model import LinearRegression\n",
    "\n",
    "## It gives model fitment efficiency\n",
    "\n",
    "from sklearn.metrics import r2_score       \n",
    "\n",
    "## RANDOM FORREST\n",
    "\n",
    "from sklearn.model_selection import train_test_split\n",
    "from sklearn.ensemble import RandomForestRegressor\n",
    "\n",
    "\n",
    "## XGBOOST\n",
    "\n",
    "from sklearn.model_selection import train_test_split\n",
    "from xgboost import XGBRegressor\n",
    "\n",
    "## KNN\n",
    "\n",
    "from sklearn.neighbors import KNeighborsRegressor\n",
    "\n",
    "\n",
    "## SVR\n",
    "\n",
    "from sklearn.svm import SVR\n",
    "\n",
    "\n",
    "\n",
    "## RMSE\n",
    "\n",
    "from sklearn.metrics import mean_squared_error\n",
    "from math import sqrt\n",
    "\n",
    "\n",
    "## MAE\n",
    "\n",
    "from sklearn.metrics import mean_absolute_error\n",
    "\n",
    "\n",
    "## K FOLD\n",
    "\n",
    "from sklearn.model_selection import KFold\n",
    "\n",
    "\n",
    "## CROSS VALIDATION SCORE\n",
    "\n",
    "from sklearn.model_selection import cross_val_score\n",
    "\n",
    "\n",
    "## RANDOMIZED SEARCH CV\n",
    "\n",
    "from sklearn.model_selection import RandomizedSearchCV\n",
    "\n",
    "\n",
    "\n",
    "## STACKING ENSEMBLE\n",
    "\n",
    "from sklearn.ensemble import StackingRegressor\n",
    "\n",
    "\n",
    "## Display all the columns/fields of the dataframe\n",
    "\n",
    "pd.pandas.set_option('display.max_columns',None)\n",
    "\n",
    "\n",
    "## Display all the rows of the dataframe\n",
    "\n",
    "pd.pandas.set_option('display.max_rows',None)\n",
    "\n"
   ]
  },
  {
   "cell_type": "code",
   "execution_count": 15,
   "metadata": {},
   "outputs": [],
   "source": [
    "## Loading the independent/predictor variables\n",
    "\n",
    "model_data=pd.read_csv('model_data.csv')\n",
    "\n",
    "## Loading the dependent/target variable\n",
    "\n",
    "target_var=pd.read_csv('y_train.csv')\n",
    "\n",
    "\n",
    "\n",
    "test_data=pd.read_csv('test.csv')\n"
   ]
  },
  {
   "cell_type": "code",
   "execution_count": 16,
   "metadata": {},
   "outputs": [
    {
     "data": {
      "text/html": [
       "<div>\n",
       "<style scoped>\n",
       "    .dataframe tbody tr th:only-of-type {\n",
       "        vertical-align: middle;\n",
       "    }\n",
       "\n",
       "    .dataframe tbody tr th {\n",
       "        vertical-align: top;\n",
       "    }\n",
       "\n",
       "    .dataframe thead th {\n",
       "        text-align: right;\n",
       "    }\n",
       "</style>\n",
       "<table border=\"1\" class=\"dataframe\">\n",
       "  <thead>\n",
       "    <tr style=\"text-align: right;\">\n",
       "      <th></th>\n",
       "      <th>MSSubClass</th>\n",
       "      <th>MSZoning</th>\n",
       "      <th>Neighborhood</th>\n",
       "      <th>OverallQual</th>\n",
       "      <th>YearRemodAdd</th>\n",
       "      <th>RoofStyle</th>\n",
       "      <th>BsmtQual</th>\n",
       "      <th>BsmtExposure</th>\n",
       "      <th>HeatingQC</th>\n",
       "      <th>CentralAir</th>\n",
       "      <th>1stFlrSF</th>\n",
       "      <th>GrLivArea</th>\n",
       "      <th>BsmtFullBath</th>\n",
       "      <th>KitchenQual</th>\n",
       "      <th>Fireplaces</th>\n",
       "      <th>FireplaceQu</th>\n",
       "      <th>GarageType</th>\n",
       "      <th>GarageFinish</th>\n",
       "      <th>GarageCars</th>\n",
       "      <th>PavedDrive</th>\n",
       "      <th>SaleCondition</th>\n",
       "    </tr>\n",
       "  </thead>\n",
       "  <tbody>\n",
       "    <tr>\n",
       "      <th>0</th>\n",
       "      <td>0.235294</td>\n",
       "      <td>0.75</td>\n",
       "      <td>0.636364</td>\n",
       "      <td>0.666667</td>\n",
       "      <td>0.098361</td>\n",
       "      <td>0.0</td>\n",
       "      <td>0.75</td>\n",
       "      <td>0.25</td>\n",
       "      <td>1.00</td>\n",
       "      <td>1.0</td>\n",
       "      <td>0.356155</td>\n",
       "      <td>0.577712</td>\n",
       "      <td>0.333333</td>\n",
       "      <td>0.666667</td>\n",
       "      <td>0.000000</td>\n",
       "      <td>0.2</td>\n",
       "      <td>0.8</td>\n",
       "      <td>0.666667</td>\n",
       "      <td>0.50</td>\n",
       "      <td>1.0</td>\n",
       "      <td>0.75</td>\n",
       "    </tr>\n",
       "    <tr>\n",
       "      <th>1</th>\n",
       "      <td>0.000000</td>\n",
       "      <td>0.75</td>\n",
       "      <td>0.500000</td>\n",
       "      <td>0.555556</td>\n",
       "      <td>0.524590</td>\n",
       "      <td>0.0</td>\n",
       "      <td>0.75</td>\n",
       "      <td>1.00</td>\n",
       "      <td>1.00</td>\n",
       "      <td>1.0</td>\n",
       "      <td>0.503056</td>\n",
       "      <td>0.470245</td>\n",
       "      <td>0.000000</td>\n",
       "      <td>0.333333</td>\n",
       "      <td>0.333333</td>\n",
       "      <td>0.6</td>\n",
       "      <td>0.8</td>\n",
       "      <td>0.666667</td>\n",
       "      <td>0.50</td>\n",
       "      <td>1.0</td>\n",
       "      <td>0.75</td>\n",
       "    </tr>\n",
       "    <tr>\n",
       "      <th>2</th>\n",
       "      <td>0.235294</td>\n",
       "      <td>0.75</td>\n",
       "      <td>0.636364</td>\n",
       "      <td>0.666667</td>\n",
       "      <td>0.114754</td>\n",
       "      <td>0.0</td>\n",
       "      <td>0.75</td>\n",
       "      <td>0.50</td>\n",
       "      <td>1.00</td>\n",
       "      <td>1.0</td>\n",
       "      <td>0.383441</td>\n",
       "      <td>0.593095</td>\n",
       "      <td>0.333333</td>\n",
       "      <td>0.666667</td>\n",
       "      <td>0.333333</td>\n",
       "      <td>0.6</td>\n",
       "      <td>0.8</td>\n",
       "      <td>0.666667</td>\n",
       "      <td>0.50</td>\n",
       "      <td>1.0</td>\n",
       "      <td>0.75</td>\n",
       "    </tr>\n",
       "    <tr>\n",
       "      <th>3</th>\n",
       "      <td>0.294118</td>\n",
       "      <td>0.75</td>\n",
       "      <td>0.727273</td>\n",
       "      <td>0.666667</td>\n",
       "      <td>0.606557</td>\n",
       "      <td>0.0</td>\n",
       "      <td>0.50</td>\n",
       "      <td>0.25</td>\n",
       "      <td>0.75</td>\n",
       "      <td>1.0</td>\n",
       "      <td>0.399941</td>\n",
       "      <td>0.579157</td>\n",
       "      <td>0.333333</td>\n",
       "      <td>0.666667</td>\n",
       "      <td>0.333333</td>\n",
       "      <td>0.8</td>\n",
       "      <td>0.4</td>\n",
       "      <td>0.333333</td>\n",
       "      <td>0.75</td>\n",
       "      <td>1.0</td>\n",
       "      <td>0.00</td>\n",
       "    </tr>\n",
       "    <tr>\n",
       "      <th>4</th>\n",
       "      <td>0.235294</td>\n",
       "      <td>0.75</td>\n",
       "      <td>1.000000</td>\n",
       "      <td>0.777778</td>\n",
       "      <td>0.147541</td>\n",
       "      <td>0.0</td>\n",
       "      <td>0.75</td>\n",
       "      <td>0.75</td>\n",
       "      <td>1.00</td>\n",
       "      <td>1.0</td>\n",
       "      <td>0.466237</td>\n",
       "      <td>0.666523</td>\n",
       "      <td>0.333333</td>\n",
       "      <td>0.666667</td>\n",
       "      <td>0.333333</td>\n",
       "      <td>0.6</td>\n",
       "      <td>0.8</td>\n",
       "      <td>0.666667</td>\n",
       "      <td>0.75</td>\n",
       "      <td>1.0</td>\n",
       "      <td>0.75</td>\n",
       "    </tr>\n",
       "    <tr>\n",
       "      <th>5</th>\n",
       "      <td>0.176471</td>\n",
       "      <td>0.75</td>\n",
       "      <td>0.409091</td>\n",
       "      <td>0.444444</td>\n",
       "      <td>0.245902</td>\n",
       "      <td>0.0</td>\n",
       "      <td>0.75</td>\n",
       "      <td>0.25</td>\n",
       "      <td>1.00</td>\n",
       "      <td>1.0</td>\n",
       "      <td>0.328654</td>\n",
       "      <td>0.497220</td>\n",
       "      <td>0.333333</td>\n",
       "      <td>0.333333</td>\n",
       "      <td>0.000000</td>\n",
       "      <td>0.2</td>\n",
       "      <td>0.8</td>\n",
       "      <td>0.333333</td>\n",
       "      <td>0.50</td>\n",
       "      <td>1.0</td>\n",
       "      <td>0.75</td>\n",
       "    </tr>\n",
       "    <tr>\n",
       "      <th>6</th>\n",
       "      <td>0.000000</td>\n",
       "      <td>0.75</td>\n",
       "      <td>0.818182</td>\n",
       "      <td>0.777778</td>\n",
       "      <td>0.049180</td>\n",
       "      <td>0.0</td>\n",
       "      <td>1.00</td>\n",
       "      <td>0.75</td>\n",
       "      <td>1.00</td>\n",
       "      <td>1.0</td>\n",
       "      <td>0.614465</td>\n",
       "      <td>0.574387</td>\n",
       "      <td>0.333333</td>\n",
       "      <td>0.666667</td>\n",
       "      <td>0.333333</td>\n",
       "      <td>0.8</td>\n",
       "      <td>0.8</td>\n",
       "      <td>0.666667</td>\n",
       "      <td>0.50</td>\n",
       "      <td>1.0</td>\n",
       "      <td>0.75</td>\n",
       "    </tr>\n",
       "    <tr>\n",
       "      <th>7</th>\n",
       "      <td>0.235294</td>\n",
       "      <td>0.75</td>\n",
       "      <td>0.545455</td>\n",
       "      <td>0.666667</td>\n",
       "      <td>0.606557</td>\n",
       "      <td>0.0</td>\n",
       "      <td>0.75</td>\n",
       "      <td>0.50</td>\n",
       "      <td>1.00</td>\n",
       "      <td>1.0</td>\n",
       "      <td>0.453465</td>\n",
       "      <td>0.648700</td>\n",
       "      <td>0.333333</td>\n",
       "      <td>0.333333</td>\n",
       "      <td>0.666667</td>\n",
       "      <td>0.6</td>\n",
       "      <td>0.8</td>\n",
       "      <td>0.666667</td>\n",
       "      <td>0.50</td>\n",
       "      <td>1.0</td>\n",
       "      <td>0.75</td>\n",
       "    </tr>\n",
       "    <tr>\n",
       "      <th>8</th>\n",
       "      <td>0.176471</td>\n",
       "      <td>0.25</td>\n",
       "      <td>0.181818</td>\n",
       "      <td>0.666667</td>\n",
       "      <td>0.967213</td>\n",
       "      <td>0.0</td>\n",
       "      <td>0.50</td>\n",
       "      <td>0.25</td>\n",
       "      <td>0.75</td>\n",
       "      <td>1.0</td>\n",
       "      <td>0.423231</td>\n",
       "      <td>0.590710</td>\n",
       "      <td>0.000000</td>\n",
       "      <td>0.333333</td>\n",
       "      <td>0.666667</td>\n",
       "      <td>0.6</td>\n",
       "      <td>0.4</td>\n",
       "      <td>0.333333</td>\n",
       "      <td>0.50</td>\n",
       "      <td>1.0</td>\n",
       "      <td>0.00</td>\n",
       "    </tr>\n",
       "    <tr>\n",
       "      <th>9</th>\n",
       "      <td>1.000000</td>\n",
       "      <td>0.75</td>\n",
       "      <td>0.136364</td>\n",
       "      <td>0.444444</td>\n",
       "      <td>0.967213</td>\n",
       "      <td>0.0</td>\n",
       "      <td>0.50</td>\n",
       "      <td>0.25</td>\n",
       "      <td>1.00</td>\n",
       "      <td>1.0</td>\n",
       "      <td>0.443067</td>\n",
       "      <td>0.414169</td>\n",
       "      <td>0.333333</td>\n",
       "      <td>0.333333</td>\n",
       "      <td>0.666667</td>\n",
       "      <td>0.6</td>\n",
       "      <td>0.8</td>\n",
       "      <td>0.666667</td>\n",
       "      <td>0.25</td>\n",
       "      <td>1.0</td>\n",
       "      <td>0.75</td>\n",
       "    </tr>\n",
       "  </tbody>\n",
       "</table>\n",
       "</div>"
      ],
      "text/plain": [
       "   MSSubClass  MSZoning  Neighborhood  OverallQual  YearRemodAdd  RoofStyle  \\\n",
       "0    0.235294      0.75      0.636364     0.666667      0.098361        0.0   \n",
       "1    0.000000      0.75      0.500000     0.555556      0.524590        0.0   \n",
       "2    0.235294      0.75      0.636364     0.666667      0.114754        0.0   \n",
       "3    0.294118      0.75      0.727273     0.666667      0.606557        0.0   \n",
       "4    0.235294      0.75      1.000000     0.777778      0.147541        0.0   \n",
       "5    0.176471      0.75      0.409091     0.444444      0.245902        0.0   \n",
       "6    0.000000      0.75      0.818182     0.777778      0.049180        0.0   \n",
       "7    0.235294      0.75      0.545455     0.666667      0.606557        0.0   \n",
       "8    0.176471      0.25      0.181818     0.666667      0.967213        0.0   \n",
       "9    1.000000      0.75      0.136364     0.444444      0.967213        0.0   \n",
       "\n",
       "   BsmtQual  BsmtExposure  HeatingQC  CentralAir  1stFlrSF  GrLivArea  \\\n",
       "0      0.75          0.25       1.00         1.0  0.356155   0.577712   \n",
       "1      0.75          1.00       1.00         1.0  0.503056   0.470245   \n",
       "2      0.75          0.50       1.00         1.0  0.383441   0.593095   \n",
       "3      0.50          0.25       0.75         1.0  0.399941   0.579157   \n",
       "4      0.75          0.75       1.00         1.0  0.466237   0.666523   \n",
       "5      0.75          0.25       1.00         1.0  0.328654   0.497220   \n",
       "6      1.00          0.75       1.00         1.0  0.614465   0.574387   \n",
       "7      0.75          0.50       1.00         1.0  0.453465   0.648700   \n",
       "8      0.50          0.25       0.75         1.0  0.423231   0.590710   \n",
       "9      0.50          0.25       1.00         1.0  0.443067   0.414169   \n",
       "\n",
       "   BsmtFullBath  KitchenQual  Fireplaces  FireplaceQu  GarageType  \\\n",
       "0      0.333333     0.666667    0.000000          0.2         0.8   \n",
       "1      0.000000     0.333333    0.333333          0.6         0.8   \n",
       "2      0.333333     0.666667    0.333333          0.6         0.8   \n",
       "3      0.333333     0.666667    0.333333          0.8         0.4   \n",
       "4      0.333333     0.666667    0.333333          0.6         0.8   \n",
       "5      0.333333     0.333333    0.000000          0.2         0.8   \n",
       "6      0.333333     0.666667    0.333333          0.8         0.8   \n",
       "7      0.333333     0.333333    0.666667          0.6         0.8   \n",
       "8      0.000000     0.333333    0.666667          0.6         0.4   \n",
       "9      0.333333     0.333333    0.666667          0.6         0.8   \n",
       "\n",
       "   GarageFinish  GarageCars  PavedDrive  SaleCondition  \n",
       "0      0.666667        0.50         1.0           0.75  \n",
       "1      0.666667        0.50         1.0           0.75  \n",
       "2      0.666667        0.50         1.0           0.75  \n",
       "3      0.333333        0.75         1.0           0.00  \n",
       "4      0.666667        0.75         1.0           0.75  \n",
       "5      0.333333        0.50         1.0           0.75  \n",
       "6      0.666667        0.50         1.0           0.75  \n",
       "7      0.666667        0.50         1.0           0.75  \n",
       "8      0.333333        0.50         1.0           0.00  \n",
       "9      0.666667        0.25         1.0           0.75  "
      ]
     },
     "execution_count": 16,
     "metadata": {},
     "output_type": "execute_result"
    }
   ],
   "source": [
    "## Viewing 'model_data' which contains the independent variables (i.e 21 features)\n",
    "\n",
    "model_data.head(10)"
   ]
  },
  {
   "cell_type": "code",
   "execution_count": 17,
   "metadata": {},
   "outputs": [
    {
     "data": {
      "text/plain": [
       "(1460, 21)"
      ]
     },
     "execution_count": 17,
     "metadata": {},
     "output_type": "execute_result"
    }
   ],
   "source": [
    "## Checking the shape of the dataframe\n",
    "\n",
    "model_data.shape"
   ]
  },
  {
   "cell_type": "code",
   "execution_count": 18,
   "metadata": {},
   "outputs": [
    {
     "name": "stdout",
     "output_type": "stream",
     "text": [
      "<class 'pandas.core.frame.DataFrame'>\n",
      "RangeIndex: 1460 entries, 0 to 1459\n",
      "Data columns (total 21 columns):\n",
      " #   Column         Non-Null Count  Dtype  \n",
      "---  ------         --------------  -----  \n",
      " 0   MSSubClass     1460 non-null   float64\n",
      " 1   MSZoning       1460 non-null   float64\n",
      " 2   Neighborhood   1460 non-null   float64\n",
      " 3   OverallQual    1460 non-null   float64\n",
      " 4   YearRemodAdd   1460 non-null   float64\n",
      " 5   RoofStyle      1460 non-null   float64\n",
      " 6   BsmtQual       1460 non-null   float64\n",
      " 7   BsmtExposure   1460 non-null   float64\n",
      " 8   HeatingQC      1460 non-null   float64\n",
      " 9   CentralAir     1460 non-null   float64\n",
      " 10  1stFlrSF       1460 non-null   float64\n",
      " 11  GrLivArea      1460 non-null   float64\n",
      " 12  BsmtFullBath   1460 non-null   float64\n",
      " 13  KitchenQual    1460 non-null   float64\n",
      " 14  Fireplaces     1460 non-null   float64\n",
      " 15  FireplaceQu    1460 non-null   float64\n",
      " 16  GarageType     1460 non-null   float64\n",
      " 17  GarageFinish   1460 non-null   float64\n",
      " 18  GarageCars     1460 non-null   float64\n",
      " 19  PavedDrive     1460 non-null   float64\n",
      " 20  SaleCondition  1460 non-null   float64\n",
      "dtypes: float64(21)\n",
      "memory usage: 239.7 KB\n"
     ]
    }
   ],
   "source": [
    "## Getting details about each features in the dataframe\n",
    "\n",
    "model_data.info()"
   ]
  },
  {
   "cell_type": "code",
   "execution_count": 19,
   "metadata": {},
   "outputs": [
    {
     "data": {
      "text/plain": [
       "MSSubClass       0\n",
       "MSZoning         0\n",
       "Neighborhood     0\n",
       "OverallQual      0\n",
       "YearRemodAdd     0\n",
       "RoofStyle        0\n",
       "BsmtQual         0\n",
       "BsmtExposure     0\n",
       "HeatingQC        0\n",
       "CentralAir       0\n",
       "1stFlrSF         0\n",
       "GrLivArea        0\n",
       "BsmtFullBath     0\n",
       "KitchenQual      0\n",
       "Fireplaces       0\n",
       "FireplaceQu      0\n",
       "GarageType       0\n",
       "GarageFinish     0\n",
       "GarageCars       0\n",
       "PavedDrive       0\n",
       "SaleCondition    0\n",
       "dtype: int64"
      ]
     },
     "execution_count": 19,
     "metadata": {},
     "output_type": "execute_result"
    }
   ],
   "source": [
    "## Checking whether the dtaframe has any NAN values \n",
    "\n",
    "model_data.isnull().sum()"
   ]
  },
  {
   "cell_type": "code",
   "execution_count": 20,
   "metadata": {},
   "outputs": [
    {
     "data": {
      "text/html": [
       "<div>\n",
       "<style scoped>\n",
       "    .dataframe tbody tr th:only-of-type {\n",
       "        vertical-align: middle;\n",
       "    }\n",
       "\n",
       "    .dataframe tbody tr th {\n",
       "        vertical-align: top;\n",
       "    }\n",
       "\n",
       "    .dataframe thead th {\n",
       "        text-align: right;\n",
       "    }\n",
       "</style>\n",
       "<table border=\"1\" class=\"dataframe\">\n",
       "  <thead>\n",
       "    <tr style=\"text-align: right;\">\n",
       "      <th></th>\n",
       "      <th>SalePrice</th>\n",
       "    </tr>\n",
       "  </thead>\n",
       "  <tbody>\n",
       "    <tr>\n",
       "      <th>0</th>\n",
       "      <td>12.247694</td>\n",
       "    </tr>\n",
       "    <tr>\n",
       "      <th>1</th>\n",
       "      <td>12.109011</td>\n",
       "    </tr>\n",
       "    <tr>\n",
       "      <th>2</th>\n",
       "      <td>12.317167</td>\n",
       "    </tr>\n",
       "    <tr>\n",
       "      <th>3</th>\n",
       "      <td>11.849398</td>\n",
       "    </tr>\n",
       "    <tr>\n",
       "      <th>4</th>\n",
       "      <td>12.429216</td>\n",
       "    </tr>\n",
       "    <tr>\n",
       "      <th>5</th>\n",
       "      <td>11.870600</td>\n",
       "    </tr>\n",
       "    <tr>\n",
       "      <th>6</th>\n",
       "      <td>12.634603</td>\n",
       "    </tr>\n",
       "    <tr>\n",
       "      <th>7</th>\n",
       "      <td>12.206073</td>\n",
       "    </tr>\n",
       "    <tr>\n",
       "      <th>8</th>\n",
       "      <td>11.774520</td>\n",
       "    </tr>\n",
       "    <tr>\n",
       "      <th>9</th>\n",
       "      <td>11.678440</td>\n",
       "    </tr>\n",
       "  </tbody>\n",
       "</table>\n",
       "</div>"
      ],
      "text/plain": [
       "   SalePrice\n",
       "0  12.247694\n",
       "1  12.109011\n",
       "2  12.317167\n",
       "3  11.849398\n",
       "4  12.429216\n",
       "5  11.870600\n",
       "6  12.634603\n",
       "7  12.206073\n",
       "8  11.774520\n",
       "9  11.678440"
      ]
     },
     "execution_count": 20,
     "metadata": {},
     "output_type": "execute_result"
    }
   ],
   "source": [
    "## Checking 'target_var' which contains the dependent varaible values\n",
    "\n",
    "target_var.head(10)"
   ]
  },
  {
   "cell_type": "code",
   "execution_count": 21,
   "metadata": {},
   "outputs": [
    {
     "data": {
      "text/plain": [
       "(1460, 1)"
      ]
     },
     "execution_count": 21,
     "metadata": {},
     "output_type": "execute_result"
    }
   ],
   "source": [
    "## Checking the shape of the dataframe\n",
    "\n",
    "target_var.shape"
   ]
  },
  {
   "cell_type": "code",
   "execution_count": 22,
   "metadata": {},
   "outputs": [
    {
     "name": "stdout",
     "output_type": "stream",
     "text": [
      "<class 'pandas.core.frame.DataFrame'>\n",
      "RangeIndex: 1460 entries, 0 to 1459\n",
      "Data columns (total 1 columns):\n",
      " #   Column     Non-Null Count  Dtype  \n",
      "---  ------     --------------  -----  \n",
      " 0   SalePrice  1460 non-null   float64\n",
      "dtypes: float64(1)\n",
      "memory usage: 11.5 KB\n"
     ]
    }
   ],
   "source": [
    "## Getting details about the feature present inside the dataframe\n",
    "\n",
    "target_var.info()"
   ]
  },
  {
   "cell_type": "code",
   "execution_count": 23,
   "metadata": {},
   "outputs": [
    {
     "data": {
      "text/plain": [
       "SalePrice    0\n",
       "dtype: int64"
      ]
     },
     "execution_count": 23,
     "metadata": {},
     "output_type": "execute_result"
    }
   ],
   "source": [
    "## Checking whether the dataframe has any NAN values\n",
    "\n",
    "target_var.isnull().sum()"
   ]
  },
  {
   "cell_type": "code",
   "execution_count": 24,
   "metadata": {},
   "outputs": [],
   "source": [
    "##  Define X and y\n",
    "\n",
    "X=model_data.loc[:,:]\n",
    "y=target_var.SalePrice"
   ]
  },
  {
   "cell_type": "code",
   "execution_count": 12,
   "metadata": {},
   "outputs": [
    {
     "data": {
      "text/html": [
       "<div>\n",
       "<style scoped>\n",
       "    .dataframe tbody tr th:only-of-type {\n",
       "        vertical-align: middle;\n",
       "    }\n",
       "\n",
       "    .dataframe tbody tr th {\n",
       "        vertical-align: top;\n",
       "    }\n",
       "\n",
       "    .dataframe thead th {\n",
       "        text-align: right;\n",
       "    }\n",
       "</style>\n",
       "<table border=\"1\" class=\"dataframe\">\n",
       "  <thead>\n",
       "    <tr style=\"text-align: right;\">\n",
       "      <th></th>\n",
       "      <th>MSSubClass</th>\n",
       "      <th>MSZoning</th>\n",
       "      <th>Neighborhood</th>\n",
       "      <th>OverallQual</th>\n",
       "      <th>YearRemodAdd</th>\n",
       "      <th>RoofStyle</th>\n",
       "      <th>BsmtQual</th>\n",
       "      <th>BsmtExposure</th>\n",
       "      <th>HeatingQC</th>\n",
       "      <th>CentralAir</th>\n",
       "      <th>1stFlrSF</th>\n",
       "      <th>GrLivArea</th>\n",
       "      <th>BsmtFullBath</th>\n",
       "      <th>KitchenQual</th>\n",
       "      <th>Fireplaces</th>\n",
       "      <th>FireplaceQu</th>\n",
       "      <th>GarageType</th>\n",
       "      <th>GarageFinish</th>\n",
       "      <th>GarageCars</th>\n",
       "      <th>PavedDrive</th>\n",
       "      <th>SaleCondition</th>\n",
       "    </tr>\n",
       "  </thead>\n",
       "  <tbody>\n",
       "    <tr>\n",
       "      <th>1450</th>\n",
       "      <td>0.411765</td>\n",
       "      <td>0.75</td>\n",
       "      <td>0.363636</td>\n",
       "      <td>0.444444</td>\n",
       "      <td>0.590164</td>\n",
       "      <td>0.0</td>\n",
       "      <td>0.75</td>\n",
       "      <td>0.25</td>\n",
       "      <td>0.50</td>\n",
       "      <td>1.0</td>\n",
       "      <td>0.373438</td>\n",
       "      <td>0.594282</td>\n",
       "      <td>0.000000</td>\n",
       "      <td>0.333333</td>\n",
       "      <td>0.000000</td>\n",
       "      <td>0.2</td>\n",
       "      <td>0.0</td>\n",
       "      <td>0.000000</td>\n",
       "      <td>0.00</td>\n",
       "      <td>1.0</td>\n",
       "      <td>0.75</td>\n",
       "    </tr>\n",
       "    <tr>\n",
       "      <th>1451</th>\n",
       "      <td>0.000000</td>\n",
       "      <td>0.75</td>\n",
       "      <td>0.818182</td>\n",
       "      <td>0.777778</td>\n",
       "      <td>0.016393</td>\n",
       "      <td>0.0</td>\n",
       "      <td>0.75</td>\n",
       "      <td>0.25</td>\n",
       "      <td>1.00</td>\n",
       "      <td>1.0</td>\n",
       "      <td>0.587621</td>\n",
       "      <td>0.549294</td>\n",
       "      <td>0.000000</td>\n",
       "      <td>1.000000</td>\n",
       "      <td>0.333333</td>\n",
       "      <td>0.8</td>\n",
       "      <td>0.8</td>\n",
       "      <td>1.000000</td>\n",
       "      <td>0.75</td>\n",
       "      <td>1.0</td>\n",
       "      <td>1.00</td>\n",
       "    </tr>\n",
       "    <tr>\n",
       "      <th>1452</th>\n",
       "      <td>0.941176</td>\n",
       "      <td>0.25</td>\n",
       "      <td>0.227273</td>\n",
       "      <td>0.444444</td>\n",
       "      <td>0.032787</td>\n",
       "      <td>0.0</td>\n",
       "      <td>0.75</td>\n",
       "      <td>1.00</td>\n",
       "      <td>0.75</td>\n",
       "      <td>1.0</td>\n",
       "      <td>0.441306</td>\n",
       "      <td>0.412522</td>\n",
       "      <td>0.333333</td>\n",
       "      <td>0.333333</td>\n",
       "      <td>0.000000</td>\n",
       "      <td>0.2</td>\n",
       "      <td>0.6</td>\n",
       "      <td>1.000000</td>\n",
       "      <td>0.50</td>\n",
       "      <td>1.0</td>\n",
       "      <td>0.75</td>\n",
       "    </tr>\n",
       "    <tr>\n",
       "      <th>1453</th>\n",
       "      <td>0.000000</td>\n",
       "      <td>0.75</td>\n",
       "      <td>0.409091</td>\n",
       "      <td>0.444444</td>\n",
       "      <td>0.016393</td>\n",
       "      <td>0.0</td>\n",
       "      <td>0.75</td>\n",
       "      <td>0.25</td>\n",
       "      <td>1.00</td>\n",
       "      <td>1.0</td>\n",
       "      <td>0.464581</td>\n",
       "      <td>0.434279</td>\n",
       "      <td>0.000000</td>\n",
       "      <td>0.333333</td>\n",
       "      <td>0.000000</td>\n",
       "      <td>0.2</td>\n",
       "      <td>0.0</td>\n",
       "      <td>0.000000</td>\n",
       "      <td>0.00</td>\n",
       "      <td>1.0</td>\n",
       "      <td>0.00</td>\n",
       "    </tr>\n",
       "    <tr>\n",
       "      <th>1454</th>\n",
       "      <td>0.000000</td>\n",
       "      <td>1.00</td>\n",
       "      <td>0.818182</td>\n",
       "      <td>0.666667</td>\n",
       "      <td>0.081967</td>\n",
       "      <td>0.0</td>\n",
       "      <td>0.75</td>\n",
       "      <td>0.25</td>\n",
       "      <td>1.00</td>\n",
       "      <td>1.0</td>\n",
       "      <td>0.490557</td>\n",
       "      <td>0.458561</td>\n",
       "      <td>0.333333</td>\n",
       "      <td>0.666667</td>\n",
       "      <td>0.000000</td>\n",
       "      <td>0.2</td>\n",
       "      <td>0.8</td>\n",
       "      <td>0.666667</td>\n",
       "      <td>0.50</td>\n",
       "      <td>1.0</td>\n",
       "      <td>0.75</td>\n",
       "    </tr>\n",
       "    <tr>\n",
       "      <th>1455</th>\n",
       "      <td>0.235294</td>\n",
       "      <td>0.75</td>\n",
       "      <td>0.590909</td>\n",
       "      <td>0.555556</td>\n",
       "      <td>0.131148</td>\n",
       "      <td>0.0</td>\n",
       "      <td>0.75</td>\n",
       "      <td>0.25</td>\n",
       "      <td>1.00</td>\n",
       "      <td>1.0</td>\n",
       "      <td>0.396777</td>\n",
       "      <td>0.564433</td>\n",
       "      <td>0.000000</td>\n",
       "      <td>0.333333</td>\n",
       "      <td>0.333333</td>\n",
       "      <td>0.6</td>\n",
       "      <td>0.8</td>\n",
       "      <td>0.666667</td>\n",
       "      <td>0.50</td>\n",
       "      <td>1.0</td>\n",
       "      <td>0.75</td>\n",
       "    </tr>\n",
       "    <tr>\n",
       "      <th>1456</th>\n",
       "      <td>0.000000</td>\n",
       "      <td>0.75</td>\n",
       "      <td>0.545455</td>\n",
       "      <td>0.555556</td>\n",
       "      <td>0.377049</td>\n",
       "      <td>0.0</td>\n",
       "      <td>0.75</td>\n",
       "      <td>0.25</td>\n",
       "      <td>0.50</td>\n",
       "      <td>1.0</td>\n",
       "      <td>0.690872</td>\n",
       "      <td>0.645810</td>\n",
       "      <td>0.333333</td>\n",
       "      <td>0.333333</td>\n",
       "      <td>0.666667</td>\n",
       "      <td>0.6</td>\n",
       "      <td>0.8</td>\n",
       "      <td>0.333333</td>\n",
       "      <td>0.50</td>\n",
       "      <td>1.0</td>\n",
       "      <td>0.75</td>\n",
       "    </tr>\n",
       "    <tr>\n",
       "      <th>1457</th>\n",
       "      <td>0.294118</td>\n",
       "      <td>0.75</td>\n",
       "      <td>0.727273</td>\n",
       "      <td>0.666667</td>\n",
       "      <td>0.081967</td>\n",
       "      <td>0.0</td>\n",
       "      <td>0.50</td>\n",
       "      <td>0.25</td>\n",
       "      <td>1.00</td>\n",
       "      <td>1.0</td>\n",
       "      <td>0.480189</td>\n",
       "      <td>0.688669</td>\n",
       "      <td>0.000000</td>\n",
       "      <td>0.666667</td>\n",
       "      <td>0.666667</td>\n",
       "      <td>0.8</td>\n",
       "      <td>0.8</td>\n",
       "      <td>0.666667</td>\n",
       "      <td>0.25</td>\n",
       "      <td>1.0</td>\n",
       "      <td>0.75</td>\n",
       "    </tr>\n",
       "    <tr>\n",
       "      <th>1458</th>\n",
       "      <td>0.000000</td>\n",
       "      <td>0.75</td>\n",
       "      <td>0.363636</td>\n",
       "      <td>0.444444</td>\n",
       "      <td>0.245902</td>\n",
       "      <td>1.0</td>\n",
       "      <td>0.50</td>\n",
       "      <td>0.50</td>\n",
       "      <td>0.75</td>\n",
       "      <td>1.0</td>\n",
       "      <td>0.443419</td>\n",
       "      <td>0.414497</td>\n",
       "      <td>0.333333</td>\n",
       "      <td>0.666667</td>\n",
       "      <td>0.000000</td>\n",
       "      <td>0.2</td>\n",
       "      <td>0.8</td>\n",
       "      <td>0.333333</td>\n",
       "      <td>0.25</td>\n",
       "      <td>1.0</td>\n",
       "      <td>0.75</td>\n",
       "    </tr>\n",
       "    <tr>\n",
       "      <th>1459</th>\n",
       "      <td>0.000000</td>\n",
       "      <td>0.75</td>\n",
       "      <td>0.227273</td>\n",
       "      <td>0.444444</td>\n",
       "      <td>0.721311</td>\n",
       "      <td>0.0</td>\n",
       "      <td>0.50</td>\n",
       "      <td>0.25</td>\n",
       "      <td>0.75</td>\n",
       "      <td>1.0</td>\n",
       "      <td>0.501253</td>\n",
       "      <td>0.468559</td>\n",
       "      <td>0.333333</td>\n",
       "      <td>0.333333</td>\n",
       "      <td>0.000000</td>\n",
       "      <td>0.2</td>\n",
       "      <td>0.8</td>\n",
       "      <td>1.000000</td>\n",
       "      <td>0.25</td>\n",
       "      <td>1.0</td>\n",
       "      <td>0.75</td>\n",
       "    </tr>\n",
       "  </tbody>\n",
       "</table>\n",
       "</div>"
      ],
      "text/plain": [
       "      MSSubClass  MSZoning  Neighborhood  OverallQual  YearRemodAdd  \\\n",
       "1450    0.411765      0.75      0.363636     0.444444      0.590164   \n",
       "1451    0.000000      0.75      0.818182     0.777778      0.016393   \n",
       "1452    0.941176      0.25      0.227273     0.444444      0.032787   \n",
       "1453    0.000000      0.75      0.409091     0.444444      0.016393   \n",
       "1454    0.000000      1.00      0.818182     0.666667      0.081967   \n",
       "1455    0.235294      0.75      0.590909     0.555556      0.131148   \n",
       "1456    0.000000      0.75      0.545455     0.555556      0.377049   \n",
       "1457    0.294118      0.75      0.727273     0.666667      0.081967   \n",
       "1458    0.000000      0.75      0.363636     0.444444      0.245902   \n",
       "1459    0.000000      0.75      0.227273     0.444444      0.721311   \n",
       "\n",
       "      RoofStyle  BsmtQual  BsmtExposure  HeatingQC  CentralAir  1stFlrSF  \\\n",
       "1450        0.0      0.75          0.25       0.50         1.0  0.373438   \n",
       "1451        0.0      0.75          0.25       1.00         1.0  0.587621   \n",
       "1452        0.0      0.75          1.00       0.75         1.0  0.441306   \n",
       "1453        0.0      0.75          0.25       1.00         1.0  0.464581   \n",
       "1454        0.0      0.75          0.25       1.00         1.0  0.490557   \n",
       "1455        0.0      0.75          0.25       1.00         1.0  0.396777   \n",
       "1456        0.0      0.75          0.25       0.50         1.0  0.690872   \n",
       "1457        0.0      0.50          0.25       1.00         1.0  0.480189   \n",
       "1458        1.0      0.50          0.50       0.75         1.0  0.443419   \n",
       "1459        0.0      0.50          0.25       0.75         1.0  0.501253   \n",
       "\n",
       "      GrLivArea  BsmtFullBath  KitchenQual  Fireplaces  FireplaceQu  \\\n",
       "1450   0.594282      0.000000     0.333333    0.000000          0.2   \n",
       "1451   0.549294      0.000000     1.000000    0.333333          0.8   \n",
       "1452   0.412522      0.333333     0.333333    0.000000          0.2   \n",
       "1453   0.434279      0.000000     0.333333    0.000000          0.2   \n",
       "1454   0.458561      0.333333     0.666667    0.000000          0.2   \n",
       "1455   0.564433      0.000000     0.333333    0.333333          0.6   \n",
       "1456   0.645810      0.333333     0.333333    0.666667          0.6   \n",
       "1457   0.688669      0.000000     0.666667    0.666667          0.8   \n",
       "1458   0.414497      0.333333     0.666667    0.000000          0.2   \n",
       "1459   0.468559      0.333333     0.333333    0.000000          0.2   \n",
       "\n",
       "      GarageType  GarageFinish  GarageCars  PavedDrive  SaleCondition  \n",
       "1450         0.0      0.000000        0.00         1.0           0.75  \n",
       "1451         0.8      1.000000        0.75         1.0           1.00  \n",
       "1452         0.6      1.000000        0.50         1.0           0.75  \n",
       "1453         0.0      0.000000        0.00         1.0           0.00  \n",
       "1454         0.8      0.666667        0.50         1.0           0.75  \n",
       "1455         0.8      0.666667        0.50         1.0           0.75  \n",
       "1456         0.8      0.333333        0.50         1.0           0.75  \n",
       "1457         0.8      0.666667        0.25         1.0           0.75  \n",
       "1458         0.8      0.333333        0.25         1.0           0.75  \n",
       "1459         0.8      1.000000        0.25         1.0           0.75  "
      ]
     },
     "execution_count": 12,
     "metadata": {},
     "output_type": "execute_result"
    }
   ],
   "source": [
    "X.tail(10)"
   ]
  },
  {
   "cell_type": "code",
   "execution_count": 13,
   "metadata": {},
   "outputs": [
    {
     "data": {
      "text/plain": [
       "1450    11.820410\n",
       "1451    12.567551\n",
       "1452    11.884489\n",
       "1453    11.344507\n",
       "1454    12.128111\n",
       "1455    12.072541\n",
       "1456    12.254863\n",
       "1457    12.493130\n",
       "1458    11.864462\n",
       "1459    11.901583\n",
       "Name: SalePrice, dtype: float64"
      ]
     },
     "execution_count": 13,
     "metadata": {},
     "output_type": "execute_result"
    }
   ],
   "source": [
    "y.tail(10)"
   ]
  },
  {
   "cell_type": "code",
   "execution_count": 14,
   "metadata": {},
   "outputs": [
    {
     "data": {
      "text/plain": [
       "pandas.core.frame.DataFrame"
      ]
     },
     "execution_count": 14,
     "metadata": {},
     "output_type": "execute_result"
    }
   ],
   "source": [
    "type(X)"
   ]
  },
  {
   "cell_type": "code",
   "execution_count": 15,
   "metadata": {},
   "outputs": [
    {
     "data": {
      "text/plain": [
       "pandas.core.series.Series"
      ]
     },
     "execution_count": 15,
     "metadata": {},
     "output_type": "execute_result"
    }
   ],
   "source": [
    "type(y)"
   ]
  },
  {
   "cell_type": "markdown",
   "metadata": {},
   "source": [
    "### MODEL TRAINING USING TRAIN TEST SPLIT"
   ]
  },
  {
   "cell_type": "code",
   "execution_count": 16,
   "metadata": {},
   "outputs": [],
   "source": [
    "## Train Test Split \n",
    "\n",
    "X_train, X_test, y_train, y_test= train_test_split(X,y,test_size=0.3,random_state=10)\n"
   ]
  },
  {
   "cell_type": "code",
   "execution_count": 17,
   "metadata": {},
   "outputs": [
    {
     "name": "stdout",
     "output_type": "stream",
     "text": [
      "X_train shape: (1022, 21)\n",
      "X_test shape: (438, 21)\n",
      "y_train shape: (1022,)\n",
      "y_test shape: (438,)\n"
     ]
    }
   ],
   "source": [
    "## Checking X_train, X_test, y_train, y_test shapes\n",
    "\n",
    "print(\"X_train shape:\", X_train.shape)\n",
    "print(\"X_test shape:\", X_test.shape)\n",
    "print(\"y_train shape:\", y_train.shape)\n",
    "print(\"y_test shape:\", y_test.shape)"
   ]
  },
  {
   "cell_type": "code",
   "execution_count": 18,
   "metadata": {},
   "outputs": [],
   "source": [
    "## Function for calculating model score \n",
    "\n",
    "def get_model_score (model,X_train,X_test,y_train,y_test):\n",
    "    model.fit(X_train,y_train)\n",
    "    return (model.score(X_test,y_test))"
   ]
  },
  {
   "cell_type": "code",
   "execution_count": 19,
   "metadata": {},
   "outputs": [],
   "source": [
    "## Function for calcutating  r2_score of the model\n",
    "\n",
    "def get_r2_score (model,X_train,X_test,y_train,y_test):\n",
    "    model.fit(X_train,y_train)\n",
    "    y_predict= model.predict(X_test)\n",
    "    return (r2_score(y_test,y_predict))"
   ]
  },
  {
   "cell_type": "code",
   "execution_count": 20,
   "metadata": {},
   "outputs": [],
   "source": [
    "## Function for calcutating rmse (Root Mean Square Error) score of the model\n",
    "\n",
    "def get_rmse_score (model,X_train,X_test,y_train,y_test):\n",
    "    model.fit(X_train,y_train)\n",
    "    y_predict= model.predict(X_test)\n",
    "    rmse = sqrt(mean_squared_error(y_test,y_predict))\n",
    "    return (rmse)"
   ]
  },
  {
   "cell_type": "code",
   "execution_count": 21,
   "metadata": {},
   "outputs": [],
   "source": [
    "## Function for calcutating mae (Mean Absolute Error) score of the model\n",
    "\n",
    "def get_mae_score (model,X_train,X_test,y_train,y_test):\n",
    "    model.fit(X_train,y_train)\n",
    "    y_predict= model.predict(X_test)\n",
    "    return (mean_absolute_error(y_test, y_predict))"
   ]
  },
  {
   "cell_type": "code",
   "execution_count": 22,
   "metadata": {},
   "outputs": [],
   "source": [
    "## Function for displaying y_train and y_predict values \n",
    "\n",
    "def get_y_train_y_predict (model,X_train,X_test,y_train,y_test):\n",
    "    model.fit(X_train,y_train)\n",
    "    y_predict= model.predict(X_test)\n",
    "    return (y_train[0:5],y_predict[0:5])"
   ]
  },
  {
   "cell_type": "markdown",
   "metadata": {},
   "source": [
    "### LINEAR REGRESSION"
   ]
  },
  {
   "cell_type": "markdown",
   "metadata": {},
   "source": [
    "#### CALCULATING  MODEL SCORE,  R2_SCORE,  RMSE(ROOT MEAN SQUARE ERROR),  MAE(MEAN ABSOLUTE ERROR),  Y_TRAIN AND   Y_PREDICT   FOR LINEAR REGRESSION MODEL"
   ]
  },
  {
   "cell_type": "code",
   "execution_count": 23,
   "metadata": {},
   "outputs": [
    {
     "data": {
      "text/plain": [
       "0.9045186607744512"
      ]
     },
     "execution_count": 23,
     "metadata": {},
     "output_type": "execute_result"
    }
   ],
   "source": [
    "## Calculating the model score \n",
    "\n",
    "get_model_score(LinearRegression(),X_train,X_test,y_train,y_test)"
   ]
  },
  {
   "cell_type": "code",
   "execution_count": 24,
   "metadata": {},
   "outputs": [
    {
     "data": {
      "text/plain": [
       "0.9045186607744512"
      ]
     },
     "execution_count": 24,
     "metadata": {},
     "output_type": "execute_result"
    }
   ],
   "source": [
    "## Calculating r2_score for the model\n",
    "\n",
    "get_r2_score(LinearRegression(),X_train,X_test,y_train,y_test)"
   ]
  },
  {
   "cell_type": "code",
   "execution_count": 25,
   "metadata": {},
   "outputs": [
    {
     "data": {
      "text/plain": [
       "0.12623154331407813"
      ]
     },
     "execution_count": 25,
     "metadata": {},
     "output_type": "execute_result"
    }
   ],
   "source": [
    "## Calculating rmse score for the model\n",
    "\n",
    "get_rmse_score(LinearRegression(),X_train,X_test,y_train,y_test)"
   ]
  },
  {
   "cell_type": "code",
   "execution_count": 26,
   "metadata": {},
   "outputs": [
    {
     "data": {
      "text/plain": [
       "0.09617033811414802"
      ]
     },
     "execution_count": 26,
     "metadata": {},
     "output_type": "execute_result"
    }
   ],
   "source": [
    "## Calculating mean absolute error for the model\n",
    "\n",
    "get_mae_score(LinearRegression(),X_train,X_test,y_train,y_test)"
   ]
  },
  {
   "cell_type": "code",
   "execution_count": 28,
   "metadata": {},
   "outputs": [
    {
     "data": {
      "text/plain": [
       "(912    11.385092\n",
       " 373    11.719940\n",
       " 20     12.692503\n",
       " 800    12.206073\n",
       " 152    12.154779\n",
       " Name: SalePrice, dtype: float64,\n",
       " array([12.01124377, 12.33423667, 11.71087192, 11.88051241, 12.66178648]))"
      ]
     },
     "execution_count": 28,
     "metadata": {},
     "output_type": "execute_result"
    }
   ],
   "source": [
    "## Displaying and comparing y_train and y_predict values\n",
    "\n",
    "get_y_train_y_predict(LinearRegression(),X_train,X_test,y_train,y_test)"
   ]
  },
  {
   "cell_type": "code",
   "execution_count": 29,
   "metadata": {},
   "outputs": [],
   "source": [
    "## Viewing all model evaluation metric values for Linear Regression \n",
    "\n",
    "result_linear_traintest =pd.DataFrame({'model_score': [get_model_score(LinearRegression(),X_train,X_test,y_train,y_test)],\n",
    "                                       'r2_score':[get_r2_score(LinearRegression(),X_train,X_test,y_train,y_test)],\n",
    "                                       'rmse':[get_rmse_score(LinearRegression(),X_train,X_test,y_train,y_test)],\n",
    "                                       'mae':[get_mae_score(LinearRegression(),X_train,X_test,y_train,y_test)]},\n",
    "                                       index=['Linear Regression'])\n",
    "\n",
    "# result_linear_traintest"
   ]
  },
  {
   "cell_type": "markdown",
   "metadata": {},
   "source": [
    "### RANDOM FOREST"
   ]
  },
  {
   "cell_type": "markdown",
   "metadata": {},
   "source": [
    "#### CALCULATING  MODEL SCORE,  R2_SCORE,  RMSE(ROOT MEAN SQUARE ERROR),  MAE(MEAN ABSOLUTE ERROR),  Y_TRAIN AND   Y_PREDICT   FOR RANDOM FOREST MODEL"
   ]
  },
  {
   "cell_type": "code",
   "execution_count": 30,
   "metadata": {
    "scrolled": true
   },
   "outputs": [
    {
     "data": {
      "text/plain": [
       "0.8780674302658347"
      ]
     },
     "execution_count": 30,
     "metadata": {},
     "output_type": "execute_result"
    }
   ],
   "source": [
    "## Calculating the model score \n",
    "\n",
    "get_model_score(RandomForestRegressor(n_estimators=200,random_state=10),X_train,X_test,y_train,y_test)"
   ]
  },
  {
   "cell_type": "code",
   "execution_count": 31,
   "metadata": {},
   "outputs": [
    {
     "data": {
      "text/plain": [
       "0.8780674302658347"
      ]
     },
     "execution_count": 31,
     "metadata": {},
     "output_type": "execute_result"
    }
   ],
   "source": [
    "## Calculating r2_score for the model\n",
    "\n",
    "get_r2_score(RandomForestRegressor(n_estimators=200,random_state=10),X_train,X_test,y_train,y_test)"
   ]
  },
  {
   "cell_type": "code",
   "execution_count": 32,
   "metadata": {},
   "outputs": [
    {
     "data": {
      "text/plain": [
       "0.14264892540006113"
      ]
     },
     "execution_count": 32,
     "metadata": {},
     "output_type": "execute_result"
    }
   ],
   "source": [
    "## Calculating rmse score for the model\n",
    "\n",
    "get_rmse_score(RandomForestRegressor(n_estimators=200,random_state=10),X_train,X_test,y_train,y_test)"
   ]
  },
  {
   "cell_type": "code",
   "execution_count": 33,
   "metadata": {},
   "outputs": [
    {
     "data": {
      "text/plain": [
       "0.10319791169608312"
      ]
     },
     "execution_count": 33,
     "metadata": {},
     "output_type": "execute_result"
    }
   ],
   "source": [
    "## Calculating mean absolute error for the model\n",
    "\n",
    "get_mae_score(RandomForestRegressor(n_estimators=200,random_state=10),X_train,X_test,y_train,y_test)"
   ]
  },
  {
   "cell_type": "code",
   "execution_count": 34,
   "metadata": {},
   "outputs": [
    {
     "data": {
      "text/plain": [
       "(912    11.385092\n",
       " 373    11.719940\n",
       " 20     12.692503\n",
       " 800    12.206073\n",
       " 152    12.154779\n",
       " Name: SalePrice, dtype: float64,\n",
       " array([11.90255175, 12.24917183, 11.75254117, 11.91223594, 12.70656328]))"
      ]
     },
     "execution_count": 34,
     "metadata": {},
     "output_type": "execute_result"
    }
   ],
   "source": [
    "## Displaying and comparing y_train and y_predict values\n",
    "\n",
    "get_y_train_y_predict(RandomForestRegressor(n_estimators=200,random_state=10),X_train,X_test,y_train,y_test)"
   ]
  },
  {
   "cell_type": "code",
   "execution_count": 35,
   "metadata": {},
   "outputs": [],
   "source": [
    "## Viewing all model evaluation metric values for Random Forest \n",
    "\n",
    "result_rf_traintest =pd.DataFrame({'model_score': [get_model_score(RandomForestRegressor(n_estimators=200,random_state=10),X_train,X_test,y_train,y_test)],\n",
    "                                   'r2_score':[get_r2_score(RandomForestRegressor(n_estimators=200,random_state=10),X_train,X_test,y_train,y_test)],\n",
    "                                    'rmse':[get_rmse_score(RandomForestRegressor(n_estimators=200,random_state=10),X_train,X_test,y_train,y_test)],\n",
    "                                    'mae':[get_mae_score(RandomForestRegressor(n_estimators=200,random_state=10),X_train,X_test,y_train,y_test)]},\n",
    "                                    index=['Random Forest'])\n",
    "\n",
    "# result_rf_traintest"
   ]
  },
  {
   "cell_type": "markdown",
   "metadata": {},
   "source": [
    "### XGBOOST"
   ]
  },
  {
   "cell_type": "markdown",
   "metadata": {},
   "source": [
    "#### CALCULATING  MODEL SCORE,  R2_SCORE,  RMSE(ROOT MEAN SQUARE ERROR),  MAE(MEAN ABSOLUTE ERROR),  Y_TRAIN AND   Y_PREDICT   FOR XGBOOST MODEL"
   ]
  },
  {
   "cell_type": "code",
   "execution_count": 36,
   "metadata": {},
   "outputs": [
    {
     "data": {
      "text/plain": [
       "0.9039407400604521"
      ]
     },
     "execution_count": 36,
     "metadata": {},
     "output_type": "execute_result"
    }
   ],
   "source": [
    "## Calculating the model score \n",
    "\n",
    "get_model_score(XGBRegressor(learning_rate=0.05,random_state=10,n_estimators=200),X_train,X_test,y_train,y_test)"
   ]
  },
  {
   "cell_type": "code",
   "execution_count": 37,
   "metadata": {},
   "outputs": [
    {
     "data": {
      "text/plain": [
       "0.9039407400604521"
      ]
     },
     "execution_count": 37,
     "metadata": {},
     "output_type": "execute_result"
    }
   ],
   "source": [
    "## Calculating r2_score for the model\n",
    "\n",
    "get_r2_score(XGBRegressor(learning_rate=0.05,random_state=10,n_estimators=200),X_train,X_test,y_train,y_test)"
   ]
  },
  {
   "cell_type": "code",
   "execution_count": 38,
   "metadata": {},
   "outputs": [
    {
     "data": {
      "text/plain": [
       "0.12661298835883292"
      ]
     },
     "execution_count": 38,
     "metadata": {},
     "output_type": "execute_result"
    }
   ],
   "source": [
    "## Calculating rmse score for the model\n",
    "\n",
    "get_rmse_score(XGBRegressor(learning_rate=0.05,random_state=10,n_estimators=200),X_train,X_test,y_train,y_test)"
   ]
  },
  {
   "cell_type": "code",
   "execution_count": 39,
   "metadata": {},
   "outputs": [
    {
     "data": {
      "text/plain": [
       "0.09390975344967042"
      ]
     },
     "execution_count": 39,
     "metadata": {},
     "output_type": "execute_result"
    }
   ],
   "source": [
    "## Calculating mean absolute error for the model\n",
    "\n",
    "get_mae_score(XGBRegressor(learning_rate=0.05,random_state=10,n_estimators=200),X_train,X_test,y_train,y_test)"
   ]
  },
  {
   "cell_type": "code",
   "execution_count": 40,
   "metadata": {},
   "outputs": [
    {
     "data": {
      "text/plain": [
       "(912    11.385092\n",
       " 373    11.719940\n",
       " 20     12.692503\n",
       " 800    12.206073\n",
       " 152    12.154779\n",
       " Name: SalePrice, dtype: float64,\n",
       " array([11.967659, 12.288242, 11.771351, 11.862206, 12.660163],\n",
       "       dtype=float32))"
      ]
     },
     "execution_count": 40,
     "metadata": {},
     "output_type": "execute_result"
    }
   ],
   "source": [
    "## Displaying and comparing y_train and y_predict values\n",
    "\n",
    "get_y_train_y_predict(XGBRegressor(learning_rate=0.05,random_state=10,n_estimators=200),X_train,X_test,y_train,y_test)"
   ]
  },
  {
   "cell_type": "code",
   "execution_count": 41,
   "metadata": {},
   "outputs": [],
   "source": [
    "## Viewing all model evaluation metric values for XGBOOST \n",
    "\n",
    "result_XGBOOST_traintest =pd.DataFrame({'model_score': [get_model_score(XGBRegressor(learning_rate=0.05,random_state=10,n_estimators=200),X_train,X_test,y_train,y_test)],\n",
    "                                       'r2_score':[get_r2_score(XGBRegressor(learning_rate=0.05,random_state=10,n_estimators=200),X_train,X_test,y_train,y_test)],\n",
    "                                       'rmse':[get_rmse_score(XGBRegressor(learning_rate=0.05,random_state=10,n_estimators=200),X_train,X_test,y_train,y_test)],\n",
    "                                       'mae':[get_mae_score(XGBRegressor(learning_rate=0.05,random_state=10,n_estimators=200),X_train,X_test,y_train,y_test)]},\n",
    "                                       index=['XGBOOST'])\n",
    "\n",
    "# result_XGBOOST_traintest"
   ]
  },
  {
   "cell_type": "markdown",
   "metadata": {},
   "source": [
    "### KNN"
   ]
  },
  {
   "cell_type": "markdown",
   "metadata": {},
   "source": [
    "#### CALCULATING  MODEL SCORE,  R2_SCORE,  RMSE(ROOT MEAN SQUARE ERROR),  MAE(MEAN ABSOLUTE ERROR),  Y_TRAIN AND   Y_PREDICT   FOR KNN MODEL"
   ]
  },
  {
   "cell_type": "code",
   "execution_count": 42,
   "metadata": {},
   "outputs": [
    {
     "data": {
      "text/plain": [
       "0.8034588938853509"
      ]
     },
     "execution_count": 42,
     "metadata": {},
     "output_type": "execute_result"
    }
   ],
   "source": [
    "## Calculating the model score \n",
    "\n",
    "get_model_score(KNeighborsRegressor(n_neighbors=7),X_train,X_test,y_train,y_test)"
   ]
  },
  {
   "cell_type": "code",
   "execution_count": 43,
   "metadata": {},
   "outputs": [
    {
     "data": {
      "text/plain": [
       "0.8034588938853509"
      ]
     },
     "execution_count": 43,
     "metadata": {},
     "output_type": "execute_result"
    }
   ],
   "source": [
    "## Calculating r2_score for the model\n",
    "\n",
    "get_r2_score(KNeighborsRegressor(n_neighbors=7),X_train,X_test,y_train,y_test)"
   ]
  },
  {
   "cell_type": "code",
   "execution_count": 44,
   "metadata": {},
   "outputs": [
    {
     "data": {
      "text/plain": [
       "0.18110704268636188"
      ]
     },
     "execution_count": 44,
     "metadata": {},
     "output_type": "execute_result"
    }
   ],
   "source": [
    "## Calculating rmse score for the model\n",
    "\n",
    "get_rmse_score(KNeighborsRegressor(n_neighbors=7),X_train,X_test,y_train,y_test)"
   ]
  },
  {
   "cell_type": "code",
   "execution_count": 45,
   "metadata": {},
   "outputs": [
    {
     "data": {
      "text/plain": [
       "0.13347669558654582"
      ]
     },
     "execution_count": 45,
     "metadata": {},
     "output_type": "execute_result"
    }
   ],
   "source": [
    "## Calculating mean absolute error for the model\n",
    "\n",
    "get_mae_score(KNeighborsRegressor(n_neighbors=7),X_train,X_test,y_train,y_test)"
   ]
  },
  {
   "cell_type": "code",
   "execution_count": 46,
   "metadata": {},
   "outputs": [
    {
     "data": {
      "text/plain": [
       "(912    11.385092\n",
       " 373    11.719940\n",
       " 20     12.692503\n",
       " 800    12.206073\n",
       " 152    12.154779\n",
       " Name: SalePrice, dtype: float64,\n",
       " array([11.98047689, 12.39617801, 11.90017953, 11.93539986, 12.4910143 ]))"
      ]
     },
     "execution_count": 46,
     "metadata": {},
     "output_type": "execute_result"
    }
   ],
   "source": [
    "## Displaying and comparing y_train and y_predict values\n",
    "\n",
    "get_y_train_y_predict(KNeighborsRegressor(n_neighbors=7),X_train,X_test,y_train,y_test)"
   ]
  },
  {
   "cell_type": "code",
   "execution_count": 47,
   "metadata": {},
   "outputs": [],
   "source": [
    "## Viewing all model evaluation metric values for KNN \n",
    "\n",
    "result_KNN_traintest =pd.DataFrame({'model_score': [get_model_score(KNeighborsRegressor(n_neighbors=7),X_train,X_test,y_train,y_test)],\n",
    "                                       'r2_score':[get_r2_score(KNeighborsRegressor(n_neighbors=7),X_train,X_test,y_train,y_test)],\n",
    "                                       'rmse':[get_rmse_score(KNeighborsRegressor(n_neighbors=7),X_train,X_test,y_train,y_test)],\n",
    "                                       'mae':[get_mae_score(KNeighborsRegressor(n_neighbors=7),X_train,X_test,y_train,y_test)]},\n",
    "                                       index=['KNN'])\n",
    "\n",
    "# result_KNN_traintest"
   ]
  },
  {
   "cell_type": "markdown",
   "metadata": {},
   "source": [
    "### SVR"
   ]
  },
  {
   "cell_type": "markdown",
   "metadata": {},
   "source": [
    "#### CALCULATING  MODEL SCORE,  R2_SCORE,  RMSE(ROOT MEAN SQUARE ERROR),  MAE(MEAN ABSOLUTE ERROR),  Y_TRAIN AND   Y_PREDICT   FOR SVR MODEL"
   ]
  },
  {
   "cell_type": "code",
   "execution_count": 48,
   "metadata": {},
   "outputs": [
    {
     "data": {
      "text/plain": [
       "0.894998826770466"
      ]
     },
     "execution_count": 48,
     "metadata": {},
     "output_type": "execute_result"
    }
   ],
   "source": [
    "## Calculating the model score  #C--0.1 to 1000 #gamma---0.01 to 10\n",
    "\n",
    "get_model_score(SVR(C=4,gamma=0.2,kernel='rbf'),X_train,X_test,y_train,y_test)"
   ]
  },
  {
   "cell_type": "code",
   "execution_count": 49,
   "metadata": {},
   "outputs": [
    {
     "data": {
      "text/plain": [
       "0.894998826770466"
      ]
     },
     "execution_count": 49,
     "metadata": {},
     "output_type": "execute_result"
    }
   ],
   "source": [
    "## Calculating r2_score for the model\n",
    "\n",
    "get_r2_score(SVR(C=4,gamma=0.2,kernel='rbf'),X_train,X_test,y_train,y_test)"
   ]
  },
  {
   "cell_type": "code",
   "execution_count": 50,
   "metadata": {},
   "outputs": [
    {
     "data": {
      "text/plain": [
       "0.13237492190183475"
      ]
     },
     "execution_count": 50,
     "metadata": {},
     "output_type": "execute_result"
    }
   ],
   "source": [
    "## Calculating rmse score for the model\n",
    "\n",
    "get_rmse_score(SVR(C=4,gamma=0.2,kernel='rbf'),X_train,X_test,y_train,y_test)"
   ]
  },
  {
   "cell_type": "code",
   "execution_count": 51,
   "metadata": {},
   "outputs": [
    {
     "data": {
      "text/plain": [
       "0.100169603914134"
      ]
     },
     "execution_count": 51,
     "metadata": {},
     "output_type": "execute_result"
    }
   ],
   "source": [
    "## Calculating mean absolute error for the model\n",
    "\n",
    "get_mae_score(SVR(C=4,gamma=0.2,kernel='rbf'),X_train,X_test,y_train,y_test)"
   ]
  },
  {
   "cell_type": "code",
   "execution_count": 52,
   "metadata": {},
   "outputs": [
    {
     "data": {
      "text/plain": [
       "(912    11.385092\n",
       " 373    11.719940\n",
       " 20     12.692503\n",
       " 800    12.206073\n",
       " 152    12.154779\n",
       " Name: SalePrice, dtype: float64,\n",
       " array([11.93315003, 12.28873862, 11.77078287, 11.86425653, 12.66351356]))"
      ]
     },
     "execution_count": 52,
     "metadata": {},
     "output_type": "execute_result"
    }
   ],
   "source": [
    "## Displaying and comparing y_train and y_predict values\n",
    "\n",
    "get_y_train_y_predict(SVR(C=4,gamma=0.2,kernel='rbf'),X_train,X_test,y_train,y_test)"
   ]
  },
  {
   "cell_type": "code",
   "execution_count": 53,
   "metadata": {},
   "outputs": [],
   "source": [
    "## Viewing all model evaluation metric values for SVR\n",
    "\n",
    "result_SVR_traintest =pd.DataFrame({'model_score': [get_model_score(SVR(C=4,gamma=0.2,kernel='rbf'),X_train,X_test,y_train,y_test)],\n",
    "                                       'r2_score':[get_r2_score(SVR(C=4,gamma=0.2,kernel='rbf'),X_train,X_test,y_train,y_test)],\n",
    "                                       'rmse':[get_rmse_score(SVR(C=4,gamma=0.2,kernel='rbf'),X_train,X_test,y_train,y_test)],\n",
    "                                       'mae':[get_mae_score(SVR(C=4,gamma=0.2,kernel='rbf'),X_train,X_test,y_train,y_test)]},\n",
    "                                       index=['SVR'])\n",
    "\n",
    "# result_SVR_traintest"
   ]
  },
  {
   "cell_type": "code",
   "execution_count": null,
   "metadata": {},
   "outputs": [],
   "source": []
  },
  {
   "cell_type": "code",
   "execution_count": 168,
   "metadata": {},
   "outputs": [
    {
     "data": {
      "text/html": [
       "<div>\n",
       "<style scoped>\n",
       "    .dataframe tbody tr th:only-of-type {\n",
       "        vertical-align: middle;\n",
       "    }\n",
       "\n",
       "    .dataframe tbody tr th {\n",
       "        vertical-align: top;\n",
       "    }\n",
       "\n",
       "    .dataframe thead th {\n",
       "        text-align: right;\n",
       "    }\n",
       "</style>\n",
       "<table border=\"1\" class=\"dataframe\">\n",
       "  <thead>\n",
       "    <tr style=\"text-align: right;\">\n",
       "      <th></th>\n",
       "      <th>model_score</th>\n",
       "      <th>r2_score</th>\n",
       "      <th>rmse</th>\n",
       "      <th>mae</th>\n",
       "    </tr>\n",
       "  </thead>\n",
       "  <tbody>\n",
       "    <tr>\n",
       "      <th>Linear Regression</th>\n",
       "      <td>0.904519</td>\n",
       "      <td>0.904519</td>\n",
       "      <td>0.126232</td>\n",
       "      <td>0.096170</td>\n",
       "    </tr>\n",
       "    <tr>\n",
       "      <th>XGBOOST</th>\n",
       "      <td>0.903941</td>\n",
       "      <td>0.903941</td>\n",
       "      <td>0.126613</td>\n",
       "      <td>0.093910</td>\n",
       "    </tr>\n",
       "    <tr>\n",
       "      <th>SVR</th>\n",
       "      <td>0.894999</td>\n",
       "      <td>0.894999</td>\n",
       "      <td>0.132375</td>\n",
       "      <td>0.100170</td>\n",
       "    </tr>\n",
       "    <tr>\n",
       "      <th>Random Forest</th>\n",
       "      <td>0.878067</td>\n",
       "      <td>0.878067</td>\n",
       "      <td>0.142649</td>\n",
       "      <td>0.103198</td>\n",
       "    </tr>\n",
       "    <tr>\n",
       "      <th>KNN</th>\n",
       "      <td>0.803459</td>\n",
       "      <td>0.803459</td>\n",
       "      <td>0.181107</td>\n",
       "      <td>0.133477</td>\n",
       "    </tr>\n",
       "  </tbody>\n",
       "</table>\n",
       "</div>"
      ],
      "text/plain": [
       "                   model_score  r2_score      rmse       mae\n",
       "Linear Regression     0.904519  0.904519  0.126232  0.096170\n",
       "XGBOOST               0.903941  0.903941  0.126613  0.093910\n",
       "SVR                   0.894999  0.894999  0.132375  0.100170\n",
       "Random Forest         0.878067  0.878067  0.142649  0.103198\n",
       "KNN                   0.803459  0.803459  0.181107  0.133477"
      ]
     },
     "execution_count": 168,
     "metadata": {},
     "output_type": "execute_result"
    }
   ],
   "source": [
    "## Comparing all the model evaluation metric values for train test split method for different machine learning models\n",
    "\n",
    "result_traintest=pd.concat([result_linear_traintest,result_rf_traintest,result_XGBOOST_traintest,result_KNN_traintest,\n",
    "                            result_SVR_traintest],\n",
    "                           axis=0)\n",
    "\n",
    "## Displaying the final result in ascending order by column names\n",
    "\n",
    "result_traintest.sort_values(by=['model_score','r2_score'],ascending=False)"
   ]
  },
  {
   "cell_type": "code",
   "execution_count": null,
   "metadata": {},
   "outputs": [],
   "source": []
  },
  {
   "cell_type": "markdown",
   "metadata": {},
   "source": [
    "### MODEL TRAINING USING CROSS VALIDATION"
   ]
  },
  {
   "cell_type": "code",
   "execution_count": 55,
   "metadata": {},
   "outputs": [],
   "source": [
    "## Loading the independent/predictor variables\n",
    "\n",
    "model_data=pd.read_csv('model_data.csv')\n",
    "\n",
    "## Loading the dependent/target variable\n",
    "\n",
    "target_var=pd.read_csv('y_train.csv')"
   ]
  },
  {
   "cell_type": "code",
   "execution_count": 56,
   "metadata": {},
   "outputs": [],
   "source": [
    "##  4. Define X and y\n",
    "\n",
    "X=model_data.loc[:,:]\n",
    "y=target_var.SalePrice"
   ]
  },
  {
   "cell_type": "code",
   "execution_count": null,
   "metadata": {},
   "outputs": [],
   "source": []
  },
  {
   "cell_type": "markdown",
   "metadata": {},
   "source": [
    "### LINEAR REGRESSION"
   ]
  },
  {
   "cell_type": "markdown",
   "metadata": {},
   "source": [
    "#### Calculating the cross validation score for Linear Regression model"
   ]
  },
  {
   "cell_type": "code",
   "execution_count": 57,
   "metadata": {
    "scrolled": true
   },
   "outputs": [
    {
     "data": {
      "text/plain": [
       "array([0.89278531, 0.90807213, 0.90241061, 0.8701609 , 0.88408339,\n",
       "       0.89895816, 0.88405797, 0.88893272, 0.80872116, 0.87082485])"
      ]
     },
     "execution_count": 57,
     "metadata": {},
     "output_type": "execute_result"
    }
   ],
   "source": [
    "cross_val_score(LinearRegression(),X,y,cv=10)"
   ]
  },
  {
   "cell_type": "code",
   "execution_count": 58,
   "metadata": {},
   "outputs": [
    {
     "data": {
      "text/plain": [
       "0.8809007195097893"
      ]
     },
     "execution_count": 58,
     "metadata": {},
     "output_type": "execute_result"
    }
   ],
   "source": [
    "cross_val_score(LinearRegression(),X,y,cv=10).mean()"
   ]
  },
  {
   "cell_type": "markdown",
   "metadata": {},
   "source": [
    "### RANDOM FOREST"
   ]
  },
  {
   "cell_type": "markdown",
   "metadata": {},
   "source": [
    "#### Calculating the cross validation score for Random Forest model "
   ]
  },
  {
   "cell_type": "code",
   "execution_count": 59,
   "metadata": {
    "scrolled": true
   },
   "outputs": [
    {
     "data": {
      "text/plain": [
       "array([0.86447141, 0.8974821 , 0.889042  , 0.83998966, 0.87069778,\n",
       "       0.88937201, 0.89536344, 0.89275378, 0.87862965, 0.82357128])"
      ]
     },
     "execution_count": 59,
     "metadata": {},
     "output_type": "execute_result"
    }
   ],
   "source": [
    "cross_val_score(RandomForestRegressor(n_estimators=200,random_state=10),X,y,cv=10)"
   ]
  },
  {
   "cell_type": "code",
   "execution_count": 60,
   "metadata": {
    "scrolled": true
   },
   "outputs": [
    {
     "data": {
      "text/plain": [
       "0.8741373110130544"
      ]
     },
     "execution_count": 60,
     "metadata": {},
     "output_type": "execute_result"
    }
   ],
   "source": [
    "cross_val_score(RandomForestRegressor(n_estimators=200,random_state=10),X,y,cv=10).mean()"
   ]
  },
  {
   "cell_type": "markdown",
   "metadata": {},
   "source": [
    "### XGBOOST"
   ]
  },
  {
   "cell_type": "markdown",
   "metadata": {},
   "source": [
    "#### Calculating the cross validation score for XGBOOST model "
   ]
  },
  {
   "cell_type": "code",
   "execution_count": 61,
   "metadata": {},
   "outputs": [
    {
     "data": {
      "text/plain": [
       "array([0.88800959, 0.91027847, 0.89839597, 0.88021405, 0.88525387,\n",
       "       0.91617626, 0.90987396, 0.89570805, 0.8770334 , 0.85438231])"
      ]
     },
     "execution_count": 61,
     "metadata": {},
     "output_type": "execute_result"
    }
   ],
   "source": [
    "cross_val_score(XGBRegressor(learning_rate=0.05,random_state=10,n_estimators=200),X,y,cv=10)"
   ]
  },
  {
   "cell_type": "code",
   "execution_count": 62,
   "metadata": {},
   "outputs": [
    {
     "data": {
      "text/plain": [
       "0.8915325932873662"
      ]
     },
     "execution_count": 62,
     "metadata": {},
     "output_type": "execute_result"
    }
   ],
   "source": [
    "cross_val_score(XGBRegressor(learning_rate=0.05,random_state=10,n_estimators=200),X,y,cv=10).mean()"
   ]
  },
  {
   "cell_type": "markdown",
   "metadata": {},
   "source": [
    "### KNN"
   ]
  },
  {
   "cell_type": "markdown",
   "metadata": {},
   "source": [
    "#### Calculating the cross validation score for KNN model "
   ]
  },
  {
   "cell_type": "code",
   "execution_count": 63,
   "metadata": {},
   "outputs": [
    {
     "data": {
      "text/plain": [
       "array([0.831171  , 0.81591608, 0.82008086, 0.79234589, 0.79821717,\n",
       "       0.81148038, 0.76298357, 0.80346604, 0.76053519, 0.76550311])"
      ]
     },
     "execution_count": 63,
     "metadata": {},
     "output_type": "execute_result"
    }
   ],
   "source": [
    "cross_val_score(KNeighborsRegressor(n_neighbors=7),X,y,cv=10)"
   ]
  },
  {
   "cell_type": "code",
   "execution_count": 64,
   "metadata": {},
   "outputs": [
    {
     "data": {
      "text/plain": [
       "0.7961699298686991"
      ]
     },
     "execution_count": 64,
     "metadata": {},
     "output_type": "execute_result"
    }
   ],
   "source": [
    "cross_val_score(KNeighborsRegressor(n_neighbors=7),X,y,cv=10).mean()"
   ]
  },
  {
   "cell_type": "markdown",
   "metadata": {},
   "source": [
    "### SVR"
   ]
  },
  {
   "cell_type": "markdown",
   "metadata": {},
   "source": [
    "#### Calculating the cross validation score for SVR model"
   ]
  },
  {
   "cell_type": "code",
   "execution_count": 65,
   "metadata": {},
   "outputs": [
    {
     "data": {
      "text/plain": [
       "array([0.88894262, 0.91944731, 0.89542299, 0.87343852, 0.89262201,\n",
       "       0.91492951, 0.88952842, 0.88611285, 0.84227032, 0.86676284])"
      ]
     },
     "execution_count": 65,
     "metadata": {},
     "output_type": "execute_result"
    }
   ],
   "source": [
    "cross_val_score(SVR(C=4,gamma=0.2,kernel='rbf'),X,y,cv=10)"
   ]
  },
  {
   "cell_type": "code",
   "execution_count": 66,
   "metadata": {},
   "outputs": [
    {
     "data": {
      "text/plain": [
       "0.8869477387685534"
      ]
     },
     "execution_count": 66,
     "metadata": {},
     "output_type": "execute_result"
    }
   ],
   "source": [
    "cross_val_score(SVR(C=4,gamma=0.2,kernel='rbf'),X,y,cv=10).mean()"
   ]
  },
  {
   "cell_type": "code",
   "execution_count": null,
   "metadata": {},
   "outputs": [],
   "source": []
  },
  {
   "cell_type": "code",
   "execution_count": 176,
   "metadata": {},
   "outputs": [
    {
     "data": {
      "text/html": [
       "<div>\n",
       "<style scoped>\n",
       "    .dataframe tbody tr th:only-of-type {\n",
       "        vertical-align: middle;\n",
       "    }\n",
       "\n",
       "    .dataframe tbody tr th {\n",
       "        vertical-align: top;\n",
       "    }\n",
       "\n",
       "    .dataframe thead th {\n",
       "        text-align: right;\n",
       "    }\n",
       "</style>\n",
       "<table border=\"1\" class=\"dataframe\">\n",
       "  <thead>\n",
       "    <tr style=\"text-align: right;\">\n",
       "      <th></th>\n",
       "      <th>cross_val_score</th>\n",
       "    </tr>\n",
       "  </thead>\n",
       "  <tbody>\n",
       "    <tr>\n",
       "      <th>XGBOOST</th>\n",
       "      <td>0.891533</td>\n",
       "    </tr>\n",
       "    <tr>\n",
       "      <th>SVR</th>\n",
       "      <td>0.886948</td>\n",
       "    </tr>\n",
       "    <tr>\n",
       "      <th>Linear Regression</th>\n",
       "      <td>0.880901</td>\n",
       "    </tr>\n",
       "    <tr>\n",
       "      <th>Random Forest</th>\n",
       "      <td>0.874137</td>\n",
       "    </tr>\n",
       "    <tr>\n",
       "      <th>KNN</th>\n",
       "      <td>0.796170</td>\n",
       "    </tr>\n",
       "  </tbody>\n",
       "</table>\n",
       "</div>"
      ],
      "text/plain": [
       "                   cross_val_score\n",
       "XGBOOST                   0.891533\n",
       "SVR                       0.886948\n",
       "Linear Regression         0.880901\n",
       "Random Forest             0.874137\n",
       "KNN                       0.796170"
      ]
     },
     "execution_count": 176,
     "metadata": {},
     "output_type": "execute_result"
    }
   ],
   "source": [
    "## Converting cross validation score of Linear model into dataframe\n",
    "\n",
    "result_linear_crossval =pd.DataFrame({'cross_val_score': [cross_val_score(LinearRegression(),X,y,cv=10).mean()]},\n",
    "                                       index=['Linear Regression'])\n",
    "\n",
    "## Converting cross validation score of Random Forest model into dataframe\n",
    "\n",
    "result_rf_crossval =pd.DataFrame({'cross_val_score': [cross_val_score(RandomForestRegressor(n_estimators=200,random_state=10),\n",
    "                                                      X,y,cv=10).mean()]},\n",
    "                                   index=['Random Forest'])\n",
    "\n",
    "## Converting cross validation score of XGBOOST model into dataframe\n",
    "\n",
    "result_XGBOOST_crossval =pd.DataFrame({'cross_val_score': [cross_val_score(XGBRegressor(learning_rate=0.05,random_state=10,\n",
    "                                                          n_estimators=200),X,y,cv=10).mean()]},\n",
    "                                       index=['XGBOOST'])\n",
    "\n",
    "## Converting cross validation score of KNN model into dataframe\n",
    "\n",
    "result_KNN_crossval =pd.DataFrame({'cross_val_score': [cross_val_score(KNeighborsRegressor(n_neighbors=7),X,y,cv=10).mean()]},\n",
    "                                       index=['KNN'])\n",
    "\n",
    "\n",
    "## Converting cross validation score of SVR model into dataframe\n",
    "\n",
    "result_SVR_crossval =pd.DataFrame({'cross_val_score': [cross_val_score(SVR(C=4,gamma=0.2,kernel='rbf'),X,y,cv=10).mean()]},\n",
    "                                       index=['SVR'])\n",
    "\n",
    "\n",
    "## Comparing all the cross validation scores for cross validation method for different machine learning models\n",
    "\n",
    "result_crossval=pd.concat([result_linear_crossval,result_rf_crossval,result_XGBOOST_crossval,result_KNN_crossval,result_SVR_crossval],\n",
    "                          axis=0)\n",
    "\n",
    "## Displaying the final result in ascending order by column names\n",
    "\n",
    "result_crossval.sort_values(by=['cross_val_score'],ascending=False)"
   ]
  },
  {
   "cell_type": "code",
   "execution_count": 179,
   "metadata": {},
   "outputs": [
    {
     "data": {
      "text/html": [
       "<div>\n",
       "<style scoped>\n",
       "    .dataframe tbody tr th:only-of-type {\n",
       "        vertical-align: middle;\n",
       "    }\n",
       "\n",
       "    .dataframe tbody tr th {\n",
       "        vertical-align: top;\n",
       "    }\n",
       "\n",
       "    .dataframe thead th {\n",
       "        text-align: right;\n",
       "    }\n",
       "</style>\n",
       "<table border=\"1\" class=\"dataframe\">\n",
       "  <thead>\n",
       "    <tr style=\"text-align: right;\">\n",
       "      <th></th>\n",
       "      <th>model_score</th>\n",
       "      <th>r2_score</th>\n",
       "      <th>rmse</th>\n",
       "      <th>mae</th>\n",
       "      <th>cross_val_score</th>\n",
       "    </tr>\n",
       "  </thead>\n",
       "  <tbody>\n",
       "    <tr>\n",
       "      <th>Linear Regression</th>\n",
       "      <td>0.904519</td>\n",
       "      <td>0.904519</td>\n",
       "      <td>0.126232</td>\n",
       "      <td>0.096170</td>\n",
       "      <td>0.880901</td>\n",
       "    </tr>\n",
       "    <tr>\n",
       "      <th>Random Forest</th>\n",
       "      <td>0.878067</td>\n",
       "      <td>0.878067</td>\n",
       "      <td>0.142649</td>\n",
       "      <td>0.103198</td>\n",
       "      <td>0.874137</td>\n",
       "    </tr>\n",
       "    <tr>\n",
       "      <th>XGBOOST</th>\n",
       "      <td>0.903941</td>\n",
       "      <td>0.903941</td>\n",
       "      <td>0.126613</td>\n",
       "      <td>0.093910</td>\n",
       "      <td>0.891533</td>\n",
       "    </tr>\n",
       "    <tr>\n",
       "      <th>KNN</th>\n",
       "      <td>0.803459</td>\n",
       "      <td>0.803459</td>\n",
       "      <td>0.181107</td>\n",
       "      <td>0.133477</td>\n",
       "      <td>0.796170</td>\n",
       "    </tr>\n",
       "    <tr>\n",
       "      <th>SVR</th>\n",
       "      <td>0.894999</td>\n",
       "      <td>0.894999</td>\n",
       "      <td>0.132375</td>\n",
       "      <td>0.100170</td>\n",
       "      <td>0.886948</td>\n",
       "    </tr>\n",
       "  </tbody>\n",
       "</table>\n",
       "</div>"
      ],
      "text/plain": [
       "                   model_score  r2_score      rmse       mae  cross_val_score\n",
       "Linear Regression     0.904519  0.904519  0.126232  0.096170         0.880901\n",
       "Random Forest         0.878067  0.878067  0.142649  0.103198         0.874137\n",
       "XGBOOST               0.903941  0.903941  0.126613  0.093910         0.891533\n",
       "KNN                   0.803459  0.803459  0.181107  0.133477         0.796170\n",
       "SVR                   0.894999  0.894999  0.132375  0.100170         0.886948"
      ]
     },
     "execution_count": 179,
     "metadata": {},
     "output_type": "execute_result"
    }
   ],
   "source": [
    "## Viewing and comparing all the model evaluation metrics values of different models without hyperparameter optimization\n",
    "\n",
    "result_without_hyperparamtune=result_traintest.merge(result_crossval, left_index=True, right_index=True)\n",
    "\n",
    "# result_without_hyperparamtune=result_crossval.merge(result_traintest)\n",
    "\n",
    "result_without_hyperparamtune"
   ]
  },
  {
   "cell_type": "markdown",
   "metadata": {},
   "source": [
    "### HYPER PARAMETER OPTIMIZATION FOR RANDOM FOREST"
   ]
  },
  {
   "cell_type": "markdown",
   "metadata": {},
   "source": [
    "#### RANDOMISED SEARCH CV"
   ]
  },
  {
   "cell_type": "code",
   "execution_count": 82,
   "metadata": {},
   "outputs": [
    {
     "name": "stdout",
     "output_type": "stream",
     "text": [
      "{'n_estimators': [200, 400, 600, 800, 1000, 1200, 1400, 1600, 1800, 2000], 'max_features': ['auto', 'sqrt', 'log2'], 'max_depth': [10, 120, 230, 340, 450, 560, 670, 780, 890, 1000], 'min_samples_split': [2, 5, 10, 14], 'min_samples_leaf': [1, 2, 4, 6, 8]}\n"
     ]
    }
   ],
   "source": [
    "## Number of trees in random forest\n",
    "\n",
    "n_estimators = [int(x) for x in np.linspace(start = 200, stop = 2000, num = 10)]\n",
    "\n",
    "## Defining the number of features to be considered at every split\n",
    "\n",
    "max_features = ['auto', 'sqrt','log2']\n",
    "\n",
    "## Defining maximum number of levels in tree\n",
    "\n",
    "max_depth = [int(x) for x in np.linspace(10, 1000,10)]\n",
    "\n",
    "## Defining minimum number of samples required to split a node\n",
    "\n",
    "min_samples_split = [2, 5, 10,14]\n",
    "\n",
    "## Defining minimum number of samples required at each leaf node\n",
    "\n",
    "min_samples_leaf = [1, 2, 4,6,8]\n",
    "\n",
    "\n",
    "random_grid_rf = {'n_estimators': n_estimators,\n",
    "               'max_features': max_features,\n",
    "               'max_depth': max_depth,\n",
    "               'min_samples_split': min_samples_split,\n",
    "               'min_samples_leaf': min_samples_leaf,\n",
    "               }\n",
    "\n",
    "print(random_grid_rf)"
   ]
  },
  {
   "cell_type": "markdown",
   "metadata": {},
   "source": [
    "#### FITTING RANDOMIZED SEARCH CV TO TRAIN TEST SPLIT DATA"
   ]
  },
  {
   "cell_type": "code",
   "execution_count": 69,
   "metadata": {
    "collapsed": true
   },
   "outputs": [
    {
     "name": "stdout",
     "output_type": "stream",
     "text": [
      "Fitting 4 folds for each of 10 candidates, totalling 40 fits\n"
     ]
    },
    {
     "name": "stderr",
     "output_type": "stream",
     "text": [
      "[Parallel(n_jobs=-1)]: Using backend LokyBackend with 8 concurrent workers.\n",
      "[Parallel(n_jobs=-1)]: Done  25 tasks      | elapsed:   22.9s\n",
      "[Parallel(n_jobs=-1)]: Done  40 out of  40 | elapsed:   34.9s finished\n"
     ]
    },
    {
     "data": {
      "text/plain": [
       "RandomizedSearchCV(cv=4, estimator=RandomForestRegressor(), n_jobs=-1,\n",
       "                   param_distributions={'max_depth': [10, 120, 230, 340, 450,\n",
       "                                                      560, 670, 780, 890,\n",
       "                                                      1000],\n",
       "                                        'max_features': ['auto', 'sqrt',\n",
       "                                                         'log2'],\n",
       "                                        'min_samples_leaf': [1, 2, 4, 6, 8],\n",
       "                                        'min_samples_split': [2, 5, 10, 14],\n",
       "                                        'n_estimators': [200, 400, 600, 800,\n",
       "                                                         1000, 1200, 1400, 1600,\n",
       "                                                         1800, 2000]},\n",
       "                   random_state=10, verbose=2)"
      ]
     },
     "execution_count": 69,
     "metadata": {},
     "output_type": "execute_result"
    }
   ],
   "source": [
    "rf=RandomForestRegressor()\n",
    "rf_randomcv=RandomizedSearchCV(estimator=rf,param_distributions=random_grid_rf,n_iter=10,cv=4,verbose=2,\n",
    "                               random_state=10,n_jobs=-1)\n",
    "### fit the randomized model\n",
    "rf_randomcv.fit(X_train,y_train)"
   ]
  },
  {
   "cell_type": "markdown",
   "metadata": {},
   "source": [
    "#### FINDING THE BEST PARAMETER VALUES FOR DIFFERENT 'n_iter' AND 'cv'"
   ]
  },
  {
   "cell_type": "code",
   "execution_count": 77,
   "metadata": {},
   "outputs": [
    {
     "data": {
      "text/plain": [
       "{'n_estimators': 2000,\n",
       " 'min_samples_split': 2,\n",
       " 'min_samples_leaf': 1,\n",
       " 'max_features': 'sqrt',\n",
       " 'max_depth': 340}"
      ]
     },
     "execution_count": 77,
     "metadata": {},
     "output_type": "execute_result"
    }
   ],
   "source": [
    "rf_randomcv.best_params_ #for n_iter=10,cv=4  "
   ]
  },
  {
   "cell_type": "markdown",
   "metadata": {},
   "source": [
    "#### Applying tuned hyper parameters using train test split technique for Random Forest"
   ]
  },
  {
   "cell_type": "code",
   "execution_count": 75,
   "metadata": {
    "scrolled": true
   },
   "outputs": [
    {
     "data": {
      "text/plain": [
       "0.8870491847954503"
      ]
     },
     "execution_count": 75,
     "metadata": {},
     "output_type": "execute_result"
    }
   ],
   "source": [
    "## For n_iter=10,cv=4,RANDOM FOREST,(n_estimators=2000,max_depth=340, max_features='sqrt', min_samples_leaf=1,\n",
    "## min_samples_split= 2),RANDOM STATE=10\n",
    "\n",
    "\n",
    "## Calculating the model score with tuned hyperparameters\n",
    "\n",
    "get_model_score(RandomForestRegressor(n_estimators= 2000,min_samples_split= 2,min_samples_leaf= 1,\n",
    "                                      max_features= 'sqrt',max_depth= 340,random_state=10),X_train,X_test,y_train,y_test)"
   ]
  },
  {
   "cell_type": "code",
   "execution_count": 76,
   "metadata": {},
   "outputs": [
    {
     "data": {
      "text/plain": [
       "0.8870491847954503"
      ]
     },
     "execution_count": 76,
     "metadata": {},
     "output_type": "execute_result"
    }
   ],
   "source": [
    "## For n_iter=10,cv=4,RANDOM FOREST,(n_estimators=2000,max_depth=340, max_features='sqrt', min_samples_leaf=1,\n",
    "## min_samples_split= 2),RANDOM STATE=10\n",
    "\n",
    "## Calculating r2_score for the model with tuned hyperparameters\n",
    "\n",
    "get_r2_score(RandomForestRegressor(n_estimators= 2000,min_samples_split= 2,min_samples_leaf= 1,\n",
    "                                   max_features= 'sqrt',max_depth= 340,random_state=10),X_train,X_test,y_train,y_test)"
   ]
  },
  {
   "cell_type": "code",
   "execution_count": 77,
   "metadata": {},
   "outputs": [
    {
     "data": {
      "text/plain": [
       "0.1372945588341894"
      ]
     },
     "execution_count": 77,
     "metadata": {},
     "output_type": "execute_result"
    }
   ],
   "source": [
    "## For n_iter=10,cv=4,RANDOM FOREST,(n_estimators=2000,max_depth=340, max_features='sqrt', min_samples_leaf=1,\n",
    "## min_samples_split= 2),RANDOM STATE=10\n",
    "\n",
    "## Calculating rmse score for the model with tuned hyperparameters\n",
    "\n",
    "get_rmse_score(RandomForestRegressor(n_estimators= 2000,min_samples_split= 2,min_samples_leaf= 1,\n",
    "                                     max_features= 'sqrt',max_depth= 340,random_state=10),X_train,X_test,y_train,y_test)"
   ]
  },
  {
   "cell_type": "code",
   "execution_count": 78,
   "metadata": {},
   "outputs": [
    {
     "data": {
      "text/plain": [
       "0.09698778683878008"
      ]
     },
     "execution_count": 78,
     "metadata": {},
     "output_type": "execute_result"
    }
   ],
   "source": [
    "## For n_iter=10,cv=4,RANDOM FOREST,(n_estimators=2000,max_depth=340, max_features='sqrt', min_samples_leaf=1,\n",
    "## min_samples_split= 2),RANDOM STATE=10\n",
    "\n",
    "## Calculating mean absolute error for the model with tuned hyperparameters\n",
    "\n",
    "get_mae_score(RandomForestRegressor(n_estimators= 2000,min_samples_split= 2,min_samples_leaf= 1,\n",
    "                                    max_features= 'sqrt',max_depth= 340,random_state=10),X_train,X_test,y_train,y_test)\n",
    "\n"
   ]
  },
  {
   "cell_type": "code",
   "execution_count": 79,
   "metadata": {},
   "outputs": [
    {
     "data": {
      "text/plain": [
       "(912    11.385092\n",
       " 373    11.719940\n",
       " 20     12.692503\n",
       " 800    12.206073\n",
       " 152    12.154779\n",
       " Name: SalePrice, dtype: float64,\n",
       " array([11.98559888, 12.25314911, 11.78135374, 11.92500758, 12.69526753]))"
      ]
     },
     "execution_count": 79,
     "metadata": {},
     "output_type": "execute_result"
    }
   ],
   "source": [
    "## For n_iter=10,cv=4,RANDOM FOREST,(n_estimators=2000,max_depth=340, max_features='sqrt', min_samples_leaf=1,\n",
    "## min_samples_split= 2),RANDOM STATE=10\n",
    "\n",
    "## Displaying and comparing y_train and y_predict values with tuned hyperparameters\n",
    "\n",
    "get_y_train_y_predict(RandomForestRegressor(n_estimators= 2000,min_samples_split= 2,min_samples_leaf= 1,\n",
    "                                    max_features= 'sqrt',max_depth= 340,random_state=10),X_train,X_test,y_train,y_test)"
   ]
  },
  {
   "cell_type": "code",
   "execution_count": 80,
   "metadata": {},
   "outputs": [
    {
     "data": {
      "text/html": [
       "<div>\n",
       "<style scoped>\n",
       "    .dataframe tbody tr th:only-of-type {\n",
       "        vertical-align: middle;\n",
       "    }\n",
       "\n",
       "    .dataframe tbody tr th {\n",
       "        vertical-align: top;\n",
       "    }\n",
       "\n",
       "    .dataframe thead th {\n",
       "        text-align: right;\n",
       "    }\n",
       "</style>\n",
       "<table border=\"1\" class=\"dataframe\">\n",
       "  <thead>\n",
       "    <tr style=\"text-align: right;\">\n",
       "      <th></th>\n",
       "      <th>model_score</th>\n",
       "      <th>r2_score</th>\n",
       "      <th>rmse</th>\n",
       "      <th>mae</th>\n",
       "    </tr>\n",
       "  </thead>\n",
       "  <tbody>\n",
       "    <tr>\n",
       "      <th>Random Forest Hyperparameter Tuned</th>\n",
       "      <td>0.887049</td>\n",
       "      <td>0.887049</td>\n",
       "      <td>0.137295</td>\n",
       "      <td>0.096988</td>\n",
       "    </tr>\n",
       "  </tbody>\n",
       "</table>\n",
       "</div>"
      ],
      "text/plain": [
       "                                    model_score  r2_score      rmse       mae\n",
       "Random Forest Hyperparameter Tuned     0.887049  0.887049  0.137295  0.096988"
      ]
     },
     "execution_count": 80,
     "metadata": {},
     "output_type": "execute_result"
    }
   ],
   "source": [
    "## Viewing all model evaluation metric values for Random Forest using tuned hyperparameters \n",
    "\n",
    "result_rf_traintest_hyperparamtune =pd.DataFrame({'model_score': [get_model_score(RandomForestRegressor(n_estimators= 2000,min_samples_split= 2,min_samples_leaf= 1,\n",
    "                                                                  max_features= 'sqrt',max_depth= 340,random_state=10),X_train,X_test,y_train,y_test)],\n",
    "                                       \n",
    "                                                  'r2_score':[get_r2_score(RandomForestRegressor(n_estimators= 2000,min_samples_split= 2,min_samples_leaf= 1,\n",
    "                                                              max_features= 'sqrt',max_depth= 340,random_state=10),X_train,X_test,y_train,y_test)],\n",
    "                                                  \n",
    "                                                  'rmse':[get_rmse_score(RandomForestRegressor(n_estimators= 2000,min_samples_split= 2,min_samples_leaf= 1,\n",
    "                                                          max_features= 'sqrt',max_depth= 340,random_state=10),X_train,X_test,y_train,y_test)],\n",
    "                                                  \n",
    "                                                  'mae':[get_mae_score(RandomForestRegressor(n_estimators= 2000,min_samples_split= 2,min_samples_leaf= 1,\n",
    "                                                         max_features= 'sqrt',max_depth= 340,random_state=10),X_train,X_test,y_train,y_test)]},\n",
    "                                       \n",
    "                                                  index=['Random Forest Hyperparameter Tuned'])\n",
    "\n",
    "# result_rf_traintest_hyperparamtune"
   ]
  },
  {
   "cell_type": "markdown",
   "metadata": {},
   "source": [
    "#### FITTING RANDOMIZED SEARCH CV TO X,y DIRECTLY (WITHOUT TRAIN TEST SPLITING)"
   ]
  },
  {
   "cell_type": "code",
   "execution_count": 83,
   "metadata": {},
   "outputs": [
    {
     "name": "stdout",
     "output_type": "stream",
     "text": [
      "Fitting 4 folds for each of 10 candidates, totalling 40 fits\n"
     ]
    },
    {
     "name": "stderr",
     "output_type": "stream",
     "text": [
      "[Parallel(n_jobs=-1)]: Using backend LokyBackend with 8 concurrent workers.\n",
      "[Parallel(n_jobs=-1)]: Done  25 tasks      | elapsed:   31.8s\n",
      "[Parallel(n_jobs=-1)]: Done  40 out of  40 | elapsed:   48.5s finished\n"
     ]
    },
    {
     "data": {
      "text/plain": [
       "RandomizedSearchCV(cv=4, estimator=RandomForestRegressor(), n_jobs=-1,\n",
       "                   param_distributions={'max_depth': [10, 120, 230, 340, 450,\n",
       "                                                      560, 670, 780, 890,\n",
       "                                                      1000],\n",
       "                                        'max_features': ['auto', 'sqrt',\n",
       "                                                         'log2'],\n",
       "                                        'min_samples_leaf': [1, 2, 4, 6, 8],\n",
       "                                        'min_samples_split': [2, 5, 10, 14],\n",
       "                                        'n_estimators': [200, 400, 600, 800,\n",
       "                                                         1000, 1200, 1400, 1600,\n",
       "                                                         1800, 2000]},\n",
       "                   random_state=10, verbose=2)"
      ]
     },
     "execution_count": 83,
     "metadata": {},
     "output_type": "execute_result"
    }
   ],
   "source": [
    "rf=RandomForestRegressor()\n",
    "rf_randomcv=RandomizedSearchCV(estimator=rf,param_distributions=random_grid_rf,n_iter=10,cv=4,verbose=2,\n",
    "                               random_state=10,n_jobs=-1)\n",
    "### fit the randomized model\n",
    "rf_randomcv.fit(X,y)"
   ]
  },
  {
   "cell_type": "markdown",
   "metadata": {},
   "source": [
    "#### FINDING THE BEST PARAMETER VALUES FOR DIFFERENT 'n_iter' AND 'cv'"
   ]
  },
  {
   "cell_type": "code",
   "execution_count": 84,
   "metadata": {},
   "outputs": [
    {
     "data": {
      "text/plain": [
       "{'n_estimators': 2000,\n",
       " 'min_samples_split': 2,\n",
       " 'min_samples_leaf': 1,\n",
       " 'max_features': 'sqrt',\n",
       " 'max_depth': 340}"
      ]
     },
     "execution_count": 84,
     "metadata": {},
     "output_type": "execute_result"
    }
   ],
   "source": [
    "rf_randomcv.best_params_ # for n_iter=10,cv=4 "
   ]
  },
  {
   "cell_type": "markdown",
   "metadata": {},
   "source": [
    "#### Applying tuned hyper parameters using Cross Validation technique for Random Forest"
   ]
  },
  {
   "cell_type": "code",
   "execution_count": 85,
   "metadata": {},
   "outputs": [
    {
     "data": {
      "text/plain": [
       "0.8874231792387043"
      ]
     },
     "execution_count": 85,
     "metadata": {},
     "output_type": "execute_result"
    }
   ],
   "source": [
    "## For n_iter=10,cv=4,RANDOM FOREST,(n_estimators=2000,max_depth=340, max_features='sqrt', min_samples_leaf=1,\n",
    "## 'min_samples_split': 2),RANDOM STATE=10\n",
    "\n",
    "cross_val_score(RandomForestRegressor(n_estimators= 2000,min_samples_split= 2,min_samples_leaf= 1,\n",
    "                                      max_features= 'sqrt',max_depth= 340,random_state=10),X,y,cv=10).mean()"
   ]
  },
  {
   "cell_type": "code",
   "execution_count": 86,
   "metadata": {},
   "outputs": [
    {
     "data": {
      "text/html": [
       "<div>\n",
       "<style scoped>\n",
       "    .dataframe tbody tr th:only-of-type {\n",
       "        vertical-align: middle;\n",
       "    }\n",
       "\n",
       "    .dataframe tbody tr th {\n",
       "        vertical-align: top;\n",
       "    }\n",
       "\n",
       "    .dataframe thead th {\n",
       "        text-align: right;\n",
       "    }\n",
       "</style>\n",
       "<table border=\"1\" class=\"dataframe\">\n",
       "  <thead>\n",
       "    <tr style=\"text-align: right;\">\n",
       "      <th></th>\n",
       "      <th>cross_val_score</th>\n",
       "    </tr>\n",
       "  </thead>\n",
       "  <tbody>\n",
       "    <tr>\n",
       "      <th>Random Forest Hyperparameter Tuned</th>\n",
       "      <td>0.887423</td>\n",
       "    </tr>\n",
       "  </tbody>\n",
       "</table>\n",
       "</div>"
      ],
      "text/plain": [
       "                                    cross_val_score\n",
       "Random Forest Hyperparameter Tuned         0.887423"
      ]
     },
     "execution_count": 86,
     "metadata": {},
     "output_type": "execute_result"
    }
   ],
   "source": [
    "## Converting cross validation score of Random Forest model with tuned hyperparameters into dataframe\n",
    "\n",
    "result_rf_crossval_hyperparamtune =pd.DataFrame({'cross_val_score': [cross_val_score(RandomForestRegressor(n_estimators= 2000,min_samples_split= 2,min_samples_leaf= 1,\n",
    "                                                                    max_features= 'sqrt',max_depth= 340,random_state=10),X,y,cv=10).mean()]},\n",
    "                                       index=['Random Forest Hyperparameter Tuned'])\n"
   ]
  },
  {
   "cell_type": "code",
   "execution_count": 87,
   "metadata": {},
   "outputs": [
    {
     "data": {
      "text/html": [
       "<div>\n",
       "<style scoped>\n",
       "    .dataframe tbody tr th:only-of-type {\n",
       "        vertical-align: middle;\n",
       "    }\n",
       "\n",
       "    .dataframe tbody tr th {\n",
       "        vertical-align: top;\n",
       "    }\n",
       "\n",
       "    .dataframe thead th {\n",
       "        text-align: right;\n",
       "    }\n",
       "</style>\n",
       "<table border=\"1\" class=\"dataframe\">\n",
       "  <thead>\n",
       "    <tr style=\"text-align: right;\">\n",
       "      <th></th>\n",
       "      <th>model_score</th>\n",
       "      <th>r2_score</th>\n",
       "      <th>rmse</th>\n",
       "      <th>mae</th>\n",
       "      <th>cross_val_score</th>\n",
       "    </tr>\n",
       "  </thead>\n",
       "  <tbody>\n",
       "    <tr>\n",
       "      <th>Random Forest Hyperparameter Tuned</th>\n",
       "      <td>0.887049</td>\n",
       "      <td>0.887049</td>\n",
       "      <td>0.137295</td>\n",
       "      <td>0.096988</td>\n",
       "      <td>0.887423</td>\n",
       "    </tr>\n",
       "  </tbody>\n",
       "</table>\n",
       "</div>"
      ],
      "text/plain": [
       "                                    model_score  r2_score      rmse       mae  \\\n",
       "Random Forest Hyperparameter Tuned     0.887049  0.887049  0.137295  0.096988   \n",
       "\n",
       "                                    cross_val_score  \n",
       "Random Forest Hyperparameter Tuned         0.887423  "
      ]
     },
     "execution_count": 87,
     "metadata": {},
     "output_type": "execute_result"
    }
   ],
   "source": [
    "## Viewing all the model evaluation metric values and cross validation score for Random Forest \n",
    "## using tuned hyperparameters\n",
    "\n",
    "result_rf_hyperparamtune=pd.concat([result_rf_traintest_hyperparamtune,result_rf_crossval_hyperparamtune],\n",
    "                          axis=1)\n",
    "\n"
   ]
  },
  {
   "cell_type": "markdown",
   "metadata": {},
   "source": [
    "### HYPERARAMETER OPTIMIZATION FOR XGBOOOST"
   ]
  },
  {
   "cell_type": "code",
   "execution_count": 88,
   "metadata": {},
   "outputs": [
    {
     "name": "stdout",
     "output_type": "stream",
     "text": [
      "{'n_estimators': [200, 400, 600, 800, 1000, 1200, 1400, 1600, 1800, 2000], 'learning_rate': [0.05, 0.1, 0.15, 0.2, 0.25, 0.3], 'max_depth': [3, 4, 5, 6, 8, 10, 12, 15], 'min_child_weight': [1, 3, 5, 7], 'gamma': [0.1, 0.2, 0.3, 0.4], 'colsample_bytree': [0.3, 0.4, 0.5, 0.7]}\n"
     ]
    }
   ],
   "source": [
    "## Defining the different hperparameter values\n",
    "\n",
    "params_xgboost={\n",
    "    \n",
    "    'n_estimators'     :[200, 400, 600, 800, 1000, 1200, 1400, 1600, 1800, 2000],\n",
    "    'learning_rate'    :[0.05,0.10,0.15,0.20,0.25,0.30],\n",
    "    'max_depth'        :[3,4,5,6,8,10,12,15],\n",
    "    'min_child_weight' :[1,3,5,7],\n",
    "    'gamma'            :[0.1,0.2,0.3,0.4],\n",
    "    'colsample_bytree' :[0.3,0.4,0.5,0.7]\n",
    "}\n",
    "\n",
    "print(params_xgboost)"
   ]
  },
  {
   "cell_type": "markdown",
   "metadata": {},
   "source": [
    "### Fitting Randomized Search CV For Train Test Split data"
   ]
  },
  {
   "cell_type": "code",
   "execution_count": 103,
   "metadata": {
    "collapsed": true
   },
   "outputs": [
    {
     "name": "stdout",
     "output_type": "stream",
     "text": [
      "Fitting 10 folds for each of 50 candidates, totalling 500 fits\n",
      "[CV] n_estimators=1600, min_child_weight=7, max_depth=8, learning_rate=0.3, gamma=0.4, colsample_bytree=0.5 \n"
     ]
    },
    {
     "name": "stderr",
     "output_type": "stream",
     "text": [
      "[Parallel(n_jobs=1)]: Using backend SequentialBackend with 1 concurrent workers.\n"
     ]
    },
    {
     "name": "stdout",
     "output_type": "stream",
     "text": [
      "[CV]  n_estimators=1600, min_child_weight=7, max_depth=8, learning_rate=0.3, gamma=0.4, colsample_bytree=0.5, score=0.898, total=   1.0s\n",
      "[CV] n_estimators=1600, min_child_weight=7, max_depth=8, learning_rate=0.3, gamma=0.4, colsample_bytree=0.5 \n"
     ]
    },
    {
     "name": "stderr",
     "output_type": "stream",
     "text": [
      "[Parallel(n_jobs=1)]: Done   1 out of   1 | elapsed:    0.9s remaining:    0.0s\n"
     ]
    },
    {
     "name": "stdout",
     "output_type": "stream",
     "text": [
      "[CV]  n_estimators=1600, min_child_weight=7, max_depth=8, learning_rate=0.3, gamma=0.4, colsample_bytree=0.5, score=0.848, total=   0.9s\n",
      "[CV] n_estimators=1600, min_child_weight=7, max_depth=8, learning_rate=0.3, gamma=0.4, colsample_bytree=0.5 \n"
     ]
    },
    {
     "name": "stderr",
     "output_type": "stream",
     "text": [
      "[Parallel(n_jobs=1)]: Done   2 out of   2 | elapsed:    1.8s remaining:    0.0s\n"
     ]
    },
    {
     "name": "stdout",
     "output_type": "stream",
     "text": [
      "[CV]  n_estimators=1600, min_child_weight=7, max_depth=8, learning_rate=0.3, gamma=0.4, colsample_bytree=0.5, score=0.800, total=   0.9s\n",
      "[CV] n_estimators=1600, min_child_weight=7, max_depth=8, learning_rate=0.3, gamma=0.4, colsample_bytree=0.5 \n",
      "[CV]  n_estimators=1600, min_child_weight=7, max_depth=8, learning_rate=0.3, gamma=0.4, colsample_bytree=0.5, score=0.890, total=   0.9s\n",
      "[CV] n_estimators=1600, min_child_weight=7, max_depth=8, learning_rate=0.3, gamma=0.4, colsample_bytree=0.5 \n",
      "[CV]  n_estimators=1600, min_child_weight=7, max_depth=8, learning_rate=0.3, gamma=0.4, colsample_bytree=0.5, score=0.810, total=   0.9s\n",
      "[CV] n_estimators=1600, min_child_weight=7, max_depth=8, learning_rate=0.3, gamma=0.4, colsample_bytree=0.5 \n",
      "[CV]  n_estimators=1600, min_child_weight=7, max_depth=8, learning_rate=0.3, gamma=0.4, colsample_bytree=0.5, score=0.835, total=   0.9s\n",
      "[CV] n_estimators=1600, min_child_weight=7, max_depth=8, learning_rate=0.3, gamma=0.4, colsample_bytree=0.5 \n",
      "[CV]  n_estimators=1600, min_child_weight=7, max_depth=8, learning_rate=0.3, gamma=0.4, colsample_bytree=0.5, score=0.826, total=   0.9s\n",
      "[CV] n_estimators=1600, min_child_weight=7, max_depth=8, learning_rate=0.3, gamma=0.4, colsample_bytree=0.5 \n",
      "[CV]  n_estimators=1600, min_child_weight=7, max_depth=8, learning_rate=0.3, gamma=0.4, colsample_bytree=0.5, score=0.847, total=   0.9s\n",
      "[CV] n_estimators=1600, min_child_weight=7, max_depth=8, learning_rate=0.3, gamma=0.4, colsample_bytree=0.5 \n",
      "[CV]  n_estimators=1600, min_child_weight=7, max_depth=8, learning_rate=0.3, gamma=0.4, colsample_bytree=0.5, score=0.784, total=   0.9s\n",
      "[CV] n_estimators=1600, min_child_weight=7, max_depth=8, learning_rate=0.3, gamma=0.4, colsample_bytree=0.5 \n",
      "[CV]  n_estimators=1600, min_child_weight=7, max_depth=8, learning_rate=0.3, gamma=0.4, colsample_bytree=0.5, score=0.852, total=   0.9s\n",
      "[CV] n_estimators=1600, min_child_weight=1, max_depth=3, learning_rate=0.1, gamma=0.3, colsample_bytree=0.5 \n",
      "[CV]  n_estimators=1600, min_child_weight=1, max_depth=3, learning_rate=0.1, gamma=0.3, colsample_bytree=0.5, score=0.889, total=   0.4s\n",
      "[CV] n_estimators=1600, min_child_weight=1, max_depth=3, learning_rate=0.1, gamma=0.3, colsample_bytree=0.5 \n",
      "[CV]  n_estimators=1600, min_child_weight=1, max_depth=3, learning_rate=0.1, gamma=0.3, colsample_bytree=0.5, score=0.861, total=   0.4s\n",
      "[CV] n_estimators=1600, min_child_weight=1, max_depth=3, learning_rate=0.1, gamma=0.3, colsample_bytree=0.5 \n",
      "[CV]  n_estimators=1600, min_child_weight=1, max_depth=3, learning_rate=0.1, gamma=0.3, colsample_bytree=0.5, score=0.802, total=   0.4s\n",
      "[CV] n_estimators=1600, min_child_weight=1, max_depth=3, learning_rate=0.1, gamma=0.3, colsample_bytree=0.5 \n",
      "[CV]  n_estimators=1600, min_child_weight=1, max_depth=3, learning_rate=0.1, gamma=0.3, colsample_bytree=0.5, score=0.891, total=   0.4s\n",
      "[CV] n_estimators=1600, min_child_weight=1, max_depth=3, learning_rate=0.1, gamma=0.3, colsample_bytree=0.5 \n",
      "[CV]  n_estimators=1600, min_child_weight=1, max_depth=3, learning_rate=0.1, gamma=0.3, colsample_bytree=0.5, score=0.825, total=   0.4s\n",
      "[CV] n_estimators=1600, min_child_weight=1, max_depth=3, learning_rate=0.1, gamma=0.3, colsample_bytree=0.5 \n",
      "[CV]  n_estimators=1600, min_child_weight=1, max_depth=3, learning_rate=0.1, gamma=0.3, colsample_bytree=0.5, score=0.864, total=   0.6s\n",
      "[CV] n_estimators=1600, min_child_weight=1, max_depth=3, learning_rate=0.1, gamma=0.3, colsample_bytree=0.5 \n",
      "[CV]  n_estimators=1600, min_child_weight=1, max_depth=3, learning_rate=0.1, gamma=0.3, colsample_bytree=0.5, score=0.837, total=   0.6s\n",
      "[CV] n_estimators=1600, min_child_weight=1, max_depth=3, learning_rate=0.1, gamma=0.3, colsample_bytree=0.5 \n",
      "[CV]  n_estimators=1600, min_child_weight=1, max_depth=3, learning_rate=0.1, gamma=0.3, colsample_bytree=0.5, score=0.844, total=   0.7s\n",
      "[CV] n_estimators=1600, min_child_weight=1, max_depth=3, learning_rate=0.1, gamma=0.3, colsample_bytree=0.5 \n",
      "[CV]  n_estimators=1600, min_child_weight=1, max_depth=3, learning_rate=0.1, gamma=0.3, colsample_bytree=0.5, score=0.839, total=   0.6s\n",
      "[CV] n_estimators=1600, min_child_weight=1, max_depth=3, learning_rate=0.1, gamma=0.3, colsample_bytree=0.5 \n",
      "[CV]  n_estimators=1600, min_child_weight=1, max_depth=3, learning_rate=0.1, gamma=0.3, colsample_bytree=0.5, score=0.849, total=   0.6s\n",
      "[CV] n_estimators=400, min_child_weight=1, max_depth=3, learning_rate=0.1, gamma=0.2, colsample_bytree=0.4 \n",
      "[CV]  n_estimators=400, min_child_weight=1, max_depth=3, learning_rate=0.1, gamma=0.2, colsample_bytree=0.4, score=0.893, total=   0.1s\n",
      "[CV] n_estimators=400, min_child_weight=1, max_depth=3, learning_rate=0.1, gamma=0.2, colsample_bytree=0.4 \n",
      "[CV]  n_estimators=400, min_child_weight=1, max_depth=3, learning_rate=0.1, gamma=0.2, colsample_bytree=0.4, score=0.871, total=   0.2s\n",
      "[CV] n_estimators=400, min_child_weight=1, max_depth=3, learning_rate=0.1, gamma=0.2, colsample_bytree=0.4 \n",
      "[CV]  n_estimators=400, min_child_weight=1, max_depth=3, learning_rate=0.1, gamma=0.2, colsample_bytree=0.4, score=0.813, total=   0.2s\n",
      "[CV] n_estimators=400, min_child_weight=1, max_depth=3, learning_rate=0.1, gamma=0.2, colsample_bytree=0.4 \n",
      "[CV]  n_estimators=400, min_child_weight=1, max_depth=3, learning_rate=0.1, gamma=0.2, colsample_bytree=0.4, score=0.896, total=   0.2s\n",
      "[CV] n_estimators=400, min_child_weight=1, max_depth=3, learning_rate=0.1, gamma=0.2, colsample_bytree=0.4 \n",
      "[CV]  n_estimators=400, min_child_weight=1, max_depth=3, learning_rate=0.1, gamma=0.2, colsample_bytree=0.4, score=0.852, total=   0.2s\n",
      "[CV] n_estimators=400, min_child_weight=1, max_depth=3, learning_rate=0.1, gamma=0.2, colsample_bytree=0.4 \n",
      "[CV]  n_estimators=400, min_child_weight=1, max_depth=3, learning_rate=0.1, gamma=0.2, colsample_bytree=0.4, score=0.861, total=   0.2s\n",
      "[CV] n_estimators=400, min_child_weight=1, max_depth=3, learning_rate=0.1, gamma=0.2, colsample_bytree=0.4 \n",
      "[CV]  n_estimators=400, min_child_weight=1, max_depth=3, learning_rate=0.1, gamma=0.2, colsample_bytree=0.4, score=0.833, total=   0.2s\n",
      "[CV] n_estimators=400, min_child_weight=1, max_depth=3, learning_rate=0.1, gamma=0.2, colsample_bytree=0.4 \n",
      "[CV]  n_estimators=400, min_child_weight=1, max_depth=3, learning_rate=0.1, gamma=0.2, colsample_bytree=0.4, score=0.869, total=   0.2s\n",
      "[CV] n_estimators=400, min_child_weight=1, max_depth=3, learning_rate=0.1, gamma=0.2, colsample_bytree=0.4 \n",
      "[CV]  n_estimators=400, min_child_weight=1, max_depth=3, learning_rate=0.1, gamma=0.2, colsample_bytree=0.4, score=0.840, total=   0.2s\n",
      "[CV] n_estimators=400, min_child_weight=1, max_depth=3, learning_rate=0.1, gamma=0.2, colsample_bytree=0.4 \n",
      "[CV]  n_estimators=400, min_child_weight=1, max_depth=3, learning_rate=0.1, gamma=0.2, colsample_bytree=0.4, score=0.858, total=   0.2s\n",
      "[CV] n_estimators=800, min_child_weight=7, max_depth=5, learning_rate=0.25, gamma=0.2, colsample_bytree=0.4 \n",
      "[CV]  n_estimators=800, min_child_weight=7, max_depth=5, learning_rate=0.25, gamma=0.2, colsample_bytree=0.4, score=0.910, total=   0.5s\n",
      "[CV] n_estimators=800, min_child_weight=7, max_depth=5, learning_rate=0.25, gamma=0.2, colsample_bytree=0.4 \n",
      "[CV]  n_estimators=800, min_child_weight=7, max_depth=5, learning_rate=0.25, gamma=0.2, colsample_bytree=0.4, score=0.862, total=   0.5s\n",
      "[CV] n_estimators=800, min_child_weight=7, max_depth=5, learning_rate=0.25, gamma=0.2, colsample_bytree=0.4 \n",
      "[CV]  n_estimators=800, min_child_weight=7, max_depth=5, learning_rate=0.25, gamma=0.2, colsample_bytree=0.4, score=0.812, total=   0.4s\n",
      "[CV] n_estimators=800, min_child_weight=7, max_depth=5, learning_rate=0.25, gamma=0.2, colsample_bytree=0.4 \n",
      "[CV]  n_estimators=800, min_child_weight=7, max_depth=5, learning_rate=0.25, gamma=0.2, colsample_bytree=0.4, score=0.911, total=   0.4s\n",
      "[CV] n_estimators=800, min_child_weight=7, max_depth=5, learning_rate=0.25, gamma=0.2, colsample_bytree=0.4 \n",
      "[CV]  n_estimators=800, min_child_weight=7, max_depth=5, learning_rate=0.25, gamma=0.2, colsample_bytree=0.4, score=0.826, total=   0.5s\n",
      "[CV] n_estimators=800, min_child_weight=7, max_depth=5, learning_rate=0.25, gamma=0.2, colsample_bytree=0.4 \n",
      "[CV]  n_estimators=800, min_child_weight=7, max_depth=5, learning_rate=0.25, gamma=0.2, colsample_bytree=0.4, score=0.829, total=   0.4s\n",
      "[CV] n_estimators=800, min_child_weight=7, max_depth=5, learning_rate=0.25, gamma=0.2, colsample_bytree=0.4 \n",
      "[CV]  n_estimators=800, min_child_weight=7, max_depth=5, learning_rate=0.25, gamma=0.2, colsample_bytree=0.4, score=0.846, total=   0.4s\n",
      "[CV] n_estimators=800, min_child_weight=7, max_depth=5, learning_rate=0.25, gamma=0.2, colsample_bytree=0.4 \n",
      "[CV]  n_estimators=800, min_child_weight=7, max_depth=5, learning_rate=0.25, gamma=0.2, colsample_bytree=0.4, score=0.867, total=   0.4s\n",
      "[CV] n_estimators=800, min_child_weight=7, max_depth=5, learning_rate=0.25, gamma=0.2, colsample_bytree=0.4 \n",
      "[CV]  n_estimators=800, min_child_weight=7, max_depth=5, learning_rate=0.25, gamma=0.2, colsample_bytree=0.4, score=0.825, total=   0.4s\n",
      "[CV] n_estimators=800, min_child_weight=7, max_depth=5, learning_rate=0.25, gamma=0.2, colsample_bytree=0.4 \n",
      "[CV]  n_estimators=800, min_child_weight=7, max_depth=5, learning_rate=0.25, gamma=0.2, colsample_bytree=0.4, score=0.853, total=   0.5s\n",
      "[CV] n_estimators=600, min_child_weight=3, max_depth=10, learning_rate=0.15, gamma=0.1, colsample_bytree=0.3 \n",
      "[CV]  n_estimators=600, min_child_weight=3, max_depth=10, learning_rate=0.15, gamma=0.1, colsample_bytree=0.3, score=0.907, total=   0.6s\n",
      "[CV] n_estimators=600, min_child_weight=3, max_depth=10, learning_rate=0.15, gamma=0.1, colsample_bytree=0.3 \n",
      "[CV]  n_estimators=600, min_child_weight=3, max_depth=10, learning_rate=0.15, gamma=0.1, colsample_bytree=0.3, score=0.884, total=   0.6s\n",
      "[CV] n_estimators=600, min_child_weight=3, max_depth=10, learning_rate=0.15, gamma=0.1, colsample_bytree=0.3 \n",
      "[CV]  n_estimators=600, min_child_weight=3, max_depth=10, learning_rate=0.15, gamma=0.1, colsample_bytree=0.3, score=0.835, total=   0.6s\n",
      "[CV] n_estimators=600, min_child_weight=3, max_depth=10, learning_rate=0.15, gamma=0.1, colsample_bytree=0.3 \n",
      "[CV]  n_estimators=600, min_child_weight=3, max_depth=10, learning_rate=0.15, gamma=0.1, colsample_bytree=0.3, score=0.905, total=   0.5s\n",
      "[CV] n_estimators=600, min_child_weight=3, max_depth=10, learning_rate=0.15, gamma=0.1, colsample_bytree=0.3 \n",
      "[CV]  n_estimators=600, min_child_weight=3, max_depth=10, learning_rate=0.15, gamma=0.1, colsample_bytree=0.3, score=0.847, total=   0.5s\n",
      "[CV] n_estimators=600, min_child_weight=3, max_depth=10, learning_rate=0.15, gamma=0.1, colsample_bytree=0.3 \n",
      "[CV]  n_estimators=600, min_child_weight=3, max_depth=10, learning_rate=0.15, gamma=0.1, colsample_bytree=0.3, score=0.850, total=   0.5s\n",
      "[CV] n_estimators=600, min_child_weight=3, max_depth=10, learning_rate=0.15, gamma=0.1, colsample_bytree=0.3 \n",
      "[CV]  n_estimators=600, min_child_weight=3, max_depth=10, learning_rate=0.15, gamma=0.1, colsample_bytree=0.3, score=0.869, total=   0.5s\n",
      "[CV] n_estimators=600, min_child_weight=3, max_depth=10, learning_rate=0.15, gamma=0.1, colsample_bytree=0.3 \n",
      "[CV]  n_estimators=600, min_child_weight=3, max_depth=10, learning_rate=0.15, gamma=0.1, colsample_bytree=0.3, score=0.889, total=   0.5s\n",
      "[CV] n_estimators=600, min_child_weight=3, max_depth=10, learning_rate=0.15, gamma=0.1, colsample_bytree=0.3 \n",
      "[CV]  n_estimators=600, min_child_weight=3, max_depth=10, learning_rate=0.15, gamma=0.1, colsample_bytree=0.3, score=0.839, total=   0.5s\n",
      "[CV] n_estimators=600, min_child_weight=3, max_depth=10, learning_rate=0.15, gamma=0.1, colsample_bytree=0.3 \n",
      "[CV]  n_estimators=600, min_child_weight=3, max_depth=10, learning_rate=0.15, gamma=0.1, colsample_bytree=0.3, score=0.864, total=   0.6s\n",
      "[CV] n_estimators=1800, min_child_weight=3, max_depth=4, learning_rate=0.1, gamma=0.1, colsample_bytree=0.3 \n",
      "[CV]  n_estimators=1800, min_child_weight=3, max_depth=4, learning_rate=0.1, gamma=0.1, colsample_bytree=0.3, score=0.904, total=   0.7s\n",
      "[CV] n_estimators=1800, min_child_weight=3, max_depth=4, learning_rate=0.1, gamma=0.1, colsample_bytree=0.3 \n",
      "[CV]  n_estimators=1800, min_child_weight=3, max_depth=4, learning_rate=0.1, gamma=0.1, colsample_bytree=0.3, score=0.888, total=   0.7s\n",
      "[CV] n_estimators=1800, min_child_weight=3, max_depth=4, learning_rate=0.1, gamma=0.1, colsample_bytree=0.3 \n",
      "[CV]  n_estimators=1800, min_child_weight=3, max_depth=4, learning_rate=0.1, gamma=0.1, colsample_bytree=0.3, score=0.836, total=   0.7s\n",
      "[CV] n_estimators=1800, min_child_weight=3, max_depth=4, learning_rate=0.1, gamma=0.1, colsample_bytree=0.3 \n",
      "[CV]  n_estimators=1800, min_child_weight=3, max_depth=4, learning_rate=0.1, gamma=0.1, colsample_bytree=0.3, score=0.910, total=   0.7s\n",
      "[CV] n_estimators=1800, min_child_weight=3, max_depth=4, learning_rate=0.1, gamma=0.1, colsample_bytree=0.3 \n",
      "[CV]  n_estimators=1800, min_child_weight=3, max_depth=4, learning_rate=0.1, gamma=0.1, colsample_bytree=0.3, score=0.855, total=   0.7s\n",
      "[CV] n_estimators=1800, min_child_weight=3, max_depth=4, learning_rate=0.1, gamma=0.1, colsample_bytree=0.3 \n",
      "[CV]  n_estimators=1800, min_child_weight=3, max_depth=4, learning_rate=0.1, gamma=0.1, colsample_bytree=0.3, score=0.873, total=   0.7s\n",
      "[CV] n_estimators=1800, min_child_weight=3, max_depth=4, learning_rate=0.1, gamma=0.1, colsample_bytree=0.3 \n",
      "[CV]  n_estimators=1800, min_child_weight=3, max_depth=4, learning_rate=0.1, gamma=0.1, colsample_bytree=0.3, score=0.864, total=   0.7s\n",
      "[CV] n_estimators=1800, min_child_weight=3, max_depth=4, learning_rate=0.1, gamma=0.1, colsample_bytree=0.3 \n",
      "[CV]  n_estimators=1800, min_child_weight=3, max_depth=4, learning_rate=0.1, gamma=0.1, colsample_bytree=0.3, score=0.887, total=   0.7s\n",
      "[CV] n_estimators=1800, min_child_weight=3, max_depth=4, learning_rate=0.1, gamma=0.1, colsample_bytree=0.3 \n",
      "[CV]  n_estimators=1800, min_child_weight=3, max_depth=4, learning_rate=0.1, gamma=0.1, colsample_bytree=0.3, score=0.855, total=   0.7s\n",
      "[CV] n_estimators=1800, min_child_weight=3, max_depth=4, learning_rate=0.1, gamma=0.1, colsample_bytree=0.3 \n",
      "[CV]  n_estimators=1800, min_child_weight=3, max_depth=4, learning_rate=0.1, gamma=0.1, colsample_bytree=0.3, score=0.856, total=   0.7s\n",
      "[CV] n_estimators=2000, min_child_weight=7, max_depth=3, learning_rate=0.05, gamma=0.1, colsample_bytree=0.5 \n",
      "[CV]  n_estimators=2000, min_child_weight=7, max_depth=3, learning_rate=0.05, gamma=0.1, colsample_bytree=0.5, score=0.904, total=   0.7s\n",
      "[CV] n_estimators=2000, min_child_weight=7, max_depth=3, learning_rate=0.05, gamma=0.1, colsample_bytree=0.5 \n",
      "[CV]  n_estimators=2000, min_child_weight=7, max_depth=3, learning_rate=0.05, gamma=0.1, colsample_bytree=0.5, score=0.876, total=   0.7s\n",
      "[CV] n_estimators=2000, min_child_weight=7, max_depth=3, learning_rate=0.05, gamma=0.1, colsample_bytree=0.5 \n",
      "[CV]  n_estimators=2000, min_child_weight=7, max_depth=3, learning_rate=0.05, gamma=0.1, colsample_bytree=0.5, score=0.825, total=   0.7s\n",
      "[CV] n_estimators=2000, min_child_weight=7, max_depth=3, learning_rate=0.05, gamma=0.1, colsample_bytree=0.5 \n",
      "[CV]  n_estimators=2000, min_child_weight=7, max_depth=3, learning_rate=0.05, gamma=0.1, colsample_bytree=0.5, score=0.908, total=   0.7s\n",
      "[CV] n_estimators=2000, min_child_weight=7, max_depth=3, learning_rate=0.05, gamma=0.1, colsample_bytree=0.5 \n",
      "[CV]  n_estimators=2000, min_child_weight=7, max_depth=3, learning_rate=0.05, gamma=0.1, colsample_bytree=0.5, score=0.835, total=   0.7s\n",
      "[CV] n_estimators=2000, min_child_weight=7, max_depth=3, learning_rate=0.05, gamma=0.1, colsample_bytree=0.5 \n",
      "[CV]  n_estimators=2000, min_child_weight=7, max_depth=3, learning_rate=0.05, gamma=0.1, colsample_bytree=0.5, score=0.866, total=   0.7s\n",
      "[CV] n_estimators=2000, min_child_weight=7, max_depth=3, learning_rate=0.05, gamma=0.1, colsample_bytree=0.5 \n",
      "[CV]  n_estimators=2000, min_child_weight=7, max_depth=3, learning_rate=0.05, gamma=0.1, colsample_bytree=0.5, score=0.854, total=   0.7s\n",
      "[CV] n_estimators=2000, min_child_weight=7, max_depth=3, learning_rate=0.05, gamma=0.1, colsample_bytree=0.5 \n",
      "[CV]  n_estimators=2000, min_child_weight=7, max_depth=3, learning_rate=0.05, gamma=0.1, colsample_bytree=0.5, score=0.871, total=   0.7s\n",
      "[CV] n_estimators=2000, min_child_weight=7, max_depth=3, learning_rate=0.05, gamma=0.1, colsample_bytree=0.5 \n",
      "[CV]  n_estimators=2000, min_child_weight=7, max_depth=3, learning_rate=0.05, gamma=0.1, colsample_bytree=0.5, score=0.843, total=   0.7s\n",
      "[CV] n_estimators=2000, min_child_weight=7, max_depth=3, learning_rate=0.05, gamma=0.1, colsample_bytree=0.5 \n",
      "[CV]  n_estimators=2000, min_child_weight=7, max_depth=3, learning_rate=0.05, gamma=0.1, colsample_bytree=0.5, score=0.860, total=   0.7s\n",
      "[CV] n_estimators=1000, min_child_weight=7, max_depth=10, learning_rate=0.2, gamma=0.3, colsample_bytree=0.7 \n",
      "[CV]  n_estimators=1000, min_child_weight=7, max_depth=10, learning_rate=0.2, gamma=0.3, colsample_bytree=0.7, score=0.905, total=   1.1s\n",
      "[CV] n_estimators=1000, min_child_weight=7, max_depth=10, learning_rate=0.2, gamma=0.3, colsample_bytree=0.7 \n",
      "[CV]  n_estimators=1000, min_child_weight=7, max_depth=10, learning_rate=0.2, gamma=0.3, colsample_bytree=0.7, score=0.871, total=   1.1s\n",
      "[CV] n_estimators=1000, min_child_weight=7, max_depth=10, learning_rate=0.2, gamma=0.3, colsample_bytree=0.7 \n",
      "[CV]  n_estimators=1000, min_child_weight=7, max_depth=10, learning_rate=0.2, gamma=0.3, colsample_bytree=0.7, score=0.822, total=   1.1s\n",
      "[CV] n_estimators=1000, min_child_weight=7, max_depth=10, learning_rate=0.2, gamma=0.3, colsample_bytree=0.7 \n",
      "[CV]  n_estimators=1000, min_child_weight=7, max_depth=10, learning_rate=0.2, gamma=0.3, colsample_bytree=0.7, score=0.892, total=   1.1s\n",
      "[CV] n_estimators=1000, min_child_weight=7, max_depth=10, learning_rate=0.2, gamma=0.3, colsample_bytree=0.7 \n",
      "[CV]  n_estimators=1000, min_child_weight=7, max_depth=10, learning_rate=0.2, gamma=0.3, colsample_bytree=0.7, score=0.832, total=   1.1s\n",
      "[CV] n_estimators=1000, min_child_weight=7, max_depth=10, learning_rate=0.2, gamma=0.3, colsample_bytree=0.7 \n",
      "[CV]  n_estimators=1000, min_child_weight=7, max_depth=10, learning_rate=0.2, gamma=0.3, colsample_bytree=0.7, score=0.860, total=   1.1s\n",
      "[CV] n_estimators=1000, min_child_weight=7, max_depth=10, learning_rate=0.2, gamma=0.3, colsample_bytree=0.7 \n",
      "[CV]  n_estimators=1000, min_child_weight=7, max_depth=10, learning_rate=0.2, gamma=0.3, colsample_bytree=0.7, score=0.849, total=   1.1s\n",
      "[CV] n_estimators=1000, min_child_weight=7, max_depth=10, learning_rate=0.2, gamma=0.3, colsample_bytree=0.7 \n",
      "[CV]  n_estimators=1000, min_child_weight=7, max_depth=10, learning_rate=0.2, gamma=0.3, colsample_bytree=0.7, score=0.859, total=   1.1s\n",
      "[CV] n_estimators=1000, min_child_weight=7, max_depth=10, learning_rate=0.2, gamma=0.3, colsample_bytree=0.7 \n",
      "[CV]  n_estimators=1000, min_child_weight=7, max_depth=10, learning_rate=0.2, gamma=0.3, colsample_bytree=0.7, score=0.833, total=   1.1s\n",
      "[CV] n_estimators=1000, min_child_weight=7, max_depth=10, learning_rate=0.2, gamma=0.3, colsample_bytree=0.7 \n",
      "[CV]  n_estimators=1000, min_child_weight=7, max_depth=10, learning_rate=0.2, gamma=0.3, colsample_bytree=0.7, score=0.829, total=   1.1s\n",
      "[CV] n_estimators=1400, min_child_weight=7, max_depth=8, learning_rate=0.25, gamma=0.2, colsample_bytree=0.3 \n",
      "[CV]  n_estimators=1400, min_child_weight=7, max_depth=8, learning_rate=0.25, gamma=0.2, colsample_bytree=0.3, score=0.909, total=   1.0s\n",
      "[CV] n_estimators=1400, min_child_weight=7, max_depth=8, learning_rate=0.25, gamma=0.2, colsample_bytree=0.3 \n",
      "[CV]  n_estimators=1400, min_child_weight=7, max_depth=8, learning_rate=0.25, gamma=0.2, colsample_bytree=0.3, score=0.867, total=   1.0s\n",
      "[CV] n_estimators=1400, min_child_weight=7, max_depth=8, learning_rate=0.25, gamma=0.2, colsample_bytree=0.3 \n",
      "[CV]  n_estimators=1400, min_child_weight=7, max_depth=8, learning_rate=0.25, gamma=0.2, colsample_bytree=0.3, score=0.807, total=   1.0s\n",
      "[CV] n_estimators=1400, min_child_weight=7, max_depth=8, learning_rate=0.25, gamma=0.2, colsample_bytree=0.3 \n",
      "[CV]  n_estimators=1400, min_child_weight=7, max_depth=8, learning_rate=0.25, gamma=0.2, colsample_bytree=0.3, score=0.897, total=   1.0s\n",
      "[CV] n_estimators=1400, min_child_weight=7, max_depth=8, learning_rate=0.25, gamma=0.2, colsample_bytree=0.3 \n",
      "[CV]  n_estimators=1400, min_child_weight=7, max_depth=8, learning_rate=0.25, gamma=0.2, colsample_bytree=0.3, score=0.804, total=   0.9s\n",
      "[CV] n_estimators=1400, min_child_weight=7, max_depth=8, learning_rate=0.25, gamma=0.2, colsample_bytree=0.3 \n",
      "[CV]  n_estimators=1400, min_child_weight=7, max_depth=8, learning_rate=0.25, gamma=0.2, colsample_bytree=0.3, score=0.849, total=   1.0s\n",
      "[CV] n_estimators=1400, min_child_weight=7, max_depth=8, learning_rate=0.25, gamma=0.2, colsample_bytree=0.3 \n",
      "[CV]  n_estimators=1400, min_child_weight=7, max_depth=8, learning_rate=0.25, gamma=0.2, colsample_bytree=0.3, score=0.844, total=   1.0s\n",
      "[CV] n_estimators=1400, min_child_weight=7, max_depth=8, learning_rate=0.25, gamma=0.2, colsample_bytree=0.3 \n",
      "[CV]  n_estimators=1400, min_child_weight=7, max_depth=8, learning_rate=0.25, gamma=0.2, colsample_bytree=0.3, score=0.872, total=   1.0s\n",
      "[CV] n_estimators=1400, min_child_weight=7, max_depth=8, learning_rate=0.25, gamma=0.2, colsample_bytree=0.3 \n",
      "[CV]  n_estimators=1400, min_child_weight=7, max_depth=8, learning_rate=0.25, gamma=0.2, colsample_bytree=0.3, score=0.824, total=   1.0s\n",
      "[CV] n_estimators=1400, min_child_weight=7, max_depth=8, learning_rate=0.25, gamma=0.2, colsample_bytree=0.3 \n",
      "[CV]  n_estimators=1400, min_child_weight=7, max_depth=8, learning_rate=0.25, gamma=0.2, colsample_bytree=0.3, score=0.846, total=   1.0s\n",
      "[CV] n_estimators=800, min_child_weight=5, max_depth=8, learning_rate=0.25, gamma=0.2, colsample_bytree=0.5 \n",
      "[CV]  n_estimators=800, min_child_weight=5, max_depth=8, learning_rate=0.25, gamma=0.2, colsample_bytree=0.5, score=0.895, total=   0.7s\n",
      "[CV] n_estimators=800, min_child_weight=5, max_depth=8, learning_rate=0.25, gamma=0.2, colsample_bytree=0.5 \n",
      "[CV]  n_estimators=800, min_child_weight=5, max_depth=8, learning_rate=0.25, gamma=0.2, colsample_bytree=0.5, score=0.877, total=   0.7s\n",
      "[CV] n_estimators=800, min_child_weight=5, max_depth=8, learning_rate=0.25, gamma=0.2, colsample_bytree=0.5 \n",
      "[CV]  n_estimators=800, min_child_weight=5, max_depth=8, learning_rate=0.25, gamma=0.2, colsample_bytree=0.5, score=0.838, total=   0.7s\n",
      "[CV] n_estimators=800, min_child_weight=5, max_depth=8, learning_rate=0.25, gamma=0.2, colsample_bytree=0.5 \n",
      "[CV]  n_estimators=800, min_child_weight=5, max_depth=8, learning_rate=0.25, gamma=0.2, colsample_bytree=0.5, score=0.907, total=   0.7s\n",
      "[CV] n_estimators=800, min_child_weight=5, max_depth=8, learning_rate=0.25, gamma=0.2, colsample_bytree=0.5 \n",
      "[CV]  n_estimators=800, min_child_weight=5, max_depth=8, learning_rate=0.25, gamma=0.2, colsample_bytree=0.5, score=0.836, total=   0.7s\n",
      "[CV] n_estimators=800, min_child_weight=5, max_depth=8, learning_rate=0.25, gamma=0.2, colsample_bytree=0.5 \n",
      "[CV]  n_estimators=800, min_child_weight=5, max_depth=8, learning_rate=0.25, gamma=0.2, colsample_bytree=0.5, score=0.835, total=   0.7s\n",
      "[CV] n_estimators=800, min_child_weight=5, max_depth=8, learning_rate=0.25, gamma=0.2, colsample_bytree=0.5 \n",
      "[CV]  n_estimators=800, min_child_weight=5, max_depth=8, learning_rate=0.25, gamma=0.2, colsample_bytree=0.5, score=0.869, total=   0.7s\n",
      "[CV] n_estimators=800, min_child_weight=5, max_depth=8, learning_rate=0.25, gamma=0.2, colsample_bytree=0.5 \n",
      "[CV]  n_estimators=800, min_child_weight=5, max_depth=8, learning_rate=0.25, gamma=0.2, colsample_bytree=0.5, score=0.863, total=   0.7s\n",
      "[CV] n_estimators=800, min_child_weight=5, max_depth=8, learning_rate=0.25, gamma=0.2, colsample_bytree=0.5 \n",
      "[CV]  n_estimators=800, min_child_weight=5, max_depth=8, learning_rate=0.25, gamma=0.2, colsample_bytree=0.5, score=0.821, total=   0.7s\n",
      "[CV] n_estimators=800, min_child_weight=5, max_depth=8, learning_rate=0.25, gamma=0.2, colsample_bytree=0.5 \n",
      "[CV]  n_estimators=800, min_child_weight=5, max_depth=8, learning_rate=0.25, gamma=0.2, colsample_bytree=0.5, score=0.855, total=   0.7s\n",
      "[CV] n_estimators=1400, min_child_weight=7, max_depth=3, learning_rate=0.1, gamma=0.2, colsample_bytree=0.3 \n",
      "[CV]  n_estimators=1400, min_child_weight=7, max_depth=3, learning_rate=0.1, gamma=0.2, colsample_bytree=0.3, score=0.896, total=   0.5s\n",
      "[CV] n_estimators=1400, min_child_weight=7, max_depth=3, learning_rate=0.1, gamma=0.2, colsample_bytree=0.3 \n",
      "[CV]  n_estimators=1400, min_child_weight=7, max_depth=3, learning_rate=0.1, gamma=0.2, colsample_bytree=0.3, score=0.876, total=   0.5s\n",
      "[CV] n_estimators=1400, min_child_weight=7, max_depth=3, learning_rate=0.1, gamma=0.2, colsample_bytree=0.3 \n",
      "[CV]  n_estimators=1400, min_child_weight=7, max_depth=3, learning_rate=0.1, gamma=0.2, colsample_bytree=0.3, score=0.811, total=   0.4s\n",
      "[CV] n_estimators=1400, min_child_weight=7, max_depth=3, learning_rate=0.1, gamma=0.2, colsample_bytree=0.3 \n",
      "[CV]  n_estimators=1400, min_child_weight=7, max_depth=3, learning_rate=0.1, gamma=0.2, colsample_bytree=0.3, score=0.909, total=   0.4s\n",
      "[CV] n_estimators=1400, min_child_weight=7, max_depth=3, learning_rate=0.1, gamma=0.2, colsample_bytree=0.3 \n",
      "[CV]  n_estimators=1400, min_child_weight=7, max_depth=3, learning_rate=0.1, gamma=0.2, colsample_bytree=0.3, score=0.823, total=   0.5s\n",
      "[CV] n_estimators=1400, min_child_weight=7, max_depth=3, learning_rate=0.1, gamma=0.2, colsample_bytree=0.3 \n",
      "[CV]  n_estimators=1400, min_child_weight=7, max_depth=3, learning_rate=0.1, gamma=0.2, colsample_bytree=0.3, score=0.864, total=   0.4s\n",
      "[CV] n_estimators=1400, min_child_weight=7, max_depth=3, learning_rate=0.1, gamma=0.2, colsample_bytree=0.3 \n",
      "[CV]  n_estimators=1400, min_child_weight=7, max_depth=3, learning_rate=0.1, gamma=0.2, colsample_bytree=0.3, score=0.838, total=   0.5s\n",
      "[CV] n_estimators=1400, min_child_weight=7, max_depth=3, learning_rate=0.1, gamma=0.2, colsample_bytree=0.3 \n",
      "[CV]  n_estimators=1400, min_child_weight=7, max_depth=3, learning_rate=0.1, gamma=0.2, colsample_bytree=0.3, score=0.868, total=   0.4s\n",
      "[CV] n_estimators=1400, min_child_weight=7, max_depth=3, learning_rate=0.1, gamma=0.2, colsample_bytree=0.3 \n",
      "[CV]  n_estimators=1400, min_child_weight=7, max_depth=3, learning_rate=0.1, gamma=0.2, colsample_bytree=0.3, score=0.828, total=   0.5s\n",
      "[CV] n_estimators=1400, min_child_weight=7, max_depth=3, learning_rate=0.1, gamma=0.2, colsample_bytree=0.3 \n",
      "[CV]  n_estimators=1400, min_child_weight=7, max_depth=3, learning_rate=0.1, gamma=0.2, colsample_bytree=0.3, score=0.856, total=   0.5s\n",
      "[CV] n_estimators=2000, min_child_weight=5, max_depth=10, learning_rate=0.2, gamma=0.1, colsample_bytree=0.7 \n",
      "[CV]  n_estimators=2000, min_child_weight=5, max_depth=10, learning_rate=0.2, gamma=0.1, colsample_bytree=0.7, score=0.904, total=   2.2s\n",
      "[CV] n_estimators=2000, min_child_weight=5, max_depth=10, learning_rate=0.2, gamma=0.1, colsample_bytree=0.7 \n",
      "[CV]  n_estimators=2000, min_child_weight=5, max_depth=10, learning_rate=0.2, gamma=0.1, colsample_bytree=0.7, score=0.885, total=   2.4s\n",
      "[CV] n_estimators=2000, min_child_weight=5, max_depth=10, learning_rate=0.2, gamma=0.1, colsample_bytree=0.7 \n",
      "[CV]  n_estimators=2000, min_child_weight=5, max_depth=10, learning_rate=0.2, gamma=0.1, colsample_bytree=0.7, score=0.849, total=   2.8s\n",
      "[CV] n_estimators=2000, min_child_weight=5, max_depth=10, learning_rate=0.2, gamma=0.1, colsample_bytree=0.7 \n",
      "[CV]  n_estimators=2000, min_child_weight=5, max_depth=10, learning_rate=0.2, gamma=0.1, colsample_bytree=0.7, score=0.906, total=   2.2s\n",
      "[CV] n_estimators=2000, min_child_weight=5, max_depth=10, learning_rate=0.2, gamma=0.1, colsample_bytree=0.7 \n",
      "[CV]  n_estimators=2000, min_child_weight=5, max_depth=10, learning_rate=0.2, gamma=0.1, colsample_bytree=0.7, score=0.850, total=   2.1s\n",
      "[CV] n_estimators=2000, min_child_weight=5, max_depth=10, learning_rate=0.2, gamma=0.1, colsample_bytree=0.7 \n",
      "[CV]  n_estimators=2000, min_child_weight=5, max_depth=10, learning_rate=0.2, gamma=0.1, colsample_bytree=0.7, score=0.847, total=   2.2s\n",
      "[CV] n_estimators=2000, min_child_weight=5, max_depth=10, learning_rate=0.2, gamma=0.1, colsample_bytree=0.7 \n",
      "[CV]  n_estimators=2000, min_child_weight=5, max_depth=10, learning_rate=0.2, gamma=0.1, colsample_bytree=0.7, score=0.883, total=   2.2s\n",
      "[CV] n_estimators=2000, min_child_weight=5, max_depth=10, learning_rate=0.2, gamma=0.1, colsample_bytree=0.7 \n",
      "[CV]  n_estimators=2000, min_child_weight=5, max_depth=10, learning_rate=0.2, gamma=0.1, colsample_bytree=0.7, score=0.887, total=   2.2s\n",
      "[CV] n_estimators=2000, min_child_weight=5, max_depth=10, learning_rate=0.2, gamma=0.1, colsample_bytree=0.7 \n",
      "[CV]  n_estimators=2000, min_child_weight=5, max_depth=10, learning_rate=0.2, gamma=0.1, colsample_bytree=0.7, score=0.851, total=   2.1s\n",
      "[CV] n_estimators=2000, min_child_weight=5, max_depth=10, learning_rate=0.2, gamma=0.1, colsample_bytree=0.7 \n",
      "[CV]  n_estimators=2000, min_child_weight=5, max_depth=10, learning_rate=0.2, gamma=0.1, colsample_bytree=0.7, score=0.843, total=   2.3s\n",
      "[CV] n_estimators=1800, min_child_weight=7, max_depth=3, learning_rate=0.15, gamma=0.3, colsample_bytree=0.5 \n",
      "[CV]  n_estimators=1800, min_child_weight=7, max_depth=3, learning_rate=0.15, gamma=0.3, colsample_bytree=0.5, score=0.888, total=   0.7s\n",
      "[CV] n_estimators=1800, min_child_weight=7, max_depth=3, learning_rate=0.15, gamma=0.3, colsample_bytree=0.5 \n",
      "[CV]  n_estimators=1800, min_child_weight=7, max_depth=3, learning_rate=0.15, gamma=0.3, colsample_bytree=0.5, score=0.864, total=   0.7s\n",
      "[CV] n_estimators=1800, min_child_weight=7, max_depth=3, learning_rate=0.15, gamma=0.3, colsample_bytree=0.5 \n",
      "[CV]  n_estimators=1800, min_child_weight=7, max_depth=3, learning_rate=0.15, gamma=0.3, colsample_bytree=0.5, score=0.814, total=   0.7s\n",
      "[CV] n_estimators=1800, min_child_weight=7, max_depth=3, learning_rate=0.15, gamma=0.3, colsample_bytree=0.5 \n",
      "[CV]  n_estimators=1800, min_child_weight=7, max_depth=3, learning_rate=0.15, gamma=0.3, colsample_bytree=0.5, score=0.900, total=   0.7s\n",
      "[CV] n_estimators=1800, min_child_weight=7, max_depth=3, learning_rate=0.15, gamma=0.3, colsample_bytree=0.5 \n",
      "[CV]  n_estimators=1800, min_child_weight=7, max_depth=3, learning_rate=0.15, gamma=0.3, colsample_bytree=0.5, score=0.823, total=   0.7s\n",
      "[CV] n_estimators=1800, min_child_weight=7, max_depth=3, learning_rate=0.15, gamma=0.3, colsample_bytree=0.5 \n",
      "[CV]  n_estimators=1800, min_child_weight=7, max_depth=3, learning_rate=0.15, gamma=0.3, colsample_bytree=0.5, score=0.850, total=   0.7s\n",
      "[CV] n_estimators=1800, min_child_weight=7, max_depth=3, learning_rate=0.15, gamma=0.3, colsample_bytree=0.5 \n",
      "[CV]  n_estimators=1800, min_child_weight=7, max_depth=3, learning_rate=0.15, gamma=0.3, colsample_bytree=0.5, score=0.846, total=   0.7s\n",
      "[CV] n_estimators=1800, min_child_weight=7, max_depth=3, learning_rate=0.15, gamma=0.3, colsample_bytree=0.5 \n",
      "[CV]  n_estimators=1800, min_child_weight=7, max_depth=3, learning_rate=0.15, gamma=0.3, colsample_bytree=0.5, score=0.856, total=   0.7s\n",
      "[CV] n_estimators=1800, min_child_weight=7, max_depth=3, learning_rate=0.15, gamma=0.3, colsample_bytree=0.5 \n",
      "[CV]  n_estimators=1800, min_child_weight=7, max_depth=3, learning_rate=0.15, gamma=0.3, colsample_bytree=0.5, score=0.819, total=   0.7s\n",
      "[CV] n_estimators=1800, min_child_weight=7, max_depth=3, learning_rate=0.15, gamma=0.3, colsample_bytree=0.5 \n",
      "[CV]  n_estimators=1800, min_child_weight=7, max_depth=3, learning_rate=0.15, gamma=0.3, colsample_bytree=0.5, score=0.844, total=   0.7s\n",
      "[CV] n_estimators=800, min_child_weight=5, max_depth=4, learning_rate=0.15, gamma=0.4, colsample_bytree=0.7 \n",
      "[CV]  n_estimators=800, min_child_weight=5, max_depth=4, learning_rate=0.15, gamma=0.4, colsample_bytree=0.7, score=0.886, total=   0.4s\n",
      "[CV] n_estimators=800, min_child_weight=5, max_depth=4, learning_rate=0.15, gamma=0.4, colsample_bytree=0.7 \n",
      "[CV]  n_estimators=800, min_child_weight=5, max_depth=4, learning_rate=0.15, gamma=0.4, colsample_bytree=0.7, score=0.860, total=   0.5s\n",
      "[CV] n_estimators=800, min_child_weight=5, max_depth=4, learning_rate=0.15, gamma=0.4, colsample_bytree=0.7 \n",
      "[CV]  n_estimators=800, min_child_weight=5, max_depth=4, learning_rate=0.15, gamma=0.4, colsample_bytree=0.7, score=0.795, total=   0.4s\n",
      "[CV] n_estimators=800, min_child_weight=5, max_depth=4, learning_rate=0.15, gamma=0.4, colsample_bytree=0.7 \n",
      "[CV]  n_estimators=800, min_child_weight=5, max_depth=4, learning_rate=0.15, gamma=0.4, colsample_bytree=0.7, score=0.893, total=   0.4s\n",
      "[CV] n_estimators=800, min_child_weight=5, max_depth=4, learning_rate=0.15, gamma=0.4, colsample_bytree=0.7 \n",
      "[CV]  n_estimators=800, min_child_weight=5, max_depth=4, learning_rate=0.15, gamma=0.4, colsample_bytree=0.7, score=0.825, total=   0.5s\n",
      "[CV] n_estimators=800, min_child_weight=5, max_depth=4, learning_rate=0.15, gamma=0.4, colsample_bytree=0.7 \n",
      "[CV]  n_estimators=800, min_child_weight=5, max_depth=4, learning_rate=0.15, gamma=0.4, colsample_bytree=0.7, score=0.865, total=   0.4s\n",
      "[CV] n_estimators=800, min_child_weight=5, max_depth=4, learning_rate=0.15, gamma=0.4, colsample_bytree=0.7 \n",
      "[CV]  n_estimators=800, min_child_weight=5, max_depth=4, learning_rate=0.15, gamma=0.4, colsample_bytree=0.7, score=0.845, total=   0.4s\n",
      "[CV] n_estimators=800, min_child_weight=5, max_depth=4, learning_rate=0.15, gamma=0.4, colsample_bytree=0.7 \n",
      "[CV]  n_estimators=800, min_child_weight=5, max_depth=4, learning_rate=0.15, gamma=0.4, colsample_bytree=0.7, score=0.848, total=   0.4s\n",
      "[CV] n_estimators=800, min_child_weight=5, max_depth=4, learning_rate=0.15, gamma=0.4, colsample_bytree=0.7 \n",
      "[CV]  n_estimators=800, min_child_weight=5, max_depth=4, learning_rate=0.15, gamma=0.4, colsample_bytree=0.7, score=0.828, total=   0.4s\n",
      "[CV] n_estimators=800, min_child_weight=5, max_depth=4, learning_rate=0.15, gamma=0.4, colsample_bytree=0.7 \n",
      "[CV]  n_estimators=800, min_child_weight=5, max_depth=4, learning_rate=0.15, gamma=0.4, colsample_bytree=0.7, score=0.823, total=   0.4s\n",
      "[CV] n_estimators=800, min_child_weight=7, max_depth=10, learning_rate=0.2, gamma=0.4, colsample_bytree=0.5 \n",
      "[CV]  n_estimators=800, min_child_weight=7, max_depth=10, learning_rate=0.2, gamma=0.4, colsample_bytree=0.5, score=0.885, total=   0.8s\n",
      "[CV] n_estimators=800, min_child_weight=7, max_depth=10, learning_rate=0.2, gamma=0.4, colsample_bytree=0.5 \n",
      "[CV]  n_estimators=800, min_child_weight=7, max_depth=10, learning_rate=0.2, gamma=0.4, colsample_bytree=0.5, score=0.863, total=   1.0s\n",
      "[CV] n_estimators=800, min_child_weight=7, max_depth=10, learning_rate=0.2, gamma=0.4, colsample_bytree=0.5 \n",
      "[CV]  n_estimators=800, min_child_weight=7, max_depth=10, learning_rate=0.2, gamma=0.4, colsample_bytree=0.5, score=0.800, total=   0.8s\n",
      "[CV] n_estimators=800, min_child_weight=7, max_depth=10, learning_rate=0.2, gamma=0.4, colsample_bytree=0.5 \n",
      "[CV]  n_estimators=800, min_child_weight=7, max_depth=10, learning_rate=0.2, gamma=0.4, colsample_bytree=0.5, score=0.895, total=   0.8s\n",
      "[CV] n_estimators=800, min_child_weight=7, max_depth=10, learning_rate=0.2, gamma=0.4, colsample_bytree=0.5 \n",
      "[CV]  n_estimators=800, min_child_weight=7, max_depth=10, learning_rate=0.2, gamma=0.4, colsample_bytree=0.5, score=0.802, total=   0.8s\n",
      "[CV] n_estimators=800, min_child_weight=7, max_depth=10, learning_rate=0.2, gamma=0.4, colsample_bytree=0.5 \n",
      "[CV]  n_estimators=800, min_child_weight=7, max_depth=10, learning_rate=0.2, gamma=0.4, colsample_bytree=0.5, score=0.844, total=   0.8s\n",
      "[CV] n_estimators=800, min_child_weight=7, max_depth=10, learning_rate=0.2, gamma=0.4, colsample_bytree=0.5 \n",
      "[CV]  n_estimators=800, min_child_weight=7, max_depth=10, learning_rate=0.2, gamma=0.4, colsample_bytree=0.5, score=0.843, total=   0.8s\n",
      "[CV] n_estimators=800, min_child_weight=7, max_depth=10, learning_rate=0.2, gamma=0.4, colsample_bytree=0.5 \n",
      "[CV]  n_estimators=800, min_child_weight=7, max_depth=10, learning_rate=0.2, gamma=0.4, colsample_bytree=0.5, score=0.838, total=   0.8s\n",
      "[CV] n_estimators=800, min_child_weight=7, max_depth=10, learning_rate=0.2, gamma=0.4, colsample_bytree=0.5 \n",
      "[CV]  n_estimators=800, min_child_weight=7, max_depth=10, learning_rate=0.2, gamma=0.4, colsample_bytree=0.5, score=0.812, total=   0.9s\n",
      "[CV] n_estimators=800, min_child_weight=7, max_depth=10, learning_rate=0.2, gamma=0.4, colsample_bytree=0.5 \n",
      "[CV]  n_estimators=800, min_child_weight=7, max_depth=10, learning_rate=0.2, gamma=0.4, colsample_bytree=0.5, score=0.861, total=   0.8s\n",
      "[CV] n_estimators=2000, min_child_weight=5, max_depth=8, learning_rate=0.3, gamma=0.4, colsample_bytree=0.3 \n",
      "[CV]  n_estimators=2000, min_child_weight=5, max_depth=8, learning_rate=0.3, gamma=0.4, colsample_bytree=0.3, score=0.892, total=   1.7s\n",
      "[CV] n_estimators=2000, min_child_weight=5, max_depth=8, learning_rate=0.3, gamma=0.4, colsample_bytree=0.3 \n",
      "[CV]  n_estimators=2000, min_child_weight=5, max_depth=8, learning_rate=0.3, gamma=0.4, colsample_bytree=0.3, score=0.850, total=   1.8s\n",
      "[CV] n_estimators=2000, min_child_weight=5, max_depth=8, learning_rate=0.3, gamma=0.4, colsample_bytree=0.3 \n",
      "[CV]  n_estimators=2000, min_child_weight=5, max_depth=8, learning_rate=0.3, gamma=0.4, colsample_bytree=0.3, score=0.784, total=   1.9s\n",
      "[CV] n_estimators=2000, min_child_weight=5, max_depth=8, learning_rate=0.3, gamma=0.4, colsample_bytree=0.3 \n",
      "[CV]  n_estimators=2000, min_child_weight=5, max_depth=8, learning_rate=0.3, gamma=0.4, colsample_bytree=0.3, score=0.872, total=   1.9s\n",
      "[CV] n_estimators=2000, min_child_weight=5, max_depth=8, learning_rate=0.3, gamma=0.4, colsample_bytree=0.3 \n",
      "[CV]  n_estimators=2000, min_child_weight=5, max_depth=8, learning_rate=0.3, gamma=0.4, colsample_bytree=0.3, score=0.785, total=   1.7s\n",
      "[CV] n_estimators=2000, min_child_weight=5, max_depth=8, learning_rate=0.3, gamma=0.4, colsample_bytree=0.3 \n",
      "[CV]  n_estimators=2000, min_child_weight=5, max_depth=8, learning_rate=0.3, gamma=0.4, colsample_bytree=0.3, score=0.836, total=   1.5s\n",
      "[CV] n_estimators=2000, min_child_weight=5, max_depth=8, learning_rate=0.3, gamma=0.4, colsample_bytree=0.3 \n",
      "[CV]  n_estimators=2000, min_child_weight=5, max_depth=8, learning_rate=0.3, gamma=0.4, colsample_bytree=0.3, score=0.822, total=   1.6s\n",
      "[CV] n_estimators=2000, min_child_weight=5, max_depth=8, learning_rate=0.3, gamma=0.4, colsample_bytree=0.3 \n",
      "[CV]  n_estimators=2000, min_child_weight=5, max_depth=8, learning_rate=0.3, gamma=0.4, colsample_bytree=0.3, score=0.859, total=   1.7s\n",
      "[CV] n_estimators=2000, min_child_weight=5, max_depth=8, learning_rate=0.3, gamma=0.4, colsample_bytree=0.3 \n",
      "[CV]  n_estimators=2000, min_child_weight=5, max_depth=8, learning_rate=0.3, gamma=0.4, colsample_bytree=0.3, score=0.762, total=   1.8s\n",
      "[CV] n_estimators=2000, min_child_weight=5, max_depth=8, learning_rate=0.3, gamma=0.4, colsample_bytree=0.3 \n",
      "[CV]  n_estimators=2000, min_child_weight=5, max_depth=8, learning_rate=0.3, gamma=0.4, colsample_bytree=0.3, score=0.820, total=   2.0s\n",
      "[CV] n_estimators=1600, min_child_weight=3, max_depth=5, learning_rate=0.1, gamma=0.4, colsample_bytree=0.3 \n",
      "[CV]  n_estimators=1600, min_child_weight=3, max_depth=5, learning_rate=0.1, gamma=0.4, colsample_bytree=0.3, score=0.888, total=   0.9s\n",
      "[CV] n_estimators=1600, min_child_weight=3, max_depth=5, learning_rate=0.1, gamma=0.4, colsample_bytree=0.3 \n",
      "[CV]  n_estimators=1600, min_child_weight=3, max_depth=5, learning_rate=0.1, gamma=0.4, colsample_bytree=0.3, score=0.856, total=   0.8s\n",
      "[CV] n_estimators=1600, min_child_weight=3, max_depth=5, learning_rate=0.1, gamma=0.4, colsample_bytree=0.3 \n",
      "[CV]  n_estimators=1600, min_child_weight=3, max_depth=5, learning_rate=0.1, gamma=0.4, colsample_bytree=0.3, score=0.801, total=   0.8s\n",
      "[CV] n_estimators=1600, min_child_weight=3, max_depth=5, learning_rate=0.1, gamma=0.4, colsample_bytree=0.3 \n",
      "[CV]  n_estimators=1600, min_child_weight=3, max_depth=5, learning_rate=0.1, gamma=0.4, colsample_bytree=0.3, score=0.890, total=   0.8s\n",
      "[CV] n_estimators=1600, min_child_weight=3, max_depth=5, learning_rate=0.1, gamma=0.4, colsample_bytree=0.3 \n",
      "[CV]  n_estimators=1600, min_child_weight=3, max_depth=5, learning_rate=0.1, gamma=0.4, colsample_bytree=0.3, score=0.816, total=   0.8s\n",
      "[CV] n_estimators=1600, min_child_weight=3, max_depth=5, learning_rate=0.1, gamma=0.4, colsample_bytree=0.3 \n",
      "[CV]  n_estimators=1600, min_child_weight=3, max_depth=5, learning_rate=0.1, gamma=0.4, colsample_bytree=0.3, score=0.860, total=   0.8s\n",
      "[CV] n_estimators=1600, min_child_weight=3, max_depth=5, learning_rate=0.1, gamma=0.4, colsample_bytree=0.3 \n",
      "[CV]  n_estimators=1600, min_child_weight=3, max_depth=5, learning_rate=0.1, gamma=0.4, colsample_bytree=0.3, score=0.835, total=   0.8s\n",
      "[CV] n_estimators=1600, min_child_weight=3, max_depth=5, learning_rate=0.1, gamma=0.4, colsample_bytree=0.3 \n",
      "[CV]  n_estimators=1600, min_child_weight=3, max_depth=5, learning_rate=0.1, gamma=0.4, colsample_bytree=0.3, score=0.846, total=   0.9s\n",
      "[CV] n_estimators=1600, min_child_weight=3, max_depth=5, learning_rate=0.1, gamma=0.4, colsample_bytree=0.3 \n",
      "[CV]  n_estimators=1600, min_child_weight=3, max_depth=5, learning_rate=0.1, gamma=0.4, colsample_bytree=0.3, score=0.815, total=   0.8s\n",
      "[CV] n_estimators=1600, min_child_weight=3, max_depth=5, learning_rate=0.1, gamma=0.4, colsample_bytree=0.3 \n",
      "[CV]  n_estimators=1600, min_child_weight=3, max_depth=5, learning_rate=0.1, gamma=0.4, colsample_bytree=0.3, score=0.850, total=   0.8s\n",
      "[CV] n_estimators=200, min_child_weight=3, max_depth=4, learning_rate=0.2, gamma=0.3, colsample_bytree=0.3 \n",
      "[CV]  n_estimators=200, min_child_weight=3, max_depth=4, learning_rate=0.2, gamma=0.3, colsample_bytree=0.3, score=0.881, total=   0.1s\n",
      "[CV] n_estimators=200, min_child_weight=3, max_depth=4, learning_rate=0.2, gamma=0.3, colsample_bytree=0.3 \n",
      "[CV]  n_estimators=200, min_child_weight=3, max_depth=4, learning_rate=0.2, gamma=0.3, colsample_bytree=0.3, score=0.859, total=   0.1s\n",
      "[CV] n_estimators=200, min_child_weight=3, max_depth=4, learning_rate=0.2, gamma=0.3, colsample_bytree=0.3 \n",
      "[CV]  n_estimators=200, min_child_weight=3, max_depth=4, learning_rate=0.2, gamma=0.3, colsample_bytree=0.3, score=0.811, total=   0.1s\n",
      "[CV] n_estimators=200, min_child_weight=3, max_depth=4, learning_rate=0.2, gamma=0.3, colsample_bytree=0.3 \n",
      "[CV]  n_estimators=200, min_child_weight=3, max_depth=4, learning_rate=0.2, gamma=0.3, colsample_bytree=0.3, score=0.888, total=   0.1s\n",
      "[CV] n_estimators=200, min_child_weight=3, max_depth=4, learning_rate=0.2, gamma=0.3, colsample_bytree=0.3 \n",
      "[CV]  n_estimators=200, min_child_weight=3, max_depth=4, learning_rate=0.2, gamma=0.3, colsample_bytree=0.3, score=0.832, total=   0.1s\n",
      "[CV] n_estimators=200, min_child_weight=3, max_depth=4, learning_rate=0.2, gamma=0.3, colsample_bytree=0.3 \n",
      "[CV]  n_estimators=200, min_child_weight=3, max_depth=4, learning_rate=0.2, gamma=0.3, colsample_bytree=0.3, score=0.835, total=   0.1s\n",
      "[CV] n_estimators=200, min_child_weight=3, max_depth=4, learning_rate=0.2, gamma=0.3, colsample_bytree=0.3 \n",
      "[CV]  n_estimators=200, min_child_weight=3, max_depth=4, learning_rate=0.2, gamma=0.3, colsample_bytree=0.3, score=0.852, total=   0.1s\n",
      "[CV] n_estimators=200, min_child_weight=3, max_depth=4, learning_rate=0.2, gamma=0.3, colsample_bytree=0.3 \n",
      "[CV]  n_estimators=200, min_child_weight=3, max_depth=4, learning_rate=0.2, gamma=0.3, colsample_bytree=0.3, score=0.859, total=   0.1s\n",
      "[CV] n_estimators=200, min_child_weight=3, max_depth=4, learning_rate=0.2, gamma=0.3, colsample_bytree=0.3 \n",
      "[CV]  n_estimators=200, min_child_weight=3, max_depth=4, learning_rate=0.2, gamma=0.3, colsample_bytree=0.3, score=0.813, total=   0.1s\n",
      "[CV] n_estimators=200, min_child_weight=3, max_depth=4, learning_rate=0.2, gamma=0.3, colsample_bytree=0.3 \n",
      "[CV]  n_estimators=200, min_child_weight=3, max_depth=4, learning_rate=0.2, gamma=0.3, colsample_bytree=0.3, score=0.837, total=   0.1s\n",
      "[CV] n_estimators=2000, min_child_weight=3, max_depth=4, learning_rate=0.05, gamma=0.3, colsample_bytree=0.4 \n",
      "[CV]  n_estimators=2000, min_child_weight=3, max_depth=4, learning_rate=0.05, gamma=0.3, colsample_bytree=0.4, score=0.887, total=   0.9s\n",
      "[CV] n_estimators=2000, min_child_weight=3, max_depth=4, learning_rate=0.05, gamma=0.3, colsample_bytree=0.4 \n",
      "[CV]  n_estimators=2000, min_child_weight=3, max_depth=4, learning_rate=0.05, gamma=0.3, colsample_bytree=0.4, score=0.864, total=   0.9s\n",
      "[CV] n_estimators=2000, min_child_weight=3, max_depth=4, learning_rate=0.05, gamma=0.3, colsample_bytree=0.4 \n",
      "[CV]  n_estimators=2000, min_child_weight=3, max_depth=4, learning_rate=0.05, gamma=0.3, colsample_bytree=0.4, score=0.815, total=   0.9s\n",
      "[CV] n_estimators=2000, min_child_weight=3, max_depth=4, learning_rate=0.05, gamma=0.3, colsample_bytree=0.4 \n",
      "[CV]  n_estimators=2000, min_child_weight=3, max_depth=4, learning_rate=0.05, gamma=0.3, colsample_bytree=0.4, score=0.892, total=   0.9s\n",
      "[CV] n_estimators=2000, min_child_weight=3, max_depth=4, learning_rate=0.05, gamma=0.3, colsample_bytree=0.4 \n",
      "[CV]  n_estimators=2000, min_child_weight=3, max_depth=4, learning_rate=0.05, gamma=0.3, colsample_bytree=0.4, score=0.838, total=   0.9s\n",
      "[CV] n_estimators=2000, min_child_weight=3, max_depth=4, learning_rate=0.05, gamma=0.3, colsample_bytree=0.4 \n",
      "[CV]  n_estimators=2000, min_child_weight=3, max_depth=4, learning_rate=0.05, gamma=0.3, colsample_bytree=0.4, score=0.870, total=   1.0s\n",
      "[CV] n_estimators=2000, min_child_weight=3, max_depth=4, learning_rate=0.05, gamma=0.3, colsample_bytree=0.4 \n",
      "[CV]  n_estimators=2000, min_child_weight=3, max_depth=4, learning_rate=0.05, gamma=0.3, colsample_bytree=0.4, score=0.859, total=   1.0s\n",
      "[CV] n_estimators=2000, min_child_weight=3, max_depth=4, learning_rate=0.05, gamma=0.3, colsample_bytree=0.4 \n",
      "[CV]  n_estimators=2000, min_child_weight=3, max_depth=4, learning_rate=0.05, gamma=0.3, colsample_bytree=0.4, score=0.845, total=   1.0s\n",
      "[CV] n_estimators=2000, min_child_weight=3, max_depth=4, learning_rate=0.05, gamma=0.3, colsample_bytree=0.4 \n",
      "[CV]  n_estimators=2000, min_child_weight=3, max_depth=4, learning_rate=0.05, gamma=0.3, colsample_bytree=0.4, score=0.835, total=   0.9s\n",
      "[CV] n_estimators=2000, min_child_weight=3, max_depth=4, learning_rate=0.05, gamma=0.3, colsample_bytree=0.4 \n",
      "[CV]  n_estimators=2000, min_child_weight=3, max_depth=4, learning_rate=0.05, gamma=0.3, colsample_bytree=0.4, score=0.851, total=   0.9s\n",
      "[CV] n_estimators=1000, min_child_weight=5, max_depth=3, learning_rate=0.2, gamma=0.2, colsample_bytree=0.4 \n",
      "[CV]  n_estimators=1000, min_child_weight=5, max_depth=3, learning_rate=0.2, gamma=0.2, colsample_bytree=0.4, score=0.899, total=   0.4s\n",
      "[CV] n_estimators=1000, min_child_weight=5, max_depth=3, learning_rate=0.2, gamma=0.2, colsample_bytree=0.4 \n",
      "[CV]  n_estimators=1000, min_child_weight=5, max_depth=3, learning_rate=0.2, gamma=0.2, colsample_bytree=0.4, score=0.865, total=   0.4s\n",
      "[CV] n_estimators=1000, min_child_weight=5, max_depth=3, learning_rate=0.2, gamma=0.2, colsample_bytree=0.4 \n",
      "[CV]  n_estimators=1000, min_child_weight=5, max_depth=3, learning_rate=0.2, gamma=0.2, colsample_bytree=0.4, score=0.814, total=   0.4s\n",
      "[CV] n_estimators=1000, min_child_weight=5, max_depth=3, learning_rate=0.2, gamma=0.2, colsample_bytree=0.4 \n",
      "[CV]  n_estimators=1000, min_child_weight=5, max_depth=3, learning_rate=0.2, gamma=0.2, colsample_bytree=0.4, score=0.901, total=   0.4s\n",
      "[CV] n_estimators=1000, min_child_weight=5, max_depth=3, learning_rate=0.2, gamma=0.2, colsample_bytree=0.4 \n",
      "[CV]  n_estimators=1000, min_child_weight=5, max_depth=3, learning_rate=0.2, gamma=0.2, colsample_bytree=0.4, score=0.840, total=   0.4s\n",
      "[CV] n_estimators=1000, min_child_weight=5, max_depth=3, learning_rate=0.2, gamma=0.2, colsample_bytree=0.4 \n",
      "[CV]  n_estimators=1000, min_child_weight=5, max_depth=3, learning_rate=0.2, gamma=0.2, colsample_bytree=0.4, score=0.840, total=   0.5s\n",
      "[CV] n_estimators=1000, min_child_weight=5, max_depth=3, learning_rate=0.2, gamma=0.2, colsample_bytree=0.4 \n",
      "[CV]  n_estimators=1000, min_child_weight=5, max_depth=3, learning_rate=0.2, gamma=0.2, colsample_bytree=0.4, score=0.843, total=   0.4s\n",
      "[CV] n_estimators=1000, min_child_weight=5, max_depth=3, learning_rate=0.2, gamma=0.2, colsample_bytree=0.4 \n",
      "[CV]  n_estimators=1000, min_child_weight=5, max_depth=3, learning_rate=0.2, gamma=0.2, colsample_bytree=0.4, score=0.853, total=   0.3s\n",
      "[CV] n_estimators=1000, min_child_weight=5, max_depth=3, learning_rate=0.2, gamma=0.2, colsample_bytree=0.4 \n",
      "[CV]  n_estimators=1000, min_child_weight=5, max_depth=3, learning_rate=0.2, gamma=0.2, colsample_bytree=0.4, score=0.845, total=   0.4s\n",
      "[CV] n_estimators=1000, min_child_weight=5, max_depth=3, learning_rate=0.2, gamma=0.2, colsample_bytree=0.4 \n",
      "[CV]  n_estimators=1000, min_child_weight=5, max_depth=3, learning_rate=0.2, gamma=0.2, colsample_bytree=0.4, score=0.858, total=   0.4s\n",
      "[CV] n_estimators=200, min_child_weight=3, max_depth=3, learning_rate=0.2, gamma=0.2, colsample_bytree=0.7 \n",
      "[CV]  n_estimators=200, min_child_weight=3, max_depth=3, learning_rate=0.2, gamma=0.2, colsample_bytree=0.7, score=0.908, total=   0.1s\n",
      "[CV] n_estimators=200, min_child_weight=3, max_depth=3, learning_rate=0.2, gamma=0.2, colsample_bytree=0.7 \n",
      "[CV]  n_estimators=200, min_child_weight=3, max_depth=3, learning_rate=0.2, gamma=0.2, colsample_bytree=0.7, score=0.869, total=   0.1s\n",
      "[CV] n_estimators=200, min_child_weight=3, max_depth=3, learning_rate=0.2, gamma=0.2, colsample_bytree=0.7 \n",
      "[CV]  n_estimators=200, min_child_weight=3, max_depth=3, learning_rate=0.2, gamma=0.2, colsample_bytree=0.7, score=0.823, total=   0.1s\n",
      "[CV] n_estimators=200, min_child_weight=3, max_depth=3, learning_rate=0.2, gamma=0.2, colsample_bytree=0.7 \n",
      "[CV]  n_estimators=200, min_child_weight=3, max_depth=3, learning_rate=0.2, gamma=0.2, colsample_bytree=0.7, score=0.889, total=   0.1s\n",
      "[CV] n_estimators=200, min_child_weight=3, max_depth=3, learning_rate=0.2, gamma=0.2, colsample_bytree=0.7 \n",
      "[CV]  n_estimators=200, min_child_weight=3, max_depth=3, learning_rate=0.2, gamma=0.2, colsample_bytree=0.7, score=0.833, total=   0.1s\n",
      "[CV] n_estimators=200, min_child_weight=3, max_depth=3, learning_rate=0.2, gamma=0.2, colsample_bytree=0.7 \n",
      "[CV]  n_estimators=200, min_child_weight=3, max_depth=3, learning_rate=0.2, gamma=0.2, colsample_bytree=0.7, score=0.856, total=   0.1s\n",
      "[CV] n_estimators=200, min_child_weight=3, max_depth=3, learning_rate=0.2, gamma=0.2, colsample_bytree=0.7 \n",
      "[CV]  n_estimators=200, min_child_weight=3, max_depth=3, learning_rate=0.2, gamma=0.2, colsample_bytree=0.7, score=0.845, total=   0.1s\n",
      "[CV] n_estimators=200, min_child_weight=3, max_depth=3, learning_rate=0.2, gamma=0.2, colsample_bytree=0.7 \n",
      "[CV]  n_estimators=200, min_child_weight=3, max_depth=3, learning_rate=0.2, gamma=0.2, colsample_bytree=0.7, score=0.857, total=   0.1s\n",
      "[CV] n_estimators=200, min_child_weight=3, max_depth=3, learning_rate=0.2, gamma=0.2, colsample_bytree=0.7 \n",
      "[CV]  n_estimators=200, min_child_weight=3, max_depth=3, learning_rate=0.2, gamma=0.2, colsample_bytree=0.7, score=0.832, total=   0.1s\n",
      "[CV] n_estimators=200, min_child_weight=3, max_depth=3, learning_rate=0.2, gamma=0.2, colsample_bytree=0.7 \n",
      "[CV]  n_estimators=200, min_child_weight=3, max_depth=3, learning_rate=0.2, gamma=0.2, colsample_bytree=0.7, score=0.813, total=   0.1s\n",
      "[CV] n_estimators=2000, min_child_weight=3, max_depth=8, learning_rate=0.05, gamma=0.1, colsample_bytree=0.3 \n",
      "[CV]  n_estimators=2000, min_child_weight=3, max_depth=8, learning_rate=0.05, gamma=0.1, colsample_bytree=0.3, score=0.907, total=   1.4s\n",
      "[CV] n_estimators=2000, min_child_weight=3, max_depth=8, learning_rate=0.05, gamma=0.1, colsample_bytree=0.3 \n",
      "[CV]  n_estimators=2000, min_child_weight=3, max_depth=8, learning_rate=0.05, gamma=0.1, colsample_bytree=0.3, score=0.885, total=   1.4s\n",
      "[CV] n_estimators=2000, min_child_weight=3, max_depth=8, learning_rate=0.05, gamma=0.1, colsample_bytree=0.3 \n",
      "[CV]  n_estimators=2000, min_child_weight=3, max_depth=8, learning_rate=0.05, gamma=0.1, colsample_bytree=0.3, score=0.841, total=   1.4s\n",
      "[CV] n_estimators=2000, min_child_weight=3, max_depth=8, learning_rate=0.05, gamma=0.1, colsample_bytree=0.3 \n",
      "[CV]  n_estimators=2000, min_child_weight=3, max_depth=8, learning_rate=0.05, gamma=0.1, colsample_bytree=0.3, score=0.906, total=   1.4s\n",
      "[CV] n_estimators=2000, min_child_weight=3, max_depth=8, learning_rate=0.05, gamma=0.1, colsample_bytree=0.3 \n",
      "[CV]  n_estimators=2000, min_child_weight=3, max_depth=8, learning_rate=0.05, gamma=0.1, colsample_bytree=0.3, score=0.864, total=   1.4s\n",
      "[CV] n_estimators=2000, min_child_weight=3, max_depth=8, learning_rate=0.05, gamma=0.1, colsample_bytree=0.3 \n",
      "[CV]  n_estimators=2000, min_child_weight=3, max_depth=8, learning_rate=0.05, gamma=0.1, colsample_bytree=0.3, score=0.862, total=   1.3s\n",
      "[CV] n_estimators=2000, min_child_weight=3, max_depth=8, learning_rate=0.05, gamma=0.1, colsample_bytree=0.3 \n",
      "[CV]  n_estimators=2000, min_child_weight=3, max_depth=8, learning_rate=0.05, gamma=0.1, colsample_bytree=0.3, score=0.875, total=   1.4s\n",
      "[CV] n_estimators=2000, min_child_weight=3, max_depth=8, learning_rate=0.05, gamma=0.1, colsample_bytree=0.3 \n",
      "[CV]  n_estimators=2000, min_child_weight=3, max_depth=8, learning_rate=0.05, gamma=0.1, colsample_bytree=0.3, score=0.888, total=   1.4s\n",
      "[CV] n_estimators=2000, min_child_weight=3, max_depth=8, learning_rate=0.05, gamma=0.1, colsample_bytree=0.3 \n",
      "[CV]  n_estimators=2000, min_child_weight=3, max_depth=8, learning_rate=0.05, gamma=0.1, colsample_bytree=0.3, score=0.849, total=   1.4s\n",
      "[CV] n_estimators=2000, min_child_weight=3, max_depth=8, learning_rate=0.05, gamma=0.1, colsample_bytree=0.3 \n",
      "[CV]  n_estimators=2000, min_child_weight=3, max_depth=8, learning_rate=0.05, gamma=0.1, colsample_bytree=0.3, score=0.861, total=   1.5s\n",
      "[CV] n_estimators=1400, min_child_weight=1, max_depth=15, learning_rate=0.3, gamma=0.1, colsample_bytree=0.7 \n",
      "[CV]  n_estimators=1400, min_child_weight=1, max_depth=15, learning_rate=0.3, gamma=0.1, colsample_bytree=0.7, score=0.900, total=   3.2s\n",
      "[CV] n_estimators=1400, min_child_weight=1, max_depth=15, learning_rate=0.3, gamma=0.1, colsample_bytree=0.7 \n",
      "[CV]  n_estimators=1400, min_child_weight=1, max_depth=15, learning_rate=0.3, gamma=0.1, colsample_bytree=0.7, score=0.867, total=   3.1s\n",
      "[CV] n_estimators=1400, min_child_weight=1, max_depth=15, learning_rate=0.3, gamma=0.1, colsample_bytree=0.7 \n",
      "[CV]  n_estimators=1400, min_child_weight=1, max_depth=15, learning_rate=0.3, gamma=0.1, colsample_bytree=0.7, score=0.802, total=   3.2s\n",
      "[CV] n_estimators=1400, min_child_weight=1, max_depth=15, learning_rate=0.3, gamma=0.1, colsample_bytree=0.7 \n",
      "[CV]  n_estimators=1400, min_child_weight=1, max_depth=15, learning_rate=0.3, gamma=0.1, colsample_bytree=0.7, score=0.869, total=   3.0s\n",
      "[CV] n_estimators=1400, min_child_weight=1, max_depth=15, learning_rate=0.3, gamma=0.1, colsample_bytree=0.7 \n",
      "[CV]  n_estimators=1400, min_child_weight=1, max_depth=15, learning_rate=0.3, gamma=0.1, colsample_bytree=0.7, score=0.820, total=   2.8s\n",
      "[CV] n_estimators=1400, min_child_weight=1, max_depth=15, learning_rate=0.3, gamma=0.1, colsample_bytree=0.7 \n",
      "[CV]  n_estimators=1400, min_child_weight=1, max_depth=15, learning_rate=0.3, gamma=0.1, colsample_bytree=0.7, score=0.847, total=   3.1s\n",
      "[CV] n_estimators=1400, min_child_weight=1, max_depth=15, learning_rate=0.3, gamma=0.1, colsample_bytree=0.7 \n",
      "[CV]  n_estimators=1400, min_child_weight=1, max_depth=15, learning_rate=0.3, gamma=0.1, colsample_bytree=0.7, score=0.837, total=   3.0s\n",
      "[CV] n_estimators=1400, min_child_weight=1, max_depth=15, learning_rate=0.3, gamma=0.1, colsample_bytree=0.7 \n",
      "[CV]  n_estimators=1400, min_child_weight=1, max_depth=15, learning_rate=0.3, gamma=0.1, colsample_bytree=0.7, score=0.891, total=   2.9s\n",
      "[CV] n_estimators=1400, min_child_weight=1, max_depth=15, learning_rate=0.3, gamma=0.1, colsample_bytree=0.7 \n",
      "[CV]  n_estimators=1400, min_child_weight=1, max_depth=15, learning_rate=0.3, gamma=0.1, colsample_bytree=0.7, score=0.784, total=   3.2s\n",
      "[CV] n_estimators=1400, min_child_weight=1, max_depth=15, learning_rate=0.3, gamma=0.1, colsample_bytree=0.7 \n",
      "[CV]  n_estimators=1400, min_child_weight=1, max_depth=15, learning_rate=0.3, gamma=0.1, colsample_bytree=0.7, score=0.840, total=   3.3s\n",
      "[CV] n_estimators=200, min_child_weight=3, max_depth=6, learning_rate=0.25, gamma=0.3, colsample_bytree=0.5 \n",
      "[CV]  n_estimators=200, min_child_weight=3, max_depth=6, learning_rate=0.25, gamma=0.3, colsample_bytree=0.5, score=0.901, total=   0.1s\n",
      "[CV] n_estimators=200, min_child_weight=3, max_depth=6, learning_rate=0.25, gamma=0.3, colsample_bytree=0.5 \n",
      "[CV]  n_estimators=200, min_child_weight=3, max_depth=6, learning_rate=0.25, gamma=0.3, colsample_bytree=0.5, score=0.868, total=   0.1s\n",
      "[CV] n_estimators=200, min_child_weight=3, max_depth=6, learning_rate=0.25, gamma=0.3, colsample_bytree=0.5 \n",
      "[CV]  n_estimators=200, min_child_weight=3, max_depth=6, learning_rate=0.25, gamma=0.3, colsample_bytree=0.5, score=0.823, total=   0.1s\n",
      "[CV] n_estimators=200, min_child_weight=3, max_depth=6, learning_rate=0.25, gamma=0.3, colsample_bytree=0.5 \n",
      "[CV]  n_estimators=200, min_child_weight=3, max_depth=6, learning_rate=0.25, gamma=0.3, colsample_bytree=0.5, score=0.897, total=   0.2s\n",
      "[CV] n_estimators=200, min_child_weight=3, max_depth=6, learning_rate=0.25, gamma=0.3, colsample_bytree=0.5 \n",
      "[CV]  n_estimators=200, min_child_weight=3, max_depth=6, learning_rate=0.25, gamma=0.3, colsample_bytree=0.5, score=0.811, total=   0.2s\n",
      "[CV] n_estimators=200, min_child_weight=3, max_depth=6, learning_rate=0.25, gamma=0.3, colsample_bytree=0.5 \n",
      "[CV]  n_estimators=200, min_child_weight=3, max_depth=6, learning_rate=0.25, gamma=0.3, colsample_bytree=0.5, score=0.844, total=   0.2s\n",
      "[CV] n_estimators=200, min_child_weight=3, max_depth=6, learning_rate=0.25, gamma=0.3, colsample_bytree=0.5 \n",
      "[CV]  n_estimators=200, min_child_weight=3, max_depth=6, learning_rate=0.25, gamma=0.3, colsample_bytree=0.5, score=0.875, total=   0.1s\n",
      "[CV] n_estimators=200, min_child_weight=3, max_depth=6, learning_rate=0.25, gamma=0.3, colsample_bytree=0.5 \n",
      "[CV]  n_estimators=200, min_child_weight=3, max_depth=6, learning_rate=0.25, gamma=0.3, colsample_bytree=0.5, score=0.837, total=   0.1s\n",
      "[CV] n_estimators=200, min_child_weight=3, max_depth=6, learning_rate=0.25, gamma=0.3, colsample_bytree=0.5 \n",
      "[CV]  n_estimators=200, min_child_weight=3, max_depth=6, learning_rate=0.25, gamma=0.3, colsample_bytree=0.5, score=0.805, total=   0.1s\n",
      "[CV] n_estimators=200, min_child_weight=3, max_depth=6, learning_rate=0.25, gamma=0.3, colsample_bytree=0.5 \n",
      "[CV]  n_estimators=200, min_child_weight=3, max_depth=6, learning_rate=0.25, gamma=0.3, colsample_bytree=0.5, score=0.846, total=   0.2s\n",
      "[CV] n_estimators=1600, min_child_weight=1, max_depth=12, learning_rate=0.25, gamma=0.1, colsample_bytree=0.4 \n",
      "[CV]  n_estimators=1600, min_child_weight=1, max_depth=12, learning_rate=0.25, gamma=0.1, colsample_bytree=0.4, score=0.909, total=   2.3s\n",
      "[CV] n_estimators=1600, min_child_weight=1, max_depth=12, learning_rate=0.25, gamma=0.1, colsample_bytree=0.4 \n",
      "[CV]  n_estimators=1600, min_child_weight=1, max_depth=12, learning_rate=0.25, gamma=0.1, colsample_bytree=0.4, score=0.867, total=   2.3s\n",
      "[CV] n_estimators=1600, min_child_weight=1, max_depth=12, learning_rate=0.25, gamma=0.1, colsample_bytree=0.4 \n",
      "[CV]  n_estimators=1600, min_child_weight=1, max_depth=12, learning_rate=0.25, gamma=0.1, colsample_bytree=0.4, score=0.835, total=   2.2s\n",
      "[CV] n_estimators=1600, min_child_weight=1, max_depth=12, learning_rate=0.25, gamma=0.1, colsample_bytree=0.4 \n",
      "[CV]  n_estimators=1600, min_child_weight=1, max_depth=12, learning_rate=0.25, gamma=0.1, colsample_bytree=0.4, score=0.907, total=   2.4s\n",
      "[CV] n_estimators=1600, min_child_weight=1, max_depth=12, learning_rate=0.25, gamma=0.1, colsample_bytree=0.4 \n",
      "[CV]  n_estimators=1600, min_child_weight=1, max_depth=12, learning_rate=0.25, gamma=0.1, colsample_bytree=0.4, score=0.865, total=   2.2s\n",
      "[CV] n_estimators=1600, min_child_weight=1, max_depth=12, learning_rate=0.25, gamma=0.1, colsample_bytree=0.4 \n",
      "[CV]  n_estimators=1600, min_child_weight=1, max_depth=12, learning_rate=0.25, gamma=0.1, colsample_bytree=0.4, score=0.823, total=   2.3s\n",
      "[CV] n_estimators=1600, min_child_weight=1, max_depth=12, learning_rate=0.25, gamma=0.1, colsample_bytree=0.4 \n",
      "[CV]  n_estimators=1600, min_child_weight=1, max_depth=12, learning_rate=0.25, gamma=0.1, colsample_bytree=0.4, score=0.841, total=   2.3s\n",
      "[CV] n_estimators=1600, min_child_weight=1, max_depth=12, learning_rate=0.25, gamma=0.1, colsample_bytree=0.4 \n",
      "[CV]  n_estimators=1600, min_child_weight=1, max_depth=12, learning_rate=0.25, gamma=0.1, colsample_bytree=0.4, score=0.892, total=   2.2s\n",
      "[CV] n_estimators=1600, min_child_weight=1, max_depth=12, learning_rate=0.25, gamma=0.1, colsample_bytree=0.4 \n",
      "[CV]  n_estimators=1600, min_child_weight=1, max_depth=12, learning_rate=0.25, gamma=0.1, colsample_bytree=0.4, score=0.830, total=   2.2s\n",
      "[CV] n_estimators=1600, min_child_weight=1, max_depth=12, learning_rate=0.25, gamma=0.1, colsample_bytree=0.4 \n",
      "[CV]  n_estimators=1600, min_child_weight=1, max_depth=12, learning_rate=0.25, gamma=0.1, colsample_bytree=0.4, score=0.861, total=   2.5s\n",
      "[CV] n_estimators=1800, min_child_weight=3, max_depth=10, learning_rate=0.2, gamma=0.2, colsample_bytree=0.4 \n",
      "[CV]  n_estimators=1800, min_child_weight=3, max_depth=10, learning_rate=0.2, gamma=0.2, colsample_bytree=0.4, score=0.896, total=   1.8s\n",
      "[CV] n_estimators=1800, min_child_weight=3, max_depth=10, learning_rate=0.2, gamma=0.2, colsample_bytree=0.4 \n",
      "[CV]  n_estimators=1800, min_child_weight=3, max_depth=10, learning_rate=0.2, gamma=0.2, colsample_bytree=0.4, score=0.884, total=   1.8s\n",
      "[CV] n_estimators=1800, min_child_weight=3, max_depth=10, learning_rate=0.2, gamma=0.2, colsample_bytree=0.4 \n",
      "[CV]  n_estimators=1800, min_child_weight=3, max_depth=10, learning_rate=0.2, gamma=0.2, colsample_bytree=0.4, score=0.833, total=   1.8s\n",
      "[CV] n_estimators=1800, min_child_weight=3, max_depth=10, learning_rate=0.2, gamma=0.2, colsample_bytree=0.4 \n",
      "[CV]  n_estimators=1800, min_child_weight=3, max_depth=10, learning_rate=0.2, gamma=0.2, colsample_bytree=0.4, score=0.893, total=   1.8s\n",
      "[CV] n_estimators=1800, min_child_weight=3, max_depth=10, learning_rate=0.2, gamma=0.2, colsample_bytree=0.4 \n",
      "[CV]  n_estimators=1800, min_child_weight=3, max_depth=10, learning_rate=0.2, gamma=0.2, colsample_bytree=0.4, score=0.859, total=   1.9s\n",
      "[CV] n_estimators=1800, min_child_weight=3, max_depth=10, learning_rate=0.2, gamma=0.2, colsample_bytree=0.4 \n",
      "[CV]  n_estimators=1800, min_child_weight=3, max_depth=10, learning_rate=0.2, gamma=0.2, colsample_bytree=0.4, score=0.831, total=   1.9s\n",
      "[CV] n_estimators=1800, min_child_weight=3, max_depth=10, learning_rate=0.2, gamma=0.2, colsample_bytree=0.4 \n",
      "[CV]  n_estimators=1800, min_child_weight=3, max_depth=10, learning_rate=0.2, gamma=0.2, colsample_bytree=0.4, score=0.865, total=   1.8s\n",
      "[CV] n_estimators=1800, min_child_weight=3, max_depth=10, learning_rate=0.2, gamma=0.2, colsample_bytree=0.4 \n",
      "[CV]  n_estimators=1800, min_child_weight=3, max_depth=10, learning_rate=0.2, gamma=0.2, colsample_bytree=0.4, score=0.877, total=   1.8s\n",
      "[CV] n_estimators=1800, min_child_weight=3, max_depth=10, learning_rate=0.2, gamma=0.2, colsample_bytree=0.4 \n",
      "[CV]  n_estimators=1800, min_child_weight=3, max_depth=10, learning_rate=0.2, gamma=0.2, colsample_bytree=0.4, score=0.841, total=   1.8s\n",
      "[CV] n_estimators=1800, min_child_weight=3, max_depth=10, learning_rate=0.2, gamma=0.2, colsample_bytree=0.4 \n",
      "[CV]  n_estimators=1800, min_child_weight=3, max_depth=10, learning_rate=0.2, gamma=0.2, colsample_bytree=0.4, score=0.856, total=   1.7s\n",
      "[CV] n_estimators=800, min_child_weight=7, max_depth=4, learning_rate=0.15, gamma=0.1, colsample_bytree=0.7 \n",
      "[CV]  n_estimators=800, min_child_weight=7, max_depth=4, learning_rate=0.15, gamma=0.1, colsample_bytree=0.7, score=0.909, total=   0.4s\n",
      "[CV] n_estimators=800, min_child_weight=7, max_depth=4, learning_rate=0.15, gamma=0.1, colsample_bytree=0.7 \n",
      "[CV]  n_estimators=800, min_child_weight=7, max_depth=4, learning_rate=0.15, gamma=0.1, colsample_bytree=0.7, score=0.878, total=   0.4s\n",
      "[CV] n_estimators=800, min_child_weight=7, max_depth=4, learning_rate=0.15, gamma=0.1, colsample_bytree=0.7 \n",
      "[CV]  n_estimators=800, min_child_weight=7, max_depth=4, learning_rate=0.15, gamma=0.1, colsample_bytree=0.7, score=0.827, total=   0.4s\n",
      "[CV] n_estimators=800, min_child_weight=7, max_depth=4, learning_rate=0.15, gamma=0.1, colsample_bytree=0.7 \n",
      "[CV]  n_estimators=800, min_child_weight=7, max_depth=4, learning_rate=0.15, gamma=0.1, colsample_bytree=0.7, score=0.905, total=   0.4s\n",
      "[CV] n_estimators=800, min_child_weight=7, max_depth=4, learning_rate=0.15, gamma=0.1, colsample_bytree=0.7 \n",
      "[CV]  n_estimators=800, min_child_weight=7, max_depth=4, learning_rate=0.15, gamma=0.1, colsample_bytree=0.7, score=0.840, total=   0.4s\n",
      "[CV] n_estimators=800, min_child_weight=7, max_depth=4, learning_rate=0.15, gamma=0.1, colsample_bytree=0.7 \n",
      "[CV]  n_estimators=800, min_child_weight=7, max_depth=4, learning_rate=0.15, gamma=0.1, colsample_bytree=0.7, score=0.864, total=   0.4s\n",
      "[CV] n_estimators=800, min_child_weight=7, max_depth=4, learning_rate=0.15, gamma=0.1, colsample_bytree=0.7 \n",
      "[CV]  n_estimators=800, min_child_weight=7, max_depth=4, learning_rate=0.15, gamma=0.1, colsample_bytree=0.7, score=0.860, total=   0.4s\n",
      "[CV] n_estimators=800, min_child_weight=7, max_depth=4, learning_rate=0.15, gamma=0.1, colsample_bytree=0.7 \n",
      "[CV]  n_estimators=800, min_child_weight=7, max_depth=4, learning_rate=0.15, gamma=0.1, colsample_bytree=0.7, score=0.873, total=   0.4s\n",
      "[CV] n_estimators=800, min_child_weight=7, max_depth=4, learning_rate=0.15, gamma=0.1, colsample_bytree=0.7 \n",
      "[CV]  n_estimators=800, min_child_weight=7, max_depth=4, learning_rate=0.15, gamma=0.1, colsample_bytree=0.7, score=0.850, total=   0.4s\n",
      "[CV] n_estimators=800, min_child_weight=7, max_depth=4, learning_rate=0.15, gamma=0.1, colsample_bytree=0.7 \n",
      "[CV]  n_estimators=800, min_child_weight=7, max_depth=4, learning_rate=0.15, gamma=0.1, colsample_bytree=0.7, score=0.844, total=   0.4s\n",
      "[CV] n_estimators=1800, min_child_weight=5, max_depth=8, learning_rate=0.3, gamma=0.4, colsample_bytree=0.5 \n",
      "[CV]  n_estimators=1800, min_child_weight=5, max_depth=8, learning_rate=0.3, gamma=0.4, colsample_bytree=0.5, score=0.893, total=   1.5s\n",
      "[CV] n_estimators=1800, min_child_weight=5, max_depth=8, learning_rate=0.3, gamma=0.4, colsample_bytree=0.5 \n",
      "[CV]  n_estimators=1800, min_child_weight=5, max_depth=8, learning_rate=0.3, gamma=0.4, colsample_bytree=0.5, score=0.856, total=   1.5s\n",
      "[CV] n_estimators=1800, min_child_weight=5, max_depth=8, learning_rate=0.3, gamma=0.4, colsample_bytree=0.5 \n",
      "[CV]  n_estimators=1800, min_child_weight=5, max_depth=8, learning_rate=0.3, gamma=0.4, colsample_bytree=0.5, score=0.791, total=   1.6s\n",
      "[CV] n_estimators=1800, min_child_weight=5, max_depth=8, learning_rate=0.3, gamma=0.4, colsample_bytree=0.5 \n",
      "[CV]  n_estimators=1800, min_child_weight=5, max_depth=8, learning_rate=0.3, gamma=0.4, colsample_bytree=0.5, score=0.885, total=   1.5s\n",
      "[CV] n_estimators=1800, min_child_weight=5, max_depth=8, learning_rate=0.3, gamma=0.4, colsample_bytree=0.5 \n",
      "[CV]  n_estimators=1800, min_child_weight=5, max_depth=8, learning_rate=0.3, gamma=0.4, colsample_bytree=0.5, score=0.805, total=   1.5s\n",
      "[CV] n_estimators=1800, min_child_weight=5, max_depth=8, learning_rate=0.3, gamma=0.4, colsample_bytree=0.5 \n",
      "[CV]  n_estimators=1800, min_child_weight=5, max_depth=8, learning_rate=0.3, gamma=0.4, colsample_bytree=0.5, score=0.842, total=   1.5s\n",
      "[CV] n_estimators=1800, min_child_weight=5, max_depth=8, learning_rate=0.3, gamma=0.4, colsample_bytree=0.5 \n",
      "[CV]  n_estimators=1800, min_child_weight=5, max_depth=8, learning_rate=0.3, gamma=0.4, colsample_bytree=0.5, score=0.842, total=   1.5s\n",
      "[CV] n_estimators=1800, min_child_weight=5, max_depth=8, learning_rate=0.3, gamma=0.4, colsample_bytree=0.5 \n",
      "[CV]  n_estimators=1800, min_child_weight=5, max_depth=8, learning_rate=0.3, gamma=0.4, colsample_bytree=0.5, score=0.836, total=   1.6s\n",
      "[CV] n_estimators=1800, min_child_weight=5, max_depth=8, learning_rate=0.3, gamma=0.4, colsample_bytree=0.5 \n",
      "[CV]  n_estimators=1800, min_child_weight=5, max_depth=8, learning_rate=0.3, gamma=0.4, colsample_bytree=0.5, score=0.762, total=   1.6s\n",
      "[CV] n_estimators=1800, min_child_weight=5, max_depth=8, learning_rate=0.3, gamma=0.4, colsample_bytree=0.5 \n",
      "[CV]  n_estimators=1800, min_child_weight=5, max_depth=8, learning_rate=0.3, gamma=0.4, colsample_bytree=0.5, score=0.847, total=   1.6s\n",
      "[CV] n_estimators=800, min_child_weight=3, max_depth=12, learning_rate=0.15, gamma=0.2, colsample_bytree=0.7 \n",
      "[CV]  n_estimators=800, min_child_weight=3, max_depth=12, learning_rate=0.15, gamma=0.2, colsample_bytree=0.7, score=0.894, total=   1.1s\n",
      "[CV] n_estimators=800, min_child_weight=3, max_depth=12, learning_rate=0.15, gamma=0.2, colsample_bytree=0.7 \n",
      "[CV]  n_estimators=800, min_child_weight=3, max_depth=12, learning_rate=0.15, gamma=0.2, colsample_bytree=0.7, score=0.876, total=   1.2s\n",
      "[CV] n_estimators=800, min_child_weight=3, max_depth=12, learning_rate=0.15, gamma=0.2, colsample_bytree=0.7 \n",
      "[CV]  n_estimators=800, min_child_weight=3, max_depth=12, learning_rate=0.15, gamma=0.2, colsample_bytree=0.7, score=0.828, total=   1.2s\n",
      "[CV] n_estimators=800, min_child_weight=3, max_depth=12, learning_rate=0.15, gamma=0.2, colsample_bytree=0.7 \n",
      "[CV]  n_estimators=800, min_child_weight=3, max_depth=12, learning_rate=0.15, gamma=0.2, colsample_bytree=0.7, score=0.887, total=   1.2s\n",
      "[CV] n_estimators=800, min_child_weight=3, max_depth=12, learning_rate=0.15, gamma=0.2, colsample_bytree=0.7 \n",
      "[CV]  n_estimators=800, min_child_weight=3, max_depth=12, learning_rate=0.15, gamma=0.2, colsample_bytree=0.7, score=0.837, total=   1.2s\n",
      "[CV] n_estimators=800, min_child_weight=3, max_depth=12, learning_rate=0.15, gamma=0.2, colsample_bytree=0.7 \n",
      "[CV]  n_estimators=800, min_child_weight=3, max_depth=12, learning_rate=0.15, gamma=0.2, colsample_bytree=0.7, score=0.860, total=   1.5s\n",
      "[CV] n_estimators=800, min_child_weight=3, max_depth=12, learning_rate=0.15, gamma=0.2, colsample_bytree=0.7 \n",
      "[CV]  n_estimators=800, min_child_weight=3, max_depth=12, learning_rate=0.15, gamma=0.2, colsample_bytree=0.7, score=0.846, total=   1.4s\n",
      "[CV] n_estimators=800, min_child_weight=3, max_depth=12, learning_rate=0.15, gamma=0.2, colsample_bytree=0.7 \n",
      "[CV]  n_estimators=800, min_child_weight=3, max_depth=12, learning_rate=0.15, gamma=0.2, colsample_bytree=0.7, score=0.864, total=   1.2s\n",
      "[CV] n_estimators=800, min_child_weight=3, max_depth=12, learning_rate=0.15, gamma=0.2, colsample_bytree=0.7 \n",
      "[CV]  n_estimators=800, min_child_weight=3, max_depth=12, learning_rate=0.15, gamma=0.2, colsample_bytree=0.7, score=0.840, total=   1.2s\n",
      "[CV] n_estimators=800, min_child_weight=3, max_depth=12, learning_rate=0.15, gamma=0.2, colsample_bytree=0.7 \n",
      "[CV]  n_estimators=800, min_child_weight=3, max_depth=12, learning_rate=0.15, gamma=0.2, colsample_bytree=0.7, score=0.843, total=   1.2s\n",
      "[CV] n_estimators=600, min_child_weight=7, max_depth=5, learning_rate=0.15, gamma=0.4, colsample_bytree=0.3 \n",
      "[CV]  n_estimators=600, min_child_weight=7, max_depth=5, learning_rate=0.15, gamma=0.4, colsample_bytree=0.3, score=0.886, total=   0.3s\n",
      "[CV] n_estimators=600, min_child_weight=7, max_depth=5, learning_rate=0.15, gamma=0.4, colsample_bytree=0.3 \n",
      "[CV]  n_estimators=600, min_child_weight=7, max_depth=5, learning_rate=0.15, gamma=0.4, colsample_bytree=0.3, score=0.859, total=   0.3s\n",
      "[CV] n_estimators=600, min_child_weight=7, max_depth=5, learning_rate=0.15, gamma=0.4, colsample_bytree=0.3 \n",
      "[CV]  n_estimators=600, min_child_weight=7, max_depth=5, learning_rate=0.15, gamma=0.4, colsample_bytree=0.3, score=0.804, total=   0.3s\n",
      "[CV] n_estimators=600, min_child_weight=7, max_depth=5, learning_rate=0.15, gamma=0.4, colsample_bytree=0.3 \n",
      "[CV]  n_estimators=600, min_child_weight=7, max_depth=5, learning_rate=0.15, gamma=0.4, colsample_bytree=0.3, score=0.896, total=   0.3s\n",
      "[CV] n_estimators=600, min_child_weight=7, max_depth=5, learning_rate=0.15, gamma=0.4, colsample_bytree=0.3 \n",
      "[CV]  n_estimators=600, min_child_weight=7, max_depth=5, learning_rate=0.15, gamma=0.4, colsample_bytree=0.3, score=0.819, total=   0.3s\n",
      "[CV] n_estimators=600, min_child_weight=7, max_depth=5, learning_rate=0.15, gamma=0.4, colsample_bytree=0.3 \n",
      "[CV]  n_estimators=600, min_child_weight=7, max_depth=5, learning_rate=0.15, gamma=0.4, colsample_bytree=0.3, score=0.851, total=   0.3s\n",
      "[CV] n_estimators=600, min_child_weight=7, max_depth=5, learning_rate=0.15, gamma=0.4, colsample_bytree=0.3 \n",
      "[CV]  n_estimators=600, min_child_weight=7, max_depth=5, learning_rate=0.15, gamma=0.4, colsample_bytree=0.3, score=0.848, total=   0.3s\n",
      "[CV] n_estimators=600, min_child_weight=7, max_depth=5, learning_rate=0.15, gamma=0.4, colsample_bytree=0.3 \n",
      "[CV]  n_estimators=600, min_child_weight=7, max_depth=5, learning_rate=0.15, gamma=0.4, colsample_bytree=0.3, score=0.849, total=   0.3s\n",
      "[CV] n_estimators=600, min_child_weight=7, max_depth=5, learning_rate=0.15, gamma=0.4, colsample_bytree=0.3 \n",
      "[CV]  n_estimators=600, min_child_weight=7, max_depth=5, learning_rate=0.15, gamma=0.4, colsample_bytree=0.3, score=0.794, total=   0.3s\n",
      "[CV] n_estimators=600, min_child_weight=7, max_depth=5, learning_rate=0.15, gamma=0.4, colsample_bytree=0.3 \n",
      "[CV]  n_estimators=600, min_child_weight=7, max_depth=5, learning_rate=0.15, gamma=0.4, colsample_bytree=0.3, score=0.841, total=   0.3s\n",
      "[CV] n_estimators=1400, min_child_weight=5, max_depth=6, learning_rate=0.15, gamma=0.2, colsample_bytree=0.7 \n",
      "[CV]  n_estimators=1400, min_child_weight=5, max_depth=6, learning_rate=0.15, gamma=0.2, colsample_bytree=0.7, score=0.904, total=   1.0s\n",
      "[CV] n_estimators=1400, min_child_weight=5, max_depth=6, learning_rate=0.15, gamma=0.2, colsample_bytree=0.7 \n",
      "[CV]  n_estimators=1400, min_child_weight=5, max_depth=6, learning_rate=0.15, gamma=0.2, colsample_bytree=0.7, score=0.873, total=   0.9s\n",
      "[CV] n_estimators=1400, min_child_weight=5, max_depth=6, learning_rate=0.15, gamma=0.2, colsample_bytree=0.7 \n",
      "[CV]  n_estimators=1400, min_child_weight=5, max_depth=6, learning_rate=0.15, gamma=0.2, colsample_bytree=0.7, score=0.824, total=   0.9s\n",
      "[CV] n_estimators=1400, min_child_weight=5, max_depth=6, learning_rate=0.15, gamma=0.2, colsample_bytree=0.7 \n",
      "[CV]  n_estimators=1400, min_child_weight=5, max_depth=6, learning_rate=0.15, gamma=0.2, colsample_bytree=0.7, score=0.905, total=   1.0s\n",
      "[CV] n_estimators=1400, min_child_weight=5, max_depth=6, learning_rate=0.15, gamma=0.2, colsample_bytree=0.7 \n",
      "[CV]  n_estimators=1400, min_child_weight=5, max_depth=6, learning_rate=0.15, gamma=0.2, colsample_bytree=0.7, score=0.841, total=   1.0s\n",
      "[CV] n_estimators=1400, min_child_weight=5, max_depth=6, learning_rate=0.15, gamma=0.2, colsample_bytree=0.7 \n",
      "[CV]  n_estimators=1400, min_child_weight=5, max_depth=6, learning_rate=0.15, gamma=0.2, colsample_bytree=0.7, score=0.863, total=   1.0s\n",
      "[CV] n_estimators=1400, min_child_weight=5, max_depth=6, learning_rate=0.15, gamma=0.2, colsample_bytree=0.7 \n",
      "[CV]  n_estimators=1400, min_child_weight=5, max_depth=6, learning_rate=0.15, gamma=0.2, colsample_bytree=0.7, score=0.852, total=   1.0s\n",
      "[CV] n_estimators=1400, min_child_weight=5, max_depth=6, learning_rate=0.15, gamma=0.2, colsample_bytree=0.7 \n",
      "[CV]  n_estimators=1400, min_child_weight=5, max_depth=6, learning_rate=0.15, gamma=0.2, colsample_bytree=0.7, score=0.859, total=   1.0s\n",
      "[CV] n_estimators=1400, min_child_weight=5, max_depth=6, learning_rate=0.15, gamma=0.2, colsample_bytree=0.7 \n",
      "[CV]  n_estimators=1400, min_child_weight=5, max_depth=6, learning_rate=0.15, gamma=0.2, colsample_bytree=0.7, score=0.840, total=   0.9s\n",
      "[CV] n_estimators=1400, min_child_weight=5, max_depth=6, learning_rate=0.15, gamma=0.2, colsample_bytree=0.7 \n",
      "[CV]  n_estimators=1400, min_child_weight=5, max_depth=6, learning_rate=0.15, gamma=0.2, colsample_bytree=0.7, score=0.840, total=   1.0s\n",
      "[CV] n_estimators=1000, min_child_weight=3, max_depth=15, learning_rate=0.2, gamma=0.2, colsample_bytree=0.3 \n",
      "[CV]  n_estimators=1000, min_child_weight=3, max_depth=15, learning_rate=0.2, gamma=0.2, colsample_bytree=0.3, score=0.894, total=   1.3s\n",
      "[CV] n_estimators=1000, min_child_weight=3, max_depth=15, learning_rate=0.2, gamma=0.2, colsample_bytree=0.3 \n",
      "[CV]  n_estimators=1000, min_child_weight=3, max_depth=15, learning_rate=0.2, gamma=0.2, colsample_bytree=0.3, score=0.874, total=   1.3s\n",
      "[CV] n_estimators=1000, min_child_weight=3, max_depth=15, learning_rate=0.2, gamma=0.2, colsample_bytree=0.3 \n",
      "[CV]  n_estimators=1000, min_child_weight=3, max_depth=15, learning_rate=0.2, gamma=0.2, colsample_bytree=0.3, score=0.827, total=   1.3s\n",
      "[CV] n_estimators=1000, min_child_weight=3, max_depth=15, learning_rate=0.2, gamma=0.2, colsample_bytree=0.3 \n",
      "[CV]  n_estimators=1000, min_child_weight=3, max_depth=15, learning_rate=0.2, gamma=0.2, colsample_bytree=0.3, score=0.896, total=   1.3s\n",
      "[CV] n_estimators=1000, min_child_weight=3, max_depth=15, learning_rate=0.2, gamma=0.2, colsample_bytree=0.3 \n",
      "[CV]  n_estimators=1000, min_child_weight=3, max_depth=15, learning_rate=0.2, gamma=0.2, colsample_bytree=0.3, score=0.831, total=   1.3s\n",
      "[CV] n_estimators=1000, min_child_weight=3, max_depth=15, learning_rate=0.2, gamma=0.2, colsample_bytree=0.3 \n",
      "[CV]  n_estimators=1000, min_child_weight=3, max_depth=15, learning_rate=0.2, gamma=0.2, colsample_bytree=0.3, score=0.847, total=   1.4s\n",
      "[CV] n_estimators=1000, min_child_weight=3, max_depth=15, learning_rate=0.2, gamma=0.2, colsample_bytree=0.3 \n",
      "[CV]  n_estimators=1000, min_child_weight=3, max_depth=15, learning_rate=0.2, gamma=0.2, colsample_bytree=0.3, score=0.882, total=   1.3s\n",
      "[CV] n_estimators=1000, min_child_weight=3, max_depth=15, learning_rate=0.2, gamma=0.2, colsample_bytree=0.3 \n",
      "[CV]  n_estimators=1000, min_child_weight=3, max_depth=15, learning_rate=0.2, gamma=0.2, colsample_bytree=0.3, score=0.869, total=   1.3s\n",
      "[CV] n_estimators=1000, min_child_weight=3, max_depth=15, learning_rate=0.2, gamma=0.2, colsample_bytree=0.3 \n",
      "[CV]  n_estimators=1000, min_child_weight=3, max_depth=15, learning_rate=0.2, gamma=0.2, colsample_bytree=0.3, score=0.820, total=   1.2s\n",
      "[CV] n_estimators=1000, min_child_weight=3, max_depth=15, learning_rate=0.2, gamma=0.2, colsample_bytree=0.3 \n",
      "[CV]  n_estimators=1000, min_child_weight=3, max_depth=15, learning_rate=0.2, gamma=0.2, colsample_bytree=0.3, score=0.859, total=   1.3s\n",
      "[CV] n_estimators=2000, min_child_weight=3, max_depth=6, learning_rate=0.15, gamma=0.3, colsample_bytree=0.4 \n",
      "[CV]  n_estimators=2000, min_child_weight=3, max_depth=6, learning_rate=0.15, gamma=0.3, colsample_bytree=0.4, score=0.895, total=   1.2s\n",
      "[CV] n_estimators=2000, min_child_weight=3, max_depth=6, learning_rate=0.15, gamma=0.3, colsample_bytree=0.4 \n",
      "[CV]  n_estimators=2000, min_child_weight=3, max_depth=6, learning_rate=0.15, gamma=0.3, colsample_bytree=0.4, score=0.871, total=   1.5s\n",
      "[CV] n_estimators=2000, min_child_weight=3, max_depth=6, learning_rate=0.15, gamma=0.3, colsample_bytree=0.4 \n",
      "[CV]  n_estimators=2000, min_child_weight=3, max_depth=6, learning_rate=0.15, gamma=0.3, colsample_bytree=0.4, score=0.821, total=   1.3s\n",
      "[CV] n_estimators=2000, min_child_weight=3, max_depth=6, learning_rate=0.15, gamma=0.3, colsample_bytree=0.4 \n",
      "[CV]  n_estimators=2000, min_child_weight=3, max_depth=6, learning_rate=0.15, gamma=0.3, colsample_bytree=0.4, score=0.892, total=   1.2s\n",
      "[CV] n_estimators=2000, min_child_weight=3, max_depth=6, learning_rate=0.15, gamma=0.3, colsample_bytree=0.4 \n",
      "[CV]  n_estimators=2000, min_child_weight=3, max_depth=6, learning_rate=0.15, gamma=0.3, colsample_bytree=0.4, score=0.834, total=   1.8s\n",
      "[CV] n_estimators=2000, min_child_weight=3, max_depth=6, learning_rate=0.15, gamma=0.3, colsample_bytree=0.4 \n",
      "[CV]  n_estimators=2000, min_child_weight=3, max_depth=6, learning_rate=0.15, gamma=0.3, colsample_bytree=0.4, score=0.860, total=   1.7s\n",
      "[CV] n_estimators=2000, min_child_weight=3, max_depth=6, learning_rate=0.15, gamma=0.3, colsample_bytree=0.4 \n",
      "[CV]  n_estimators=2000, min_child_weight=3, max_depth=6, learning_rate=0.15, gamma=0.3, colsample_bytree=0.4, score=0.840, total=   1.8s\n",
      "[CV] n_estimators=2000, min_child_weight=3, max_depth=6, learning_rate=0.15, gamma=0.3, colsample_bytree=0.4 \n",
      "[CV]  n_estimators=2000, min_child_weight=3, max_depth=6, learning_rate=0.15, gamma=0.3, colsample_bytree=0.4, score=0.861, total=   1.8s\n",
      "[CV] n_estimators=2000, min_child_weight=3, max_depth=6, learning_rate=0.15, gamma=0.3, colsample_bytree=0.4 \n",
      "[CV]  n_estimators=2000, min_child_weight=3, max_depth=6, learning_rate=0.15, gamma=0.3, colsample_bytree=0.4, score=0.812, total=   1.8s\n",
      "[CV] n_estimators=2000, min_child_weight=3, max_depth=6, learning_rate=0.15, gamma=0.3, colsample_bytree=0.4 \n",
      "[CV]  n_estimators=2000, min_child_weight=3, max_depth=6, learning_rate=0.15, gamma=0.3, colsample_bytree=0.4, score=0.852, total=   1.2s\n",
      "[CV] n_estimators=2000, min_child_weight=1, max_depth=3, learning_rate=0.05, gamma=0.1, colsample_bytree=0.7 \n",
      "[CV]  n_estimators=2000, min_child_weight=1, max_depth=3, learning_rate=0.05, gamma=0.1, colsample_bytree=0.7, score=0.904, total=   0.7s\n",
      "[CV] n_estimators=2000, min_child_weight=1, max_depth=3, learning_rate=0.05, gamma=0.1, colsample_bytree=0.7 \n",
      "[CV]  n_estimators=2000, min_child_weight=1, max_depth=3, learning_rate=0.05, gamma=0.1, colsample_bytree=0.7, score=0.876, total=   1.0s\n",
      "[CV] n_estimators=2000, min_child_weight=1, max_depth=3, learning_rate=0.05, gamma=0.1, colsample_bytree=0.7 \n",
      "[CV]  n_estimators=2000, min_child_weight=1, max_depth=3, learning_rate=0.05, gamma=0.1, colsample_bytree=0.7, score=0.823, total=   1.1s\n",
      "[CV] n_estimators=2000, min_child_weight=1, max_depth=3, learning_rate=0.05, gamma=0.1, colsample_bytree=0.7 \n",
      "[CV]  n_estimators=2000, min_child_weight=1, max_depth=3, learning_rate=0.05, gamma=0.1, colsample_bytree=0.7, score=0.899, total=   1.2s\n",
      "[CV] n_estimators=2000, min_child_weight=1, max_depth=3, learning_rate=0.05, gamma=0.1, colsample_bytree=0.7 \n",
      "[CV]  n_estimators=2000, min_child_weight=1, max_depth=3, learning_rate=0.05, gamma=0.1, colsample_bytree=0.7, score=0.842, total=   1.1s\n",
      "[CV] n_estimators=2000, min_child_weight=1, max_depth=3, learning_rate=0.05, gamma=0.1, colsample_bytree=0.7 \n",
      "[CV]  n_estimators=2000, min_child_weight=1, max_depth=3, learning_rate=0.05, gamma=0.1, colsample_bytree=0.7, score=0.871, total=   1.1s\n",
      "[CV] n_estimators=2000, min_child_weight=1, max_depth=3, learning_rate=0.05, gamma=0.1, colsample_bytree=0.7 \n",
      "[CV]  n_estimators=2000, min_child_weight=1, max_depth=3, learning_rate=0.05, gamma=0.1, colsample_bytree=0.7, score=0.841, total=   0.8s\n",
      "[CV] n_estimators=2000, min_child_weight=1, max_depth=3, learning_rate=0.05, gamma=0.1, colsample_bytree=0.7 \n",
      "[CV]  n_estimators=2000, min_child_weight=1, max_depth=3, learning_rate=0.05, gamma=0.1, colsample_bytree=0.7, score=0.879, total=   0.8s\n",
      "[CV] n_estimators=2000, min_child_weight=1, max_depth=3, learning_rate=0.05, gamma=0.1, colsample_bytree=0.7 \n",
      "[CV]  n_estimators=2000, min_child_weight=1, max_depth=3, learning_rate=0.05, gamma=0.1, colsample_bytree=0.7, score=0.850, total=   0.8s\n",
      "[CV] n_estimators=2000, min_child_weight=1, max_depth=3, learning_rate=0.05, gamma=0.1, colsample_bytree=0.7 \n",
      "[CV]  n_estimators=2000, min_child_weight=1, max_depth=3, learning_rate=0.05, gamma=0.1, colsample_bytree=0.7, score=0.865, total=   0.8s\n",
      "[CV] n_estimators=200, min_child_weight=5, max_depth=15, learning_rate=0.1, gamma=0.2, colsample_bytree=0.4 \n",
      "[CV]  n_estimators=200, min_child_weight=5, max_depth=15, learning_rate=0.1, gamma=0.2, colsample_bytree=0.4, score=0.899, total=   0.2s\n",
      "[CV] n_estimators=200, min_child_weight=5, max_depth=15, learning_rate=0.1, gamma=0.2, colsample_bytree=0.4 \n",
      "[CV]  n_estimators=200, min_child_weight=5, max_depth=15, learning_rate=0.1, gamma=0.2, colsample_bytree=0.4, score=0.873, total=   0.2s\n",
      "[CV] n_estimators=200, min_child_weight=5, max_depth=15, learning_rate=0.1, gamma=0.2, colsample_bytree=0.4 \n",
      "[CV]  n_estimators=200, min_child_weight=5, max_depth=15, learning_rate=0.1, gamma=0.2, colsample_bytree=0.4, score=0.816, total=   0.2s\n",
      "[CV] n_estimators=200, min_child_weight=5, max_depth=15, learning_rate=0.1, gamma=0.2, colsample_bytree=0.4 \n",
      "[CV]  n_estimators=200, min_child_weight=5, max_depth=15, learning_rate=0.1, gamma=0.2, colsample_bytree=0.4, score=0.907, total=   0.3s\n",
      "[CV] n_estimators=200, min_child_weight=5, max_depth=15, learning_rate=0.1, gamma=0.2, colsample_bytree=0.4 \n",
      "[CV]  n_estimators=200, min_child_weight=5, max_depth=15, learning_rate=0.1, gamma=0.2, colsample_bytree=0.4, score=0.842, total=   0.3s\n",
      "[CV] n_estimators=200, min_child_weight=5, max_depth=15, learning_rate=0.1, gamma=0.2, colsample_bytree=0.4 \n",
      "[CV]  n_estimators=200, min_child_weight=5, max_depth=15, learning_rate=0.1, gamma=0.2, colsample_bytree=0.4, score=0.859, total=   0.2s\n",
      "[CV] n_estimators=200, min_child_weight=5, max_depth=15, learning_rate=0.1, gamma=0.2, colsample_bytree=0.4 \n",
      "[CV]  n_estimators=200, min_child_weight=5, max_depth=15, learning_rate=0.1, gamma=0.2, colsample_bytree=0.4, score=0.853, total=   0.2s\n",
      "[CV] n_estimators=200, min_child_weight=5, max_depth=15, learning_rate=0.1, gamma=0.2, colsample_bytree=0.4 \n",
      "[CV]  n_estimators=200, min_child_weight=5, max_depth=15, learning_rate=0.1, gamma=0.2, colsample_bytree=0.4, score=0.874, total=   0.2s\n",
      "[CV] n_estimators=200, min_child_weight=5, max_depth=15, learning_rate=0.1, gamma=0.2, colsample_bytree=0.4 \n",
      "[CV]  n_estimators=200, min_child_weight=5, max_depth=15, learning_rate=0.1, gamma=0.2, colsample_bytree=0.4, score=0.838, total=   0.2s\n",
      "[CV] n_estimators=200, min_child_weight=5, max_depth=15, learning_rate=0.1, gamma=0.2, colsample_bytree=0.4 \n",
      "[CV]  n_estimators=200, min_child_weight=5, max_depth=15, learning_rate=0.1, gamma=0.2, colsample_bytree=0.4, score=0.861, total=   0.2s\n",
      "[CV] n_estimators=600, min_child_weight=5, max_depth=5, learning_rate=0.15, gamma=0.1, colsample_bytree=0.3 \n",
      "[CV]  n_estimators=600, min_child_weight=5, max_depth=5, learning_rate=0.15, gamma=0.1, colsample_bytree=0.3, score=0.906, total=   0.3s\n",
      "[CV] n_estimators=600, min_child_weight=5, max_depth=5, learning_rate=0.15, gamma=0.1, colsample_bytree=0.3 \n",
      "[CV]  n_estimators=600, min_child_weight=5, max_depth=5, learning_rate=0.15, gamma=0.1, colsample_bytree=0.3, score=0.887, total=   0.3s\n",
      "[CV] n_estimators=600, min_child_weight=5, max_depth=5, learning_rate=0.15, gamma=0.1, colsample_bytree=0.3 \n",
      "[CV]  n_estimators=600, min_child_weight=5, max_depth=5, learning_rate=0.15, gamma=0.1, colsample_bytree=0.3, score=0.839, total=   0.3s\n",
      "[CV] n_estimators=600, min_child_weight=5, max_depth=5, learning_rate=0.15, gamma=0.1, colsample_bytree=0.3 \n",
      "[CV]  n_estimators=600, min_child_weight=5, max_depth=5, learning_rate=0.15, gamma=0.1, colsample_bytree=0.3, score=0.911, total=   0.3s\n",
      "[CV] n_estimators=600, min_child_weight=5, max_depth=5, learning_rate=0.15, gamma=0.1, colsample_bytree=0.3 \n",
      "[CV]  n_estimators=600, min_child_weight=5, max_depth=5, learning_rate=0.15, gamma=0.1, colsample_bytree=0.3, score=0.844, total=   0.3s\n",
      "[CV] n_estimators=600, min_child_weight=5, max_depth=5, learning_rate=0.15, gamma=0.1, colsample_bytree=0.3 \n",
      "[CV]  n_estimators=600, min_child_weight=5, max_depth=5, learning_rate=0.15, gamma=0.1, colsample_bytree=0.3, score=0.855, total=   0.3s\n",
      "[CV] n_estimators=600, min_child_weight=5, max_depth=5, learning_rate=0.15, gamma=0.1, colsample_bytree=0.3 \n",
      "[CV]  n_estimators=600, min_child_weight=5, max_depth=5, learning_rate=0.15, gamma=0.1, colsample_bytree=0.3, score=0.871, total=   0.3s\n",
      "[CV] n_estimators=600, min_child_weight=5, max_depth=5, learning_rate=0.15, gamma=0.1, colsample_bytree=0.3 \n",
      "[CV]  n_estimators=600, min_child_weight=5, max_depth=5, learning_rate=0.15, gamma=0.1, colsample_bytree=0.3, score=0.895, total=   0.3s\n",
      "[CV] n_estimators=600, min_child_weight=5, max_depth=5, learning_rate=0.15, gamma=0.1, colsample_bytree=0.3 \n",
      "[CV]  n_estimators=600, min_child_weight=5, max_depth=5, learning_rate=0.15, gamma=0.1, colsample_bytree=0.3, score=0.839, total=   0.3s\n",
      "[CV] n_estimators=600, min_child_weight=5, max_depth=5, learning_rate=0.15, gamma=0.1, colsample_bytree=0.3 \n",
      "[CV]  n_estimators=600, min_child_weight=5, max_depth=5, learning_rate=0.15, gamma=0.1, colsample_bytree=0.3, score=0.870, total=   0.3s\n",
      "[CV] n_estimators=400, min_child_weight=3, max_depth=15, learning_rate=0.05, gamma=0.2, colsample_bytree=0.7 \n",
      "[CV]  n_estimators=400, min_child_weight=3, max_depth=15, learning_rate=0.05, gamma=0.2, colsample_bytree=0.7, score=0.899, total=   0.6s\n",
      "[CV] n_estimators=400, min_child_weight=3, max_depth=15, learning_rate=0.05, gamma=0.2, colsample_bytree=0.7 \n",
      "[CV]  n_estimators=400, min_child_weight=3, max_depth=15, learning_rate=0.05, gamma=0.2, colsample_bytree=0.7, score=0.875, total=   0.6s\n",
      "[CV] n_estimators=400, min_child_weight=3, max_depth=15, learning_rate=0.05, gamma=0.2, colsample_bytree=0.7 \n",
      "[CV]  n_estimators=400, min_child_weight=3, max_depth=15, learning_rate=0.05, gamma=0.2, colsample_bytree=0.7, score=0.819, total=   0.6s\n",
      "[CV] n_estimators=400, min_child_weight=3, max_depth=15, learning_rate=0.05, gamma=0.2, colsample_bytree=0.7 \n",
      "[CV]  n_estimators=400, min_child_weight=3, max_depth=15, learning_rate=0.05, gamma=0.2, colsample_bytree=0.7, score=0.889, total=   0.7s\n",
      "[CV] n_estimators=400, min_child_weight=3, max_depth=15, learning_rate=0.05, gamma=0.2, colsample_bytree=0.7 \n",
      "[CV]  n_estimators=400, min_child_weight=3, max_depth=15, learning_rate=0.05, gamma=0.2, colsample_bytree=0.7, score=0.850, total=   0.6s\n",
      "[CV] n_estimators=400, min_child_weight=3, max_depth=15, learning_rate=0.05, gamma=0.2, colsample_bytree=0.7 \n",
      "[CV]  n_estimators=400, min_child_weight=3, max_depth=15, learning_rate=0.05, gamma=0.2, colsample_bytree=0.7, score=0.869, total=   0.6s\n",
      "[CV] n_estimators=400, min_child_weight=3, max_depth=15, learning_rate=0.05, gamma=0.2, colsample_bytree=0.7 \n",
      "[CV]  n_estimators=400, min_child_weight=3, max_depth=15, learning_rate=0.05, gamma=0.2, colsample_bytree=0.7, score=0.863, total=   0.6s\n",
      "[CV] n_estimators=400, min_child_weight=3, max_depth=15, learning_rate=0.05, gamma=0.2, colsample_bytree=0.7 \n",
      "[CV]  n_estimators=400, min_child_weight=3, max_depth=15, learning_rate=0.05, gamma=0.2, colsample_bytree=0.7, score=0.867, total=   0.6s\n",
      "[CV] n_estimators=400, min_child_weight=3, max_depth=15, learning_rate=0.05, gamma=0.2, colsample_bytree=0.7 \n",
      "[CV]  n_estimators=400, min_child_weight=3, max_depth=15, learning_rate=0.05, gamma=0.2, colsample_bytree=0.7, score=0.848, total=   0.6s\n",
      "[CV] n_estimators=400, min_child_weight=3, max_depth=15, learning_rate=0.05, gamma=0.2, colsample_bytree=0.7 \n",
      "[CV]  n_estimators=400, min_child_weight=3, max_depth=15, learning_rate=0.05, gamma=0.2, colsample_bytree=0.7, score=0.849, total=   0.6s\n",
      "[CV] n_estimators=600, min_child_weight=3, max_depth=8, learning_rate=0.1, gamma=0.1, colsample_bytree=0.4 \n",
      "[CV]  n_estimators=600, min_child_weight=3, max_depth=8, learning_rate=0.1, gamma=0.1, colsample_bytree=0.4, score=0.903, total=   0.5s\n",
      "[CV] n_estimators=600, min_child_weight=3, max_depth=8, learning_rate=0.1, gamma=0.1, colsample_bytree=0.4 \n",
      "[CV]  n_estimators=600, min_child_weight=3, max_depth=8, learning_rate=0.1, gamma=0.1, colsample_bytree=0.4, score=0.880, total=   0.5s\n",
      "[CV] n_estimators=600, min_child_weight=3, max_depth=8, learning_rate=0.1, gamma=0.1, colsample_bytree=0.4 \n",
      "[CV]  n_estimators=600, min_child_weight=3, max_depth=8, learning_rate=0.1, gamma=0.1, colsample_bytree=0.4, score=0.828, total=   0.5s\n",
      "[CV] n_estimators=600, min_child_weight=3, max_depth=8, learning_rate=0.1, gamma=0.1, colsample_bytree=0.4 \n",
      "[CV]  n_estimators=600, min_child_weight=3, max_depth=8, learning_rate=0.1, gamma=0.1, colsample_bytree=0.4, score=0.885, total=   0.5s\n",
      "[CV] n_estimators=600, min_child_weight=3, max_depth=8, learning_rate=0.1, gamma=0.1, colsample_bytree=0.4 \n",
      "[CV]  n_estimators=600, min_child_weight=3, max_depth=8, learning_rate=0.1, gamma=0.1, colsample_bytree=0.4, score=0.863, total=   0.5s\n",
      "[CV] n_estimators=600, min_child_weight=3, max_depth=8, learning_rate=0.1, gamma=0.1, colsample_bytree=0.4 \n",
      "[CV]  n_estimators=600, min_child_weight=3, max_depth=8, learning_rate=0.1, gamma=0.1, colsample_bytree=0.4, score=0.855, total=   0.5s\n",
      "[CV] n_estimators=600, min_child_weight=3, max_depth=8, learning_rate=0.1, gamma=0.1, colsample_bytree=0.4 \n",
      "[CV]  n_estimators=600, min_child_weight=3, max_depth=8, learning_rate=0.1, gamma=0.1, colsample_bytree=0.4, score=0.867, total=   0.5s\n",
      "[CV] n_estimators=600, min_child_weight=3, max_depth=8, learning_rate=0.1, gamma=0.1, colsample_bytree=0.4 \n",
      "[CV]  n_estimators=600, min_child_weight=3, max_depth=8, learning_rate=0.1, gamma=0.1, colsample_bytree=0.4, score=0.893, total=   0.5s\n",
      "[CV] n_estimators=600, min_child_weight=3, max_depth=8, learning_rate=0.1, gamma=0.1, colsample_bytree=0.4 \n",
      "[CV]  n_estimators=600, min_child_weight=3, max_depth=8, learning_rate=0.1, gamma=0.1, colsample_bytree=0.4, score=0.846, total=   0.5s\n",
      "[CV] n_estimators=600, min_child_weight=3, max_depth=8, learning_rate=0.1, gamma=0.1, colsample_bytree=0.4 \n",
      "[CV]  n_estimators=600, min_child_weight=3, max_depth=8, learning_rate=0.1, gamma=0.1, colsample_bytree=0.4, score=0.850, total=   0.5s\n",
      "[CV] n_estimators=600, min_child_weight=7, max_depth=10, learning_rate=0.05, gamma=0.3, colsample_bytree=0.5 \n",
      "[CV]  n_estimators=600, min_child_weight=7, max_depth=10, learning_rate=0.05, gamma=0.3, colsample_bytree=0.5, score=0.894, total=   0.5s\n",
      "[CV] n_estimators=600, min_child_weight=7, max_depth=10, learning_rate=0.05, gamma=0.3, colsample_bytree=0.5 \n",
      "[CV]  n_estimators=600, min_child_weight=7, max_depth=10, learning_rate=0.05, gamma=0.3, colsample_bytree=0.5, score=0.861, total=   0.6s\n",
      "[CV] n_estimators=600, min_child_weight=7, max_depth=10, learning_rate=0.05, gamma=0.3, colsample_bytree=0.5 \n",
      "[CV]  n_estimators=600, min_child_weight=7, max_depth=10, learning_rate=0.05, gamma=0.3, colsample_bytree=0.5, score=0.815, total=   0.6s\n",
      "[CV] n_estimators=600, min_child_weight=7, max_depth=10, learning_rate=0.05, gamma=0.3, colsample_bytree=0.5 \n",
      "[CV]  n_estimators=600, min_child_weight=7, max_depth=10, learning_rate=0.05, gamma=0.3, colsample_bytree=0.5, score=0.899, total=   0.6s\n",
      "[CV] n_estimators=600, min_child_weight=7, max_depth=10, learning_rate=0.05, gamma=0.3, colsample_bytree=0.5 \n",
      "[CV]  n_estimators=600, min_child_weight=7, max_depth=10, learning_rate=0.05, gamma=0.3, colsample_bytree=0.5, score=0.833, total=   0.6s\n",
      "[CV] n_estimators=600, min_child_weight=7, max_depth=10, learning_rate=0.05, gamma=0.3, colsample_bytree=0.5 \n",
      "[CV]  n_estimators=600, min_child_weight=7, max_depth=10, learning_rate=0.05, gamma=0.3, colsample_bytree=0.5, score=0.870, total=   0.6s\n",
      "[CV] n_estimators=600, min_child_weight=7, max_depth=10, learning_rate=0.05, gamma=0.3, colsample_bytree=0.5 \n",
      "[CV]  n_estimators=600, min_child_weight=7, max_depth=10, learning_rate=0.05, gamma=0.3, colsample_bytree=0.5, score=0.850, total=   0.6s\n",
      "[CV] n_estimators=600, min_child_weight=7, max_depth=10, learning_rate=0.05, gamma=0.3, colsample_bytree=0.5 \n",
      "[CV]  n_estimators=600, min_child_weight=7, max_depth=10, learning_rate=0.05, gamma=0.3, colsample_bytree=0.5, score=0.846, total=   0.6s\n",
      "[CV] n_estimators=600, min_child_weight=7, max_depth=10, learning_rate=0.05, gamma=0.3, colsample_bytree=0.5 \n",
      "[CV]  n_estimators=600, min_child_weight=7, max_depth=10, learning_rate=0.05, gamma=0.3, colsample_bytree=0.5, score=0.831, total=   0.6s\n",
      "[CV] n_estimators=600, min_child_weight=7, max_depth=10, learning_rate=0.05, gamma=0.3, colsample_bytree=0.5 \n",
      "[CV]  n_estimators=600, min_child_weight=7, max_depth=10, learning_rate=0.05, gamma=0.3, colsample_bytree=0.5, score=0.846, total=   0.6s\n",
      "[CV] n_estimators=400, min_child_weight=7, max_depth=8, learning_rate=0.25, gamma=0.2, colsample_bytree=0.3 \n",
      "[CV]  n_estimators=400, min_child_weight=7, max_depth=8, learning_rate=0.25, gamma=0.2, colsample_bytree=0.3, score=0.909, total=   0.3s\n",
      "[CV] n_estimators=400, min_child_weight=7, max_depth=8, learning_rate=0.25, gamma=0.2, colsample_bytree=0.3 \n",
      "[CV]  n_estimators=400, min_child_weight=7, max_depth=8, learning_rate=0.25, gamma=0.2, colsample_bytree=0.3, score=0.868, total=   0.3s\n",
      "[CV] n_estimators=400, min_child_weight=7, max_depth=8, learning_rate=0.25, gamma=0.2, colsample_bytree=0.3 \n",
      "[CV]  n_estimators=400, min_child_weight=7, max_depth=8, learning_rate=0.25, gamma=0.2, colsample_bytree=0.3, score=0.802, total=   0.3s\n",
      "[CV] n_estimators=400, min_child_weight=7, max_depth=8, learning_rate=0.25, gamma=0.2, colsample_bytree=0.3 \n",
      "[CV]  n_estimators=400, min_child_weight=7, max_depth=8, learning_rate=0.25, gamma=0.2, colsample_bytree=0.3, score=0.892, total=   0.3s\n",
      "[CV] n_estimators=400, min_child_weight=7, max_depth=8, learning_rate=0.25, gamma=0.2, colsample_bytree=0.3 \n",
      "[CV]  n_estimators=400, min_child_weight=7, max_depth=8, learning_rate=0.25, gamma=0.2, colsample_bytree=0.3, score=0.804, total=   0.3s\n",
      "[CV] n_estimators=400, min_child_weight=7, max_depth=8, learning_rate=0.25, gamma=0.2, colsample_bytree=0.3 \n",
      "[CV]  n_estimators=400, min_child_weight=7, max_depth=8, learning_rate=0.25, gamma=0.2, colsample_bytree=0.3, score=0.850, total=   0.3s\n",
      "[CV] n_estimators=400, min_child_weight=7, max_depth=8, learning_rate=0.25, gamma=0.2, colsample_bytree=0.3 \n",
      "[CV]  n_estimators=400, min_child_weight=7, max_depth=8, learning_rate=0.25, gamma=0.2, colsample_bytree=0.3, score=0.840, total=   0.3s\n",
      "[CV] n_estimators=400, min_child_weight=7, max_depth=8, learning_rate=0.25, gamma=0.2, colsample_bytree=0.3 \n",
      "[CV]  n_estimators=400, min_child_weight=7, max_depth=8, learning_rate=0.25, gamma=0.2, colsample_bytree=0.3, score=0.869, total=   0.3s\n",
      "[CV] n_estimators=400, min_child_weight=7, max_depth=8, learning_rate=0.25, gamma=0.2, colsample_bytree=0.3 \n",
      "[CV]  n_estimators=400, min_child_weight=7, max_depth=8, learning_rate=0.25, gamma=0.2, colsample_bytree=0.3, score=0.824, total=   0.3s\n",
      "[CV] n_estimators=400, min_child_weight=7, max_depth=8, learning_rate=0.25, gamma=0.2, colsample_bytree=0.3 \n",
      "[CV]  n_estimators=400, min_child_weight=7, max_depth=8, learning_rate=0.25, gamma=0.2, colsample_bytree=0.3, score=0.846, total=   0.3s\n",
      "[CV] n_estimators=600, min_child_weight=5, max_depth=6, learning_rate=0.3, gamma=0.1, colsample_bytree=0.5 \n",
      "[CV]  n_estimators=600, min_child_weight=5, max_depth=6, learning_rate=0.3, gamma=0.1, colsample_bytree=0.5, score=0.902, total=   0.4s\n",
      "[CV] n_estimators=600, min_child_weight=5, max_depth=6, learning_rate=0.3, gamma=0.1, colsample_bytree=0.5 \n",
      "[CV]  n_estimators=600, min_child_weight=5, max_depth=6, learning_rate=0.3, gamma=0.1, colsample_bytree=0.5, score=0.871, total=   0.4s\n",
      "[CV] n_estimators=600, min_child_weight=5, max_depth=6, learning_rate=0.3, gamma=0.1, colsample_bytree=0.5 \n",
      "[CV]  n_estimators=600, min_child_weight=5, max_depth=6, learning_rate=0.3, gamma=0.1, colsample_bytree=0.5, score=0.806, total=   0.4s\n",
      "[CV] n_estimators=600, min_child_weight=5, max_depth=6, learning_rate=0.3, gamma=0.1, colsample_bytree=0.5 \n",
      "[CV]  n_estimators=600, min_child_weight=5, max_depth=6, learning_rate=0.3, gamma=0.1, colsample_bytree=0.5, score=0.901, total=   0.4s\n",
      "[CV] n_estimators=600, min_child_weight=5, max_depth=6, learning_rate=0.3, gamma=0.1, colsample_bytree=0.5 \n",
      "[CV]  n_estimators=600, min_child_weight=5, max_depth=6, learning_rate=0.3, gamma=0.1, colsample_bytree=0.5, score=0.814, total=   0.4s\n",
      "[CV] n_estimators=600, min_child_weight=5, max_depth=6, learning_rate=0.3, gamma=0.1, colsample_bytree=0.5 \n",
      "[CV]  n_estimators=600, min_child_weight=5, max_depth=6, learning_rate=0.3, gamma=0.1, colsample_bytree=0.5, score=0.855, total=   0.4s\n",
      "[CV] n_estimators=600, min_child_weight=5, max_depth=6, learning_rate=0.3, gamma=0.1, colsample_bytree=0.5 \n",
      "[CV]  n_estimators=600, min_child_weight=5, max_depth=6, learning_rate=0.3, gamma=0.1, colsample_bytree=0.5, score=0.880, total=   0.4s\n",
      "[CV] n_estimators=600, min_child_weight=5, max_depth=6, learning_rate=0.3, gamma=0.1, colsample_bytree=0.5 \n",
      "[CV]  n_estimators=600, min_child_weight=5, max_depth=6, learning_rate=0.3, gamma=0.1, colsample_bytree=0.5, score=0.874, total=   0.5s\n",
      "[CV] n_estimators=600, min_child_weight=5, max_depth=6, learning_rate=0.3, gamma=0.1, colsample_bytree=0.5 \n",
      "[CV]  n_estimators=600, min_child_weight=5, max_depth=6, learning_rate=0.3, gamma=0.1, colsample_bytree=0.5, score=0.821, total=   0.4s\n",
      "[CV] n_estimators=600, min_child_weight=5, max_depth=6, learning_rate=0.3, gamma=0.1, colsample_bytree=0.5 \n",
      "[CV]  n_estimators=600, min_child_weight=5, max_depth=6, learning_rate=0.3, gamma=0.1, colsample_bytree=0.5, score=0.873, total=   0.4s\n",
      "[CV] n_estimators=1800, min_child_weight=3, max_depth=10, learning_rate=0.2, gamma=0.1, colsample_bytree=0.7 \n",
      "[CV]  n_estimators=1800, min_child_weight=3, max_depth=10, learning_rate=0.2, gamma=0.1, colsample_bytree=0.7, score=0.904, total=   2.1s\n",
      "[CV] n_estimators=1800, min_child_weight=3, max_depth=10, learning_rate=0.2, gamma=0.1, colsample_bytree=0.7 \n",
      "[CV]  n_estimators=1800, min_child_weight=3, max_depth=10, learning_rate=0.2, gamma=0.1, colsample_bytree=0.7, score=0.883, total=   2.1s\n",
      "[CV] n_estimators=1800, min_child_weight=3, max_depth=10, learning_rate=0.2, gamma=0.1, colsample_bytree=0.7 \n",
      "[CV]  n_estimators=1800, min_child_weight=3, max_depth=10, learning_rate=0.2, gamma=0.1, colsample_bytree=0.7, score=0.845, total=   1.9s\n",
      "[CV] n_estimators=1800, min_child_weight=3, max_depth=10, learning_rate=0.2, gamma=0.1, colsample_bytree=0.7 \n",
      "[CV]  n_estimators=1800, min_child_weight=3, max_depth=10, learning_rate=0.2, gamma=0.1, colsample_bytree=0.7, score=0.900, total=   2.0s\n",
      "[CV] n_estimators=1800, min_child_weight=3, max_depth=10, learning_rate=0.2, gamma=0.1, colsample_bytree=0.7 \n",
      "[CV]  n_estimators=1800, min_child_weight=3, max_depth=10, learning_rate=0.2, gamma=0.1, colsample_bytree=0.7, score=0.854, total=   1.9s\n",
      "[CV] n_estimators=1800, min_child_weight=3, max_depth=10, learning_rate=0.2, gamma=0.1, colsample_bytree=0.7 \n",
      "[CV]  n_estimators=1800, min_child_weight=3, max_depth=10, learning_rate=0.2, gamma=0.1, colsample_bytree=0.7, score=0.852, total=   2.0s\n",
      "[CV] n_estimators=1800, min_child_weight=3, max_depth=10, learning_rate=0.2, gamma=0.1, colsample_bytree=0.7 \n",
      "[CV]  n_estimators=1800, min_child_weight=3, max_depth=10, learning_rate=0.2, gamma=0.1, colsample_bytree=0.7, score=0.879, total=   2.0s\n",
      "[CV] n_estimators=1800, min_child_weight=3, max_depth=10, learning_rate=0.2, gamma=0.1, colsample_bytree=0.7 \n",
      "[CV]  n_estimators=1800, min_child_weight=3, max_depth=10, learning_rate=0.2, gamma=0.1, colsample_bytree=0.7, score=0.893, total=   2.0s\n",
      "[CV] n_estimators=1800, min_child_weight=3, max_depth=10, learning_rate=0.2, gamma=0.1, colsample_bytree=0.7 \n",
      "[CV]  n_estimators=1800, min_child_weight=3, max_depth=10, learning_rate=0.2, gamma=0.1, colsample_bytree=0.7, score=0.839, total=   2.0s\n",
      "[CV] n_estimators=1800, min_child_weight=3, max_depth=10, learning_rate=0.2, gamma=0.1, colsample_bytree=0.7 \n",
      "[CV]  n_estimators=1800, min_child_weight=3, max_depth=10, learning_rate=0.2, gamma=0.1, colsample_bytree=0.7, score=0.862, total=   2.1s\n",
      "[CV] n_estimators=200, min_child_weight=3, max_depth=15, learning_rate=0.2, gamma=0.2, colsample_bytree=0.4 \n",
      "[CV]  n_estimators=200, min_child_weight=3, max_depth=15, learning_rate=0.2, gamma=0.2, colsample_bytree=0.4, score=0.896, total=   0.3s\n",
      "[CV] n_estimators=200, min_child_weight=3, max_depth=15, learning_rate=0.2, gamma=0.2, colsample_bytree=0.4 \n",
      "[CV]  n_estimators=200, min_child_weight=3, max_depth=15, learning_rate=0.2, gamma=0.2, colsample_bytree=0.4, score=0.886, total=   0.3s\n",
      "[CV] n_estimators=200, min_child_weight=3, max_depth=15, learning_rate=0.2, gamma=0.2, colsample_bytree=0.4 \n",
      "[CV]  n_estimators=200, min_child_weight=3, max_depth=15, learning_rate=0.2, gamma=0.2, colsample_bytree=0.4, score=0.829, total=   0.3s\n",
      "[CV] n_estimators=200, min_child_weight=3, max_depth=15, learning_rate=0.2, gamma=0.2, colsample_bytree=0.4 \n",
      "[CV]  n_estimators=200, min_child_weight=3, max_depth=15, learning_rate=0.2, gamma=0.2, colsample_bytree=0.4, score=0.897, total=   0.3s\n",
      "[CV] n_estimators=200, min_child_weight=3, max_depth=15, learning_rate=0.2, gamma=0.2, colsample_bytree=0.4 \n",
      "[CV]  n_estimators=200, min_child_weight=3, max_depth=15, learning_rate=0.2, gamma=0.2, colsample_bytree=0.4, score=0.845, total=   0.3s\n",
      "[CV] n_estimators=200, min_child_weight=3, max_depth=15, learning_rate=0.2, gamma=0.2, colsample_bytree=0.4 \n",
      "[CV]  n_estimators=200, min_child_weight=3, max_depth=15, learning_rate=0.2, gamma=0.2, colsample_bytree=0.4, score=0.830, total=   0.3s\n",
      "[CV] n_estimators=200, min_child_weight=3, max_depth=15, learning_rate=0.2, gamma=0.2, colsample_bytree=0.4 \n",
      "[CV]  n_estimators=200, min_child_weight=3, max_depth=15, learning_rate=0.2, gamma=0.2, colsample_bytree=0.4, score=0.856, total=   0.3s\n",
      "[CV] n_estimators=200, min_child_weight=3, max_depth=15, learning_rate=0.2, gamma=0.2, colsample_bytree=0.4 \n",
      "[CV]  n_estimators=200, min_child_weight=3, max_depth=15, learning_rate=0.2, gamma=0.2, colsample_bytree=0.4, score=0.874, total=   0.3s\n",
      "[CV] n_estimators=200, min_child_weight=3, max_depth=15, learning_rate=0.2, gamma=0.2, colsample_bytree=0.4 \n",
      "[CV]  n_estimators=200, min_child_weight=3, max_depth=15, learning_rate=0.2, gamma=0.2, colsample_bytree=0.4, score=0.838, total=   0.3s\n",
      "[CV] n_estimators=200, min_child_weight=3, max_depth=15, learning_rate=0.2, gamma=0.2, colsample_bytree=0.4 \n",
      "[CV]  n_estimators=200, min_child_weight=3, max_depth=15, learning_rate=0.2, gamma=0.2, colsample_bytree=0.4, score=0.855, total=   0.3s\n",
      "[CV] n_estimators=400, min_child_weight=3, max_depth=10, learning_rate=0.3, gamma=0.3, colsample_bytree=0.3 \n",
      "[CV]  n_estimators=400, min_child_weight=3, max_depth=10, learning_rate=0.3, gamma=0.3, colsample_bytree=0.3, score=0.894, total=   0.4s\n",
      "[CV] n_estimators=400, min_child_weight=3, max_depth=10, learning_rate=0.3, gamma=0.3, colsample_bytree=0.3 \n",
      "[CV]  n_estimators=400, min_child_weight=3, max_depth=10, learning_rate=0.3, gamma=0.3, colsample_bytree=0.3, score=0.849, total=   0.4s\n",
      "[CV] n_estimators=400, min_child_weight=3, max_depth=10, learning_rate=0.3, gamma=0.3, colsample_bytree=0.3 \n",
      "[CV]  n_estimators=400, min_child_weight=3, max_depth=10, learning_rate=0.3, gamma=0.3, colsample_bytree=0.3, score=0.812, total=   0.4s\n",
      "[CV] n_estimators=400, min_child_weight=3, max_depth=10, learning_rate=0.3, gamma=0.3, colsample_bytree=0.3 \n",
      "[CV]  n_estimators=400, min_child_weight=3, max_depth=10, learning_rate=0.3, gamma=0.3, colsample_bytree=0.3, score=0.886, total=   0.4s\n",
      "[CV] n_estimators=400, min_child_weight=3, max_depth=10, learning_rate=0.3, gamma=0.3, colsample_bytree=0.3 \n",
      "[CV]  n_estimators=400, min_child_weight=3, max_depth=10, learning_rate=0.3, gamma=0.3, colsample_bytree=0.3, score=0.813, total=   0.4s\n",
      "[CV] n_estimators=400, min_child_weight=3, max_depth=10, learning_rate=0.3, gamma=0.3, colsample_bytree=0.3 \n",
      "[CV]  n_estimators=400, min_child_weight=3, max_depth=10, learning_rate=0.3, gamma=0.3, colsample_bytree=0.3, score=0.838, total=   0.4s\n",
      "[CV] n_estimators=400, min_child_weight=3, max_depth=10, learning_rate=0.3, gamma=0.3, colsample_bytree=0.3 \n",
      "[CV]  n_estimators=400, min_child_weight=3, max_depth=10, learning_rate=0.3, gamma=0.3, colsample_bytree=0.3, score=0.840, total=   0.4s\n",
      "[CV] n_estimators=400, min_child_weight=3, max_depth=10, learning_rate=0.3, gamma=0.3, colsample_bytree=0.3 \n",
      "[CV]  n_estimators=400, min_child_weight=3, max_depth=10, learning_rate=0.3, gamma=0.3, colsample_bytree=0.3, score=0.877, total=   0.4s\n",
      "[CV] n_estimators=400, min_child_weight=3, max_depth=10, learning_rate=0.3, gamma=0.3, colsample_bytree=0.3 \n",
      "[CV]  n_estimators=400, min_child_weight=3, max_depth=10, learning_rate=0.3, gamma=0.3, colsample_bytree=0.3, score=0.786, total=   0.4s\n",
      "[CV] n_estimators=400, min_child_weight=3, max_depth=10, learning_rate=0.3, gamma=0.3, colsample_bytree=0.3 \n",
      "[CV]  n_estimators=400, min_child_weight=3, max_depth=10, learning_rate=0.3, gamma=0.3, colsample_bytree=0.3, score=0.826, total=   0.4s\n",
      "[CV] n_estimators=1200, min_child_weight=3, max_depth=4, learning_rate=0.1, gamma=0.3, colsample_bytree=0.4 \n",
      "[CV]  n_estimators=1200, min_child_weight=3, max_depth=4, learning_rate=0.1, gamma=0.3, colsample_bytree=0.4, score=0.893, total=   0.5s\n",
      "[CV] n_estimators=1200, min_child_weight=3, max_depth=4, learning_rate=0.1, gamma=0.3, colsample_bytree=0.4 \n",
      "[CV]  n_estimators=1200, min_child_weight=3, max_depth=4, learning_rate=0.1, gamma=0.3, colsample_bytree=0.4, score=0.861, total=   0.5s\n",
      "[CV] n_estimators=1200, min_child_weight=3, max_depth=4, learning_rate=0.1, gamma=0.3, colsample_bytree=0.4 \n",
      "[CV]  n_estimators=1200, min_child_weight=3, max_depth=4, learning_rate=0.1, gamma=0.3, colsample_bytree=0.4, score=0.808, total=   0.5s\n",
      "[CV] n_estimators=1200, min_child_weight=3, max_depth=4, learning_rate=0.1, gamma=0.3, colsample_bytree=0.4 \n",
      "[CV]  n_estimators=1200, min_child_weight=3, max_depth=4, learning_rate=0.1, gamma=0.3, colsample_bytree=0.4, score=0.884, total=   0.5s\n",
      "[CV] n_estimators=1200, min_child_weight=3, max_depth=4, learning_rate=0.1, gamma=0.3, colsample_bytree=0.4 \n",
      "[CV]  n_estimators=1200, min_child_weight=3, max_depth=4, learning_rate=0.1, gamma=0.3, colsample_bytree=0.4, score=0.834, total=   0.5s\n",
      "[CV] n_estimators=1200, min_child_weight=3, max_depth=4, learning_rate=0.1, gamma=0.3, colsample_bytree=0.4 \n",
      "[CV]  n_estimators=1200, min_child_weight=3, max_depth=4, learning_rate=0.1, gamma=0.3, colsample_bytree=0.4, score=0.865, total=   0.5s\n",
      "[CV] n_estimators=1200, min_child_weight=3, max_depth=4, learning_rate=0.1, gamma=0.3, colsample_bytree=0.4 \n",
      "[CV]  n_estimators=1200, min_child_weight=3, max_depth=4, learning_rate=0.1, gamma=0.3, colsample_bytree=0.4, score=0.842, total=   0.5s\n",
      "[CV] n_estimators=1200, min_child_weight=3, max_depth=4, learning_rate=0.1, gamma=0.3, colsample_bytree=0.4 \n",
      "[CV]  n_estimators=1200, min_child_weight=3, max_depth=4, learning_rate=0.1, gamma=0.3, colsample_bytree=0.4, score=0.858, total=   0.5s\n",
      "[CV] n_estimators=1200, min_child_weight=3, max_depth=4, learning_rate=0.1, gamma=0.3, colsample_bytree=0.4 \n",
      "[CV]  n_estimators=1200, min_child_weight=3, max_depth=4, learning_rate=0.1, gamma=0.3, colsample_bytree=0.4, score=0.832, total=   0.5s\n",
      "[CV] n_estimators=1200, min_child_weight=3, max_depth=4, learning_rate=0.1, gamma=0.3, colsample_bytree=0.4 \n",
      "[CV]  n_estimators=1200, min_child_weight=3, max_depth=4, learning_rate=0.1, gamma=0.3, colsample_bytree=0.4, score=0.846, total=   0.5s\n",
      "[CV] n_estimators=1200, min_child_weight=1, max_depth=3, learning_rate=0.05, gamma=0.2, colsample_bytree=0.4 \n",
      "[CV]  n_estimators=1200, min_child_weight=1, max_depth=3, learning_rate=0.05, gamma=0.2, colsample_bytree=0.4, score=0.893, total=   0.4s\n",
      "[CV] n_estimators=1200, min_child_weight=1, max_depth=3, learning_rate=0.05, gamma=0.2, colsample_bytree=0.4 \n",
      "[CV]  n_estimators=1200, min_child_weight=1, max_depth=3, learning_rate=0.05, gamma=0.2, colsample_bytree=0.4, score=0.869, total=   0.4s\n",
      "[CV] n_estimators=1200, min_child_weight=1, max_depth=3, learning_rate=0.05, gamma=0.2, colsample_bytree=0.4 \n",
      "[CV]  n_estimators=1200, min_child_weight=1, max_depth=3, learning_rate=0.05, gamma=0.2, colsample_bytree=0.4, score=0.815, total=   0.4s\n",
      "[CV] n_estimators=1200, min_child_weight=1, max_depth=3, learning_rate=0.05, gamma=0.2, colsample_bytree=0.4 \n",
      "[CV]  n_estimators=1200, min_child_weight=1, max_depth=3, learning_rate=0.05, gamma=0.2, colsample_bytree=0.4, score=0.901, total=   0.4s\n",
      "[CV] n_estimators=1200, min_child_weight=1, max_depth=3, learning_rate=0.05, gamma=0.2, colsample_bytree=0.4 \n",
      "[CV]  n_estimators=1200, min_child_weight=1, max_depth=3, learning_rate=0.05, gamma=0.2, colsample_bytree=0.4, score=0.854, total=   0.4s\n",
      "[CV] n_estimators=1200, min_child_weight=1, max_depth=3, learning_rate=0.05, gamma=0.2, colsample_bytree=0.4 \n",
      "[CV]  n_estimators=1200, min_child_weight=1, max_depth=3, learning_rate=0.05, gamma=0.2, colsample_bytree=0.4, score=0.867, total=   0.4s\n",
      "[CV] n_estimators=1200, min_child_weight=1, max_depth=3, learning_rate=0.05, gamma=0.2, colsample_bytree=0.4 \n",
      "[CV]  n_estimators=1200, min_child_weight=1, max_depth=3, learning_rate=0.05, gamma=0.2, colsample_bytree=0.4, score=0.847, total=   0.4s\n",
      "[CV] n_estimators=1200, min_child_weight=1, max_depth=3, learning_rate=0.05, gamma=0.2, colsample_bytree=0.4 \n",
      "[CV]  n_estimators=1200, min_child_weight=1, max_depth=3, learning_rate=0.05, gamma=0.2, colsample_bytree=0.4, score=0.859, total=   0.4s\n",
      "[CV] n_estimators=1200, min_child_weight=1, max_depth=3, learning_rate=0.05, gamma=0.2, colsample_bytree=0.4 \n",
      "[CV]  n_estimators=1200, min_child_weight=1, max_depth=3, learning_rate=0.05, gamma=0.2, colsample_bytree=0.4, score=0.836, total=   0.4s\n",
      "[CV] n_estimators=1200, min_child_weight=1, max_depth=3, learning_rate=0.05, gamma=0.2, colsample_bytree=0.4 \n",
      "[CV]  n_estimators=1200, min_child_weight=1, max_depth=3, learning_rate=0.05, gamma=0.2, colsample_bytree=0.4, score=0.860, total=   0.4s\n",
      "[CV] n_estimators=400, min_child_weight=3, max_depth=6, learning_rate=0.05, gamma=0.4, colsample_bytree=0.7 \n",
      "[CV]  n_estimators=400, min_child_weight=3, max_depth=6, learning_rate=0.05, gamma=0.4, colsample_bytree=0.7, score=0.887, total=   0.3s\n",
      "[CV] n_estimators=400, min_child_weight=3, max_depth=6, learning_rate=0.05, gamma=0.4, colsample_bytree=0.7 \n",
      "[CV]  n_estimators=400, min_child_weight=3, max_depth=6, learning_rate=0.05, gamma=0.4, colsample_bytree=0.7, score=0.846, total=   0.3s\n",
      "[CV] n_estimators=400, min_child_weight=3, max_depth=6, learning_rate=0.05, gamma=0.4, colsample_bytree=0.7 \n",
      "[CV]  n_estimators=400, min_child_weight=3, max_depth=6, learning_rate=0.05, gamma=0.4, colsample_bytree=0.7, score=0.805, total=   0.3s\n",
      "[CV] n_estimators=400, min_child_weight=3, max_depth=6, learning_rate=0.05, gamma=0.4, colsample_bytree=0.7 \n",
      "[CV]  n_estimators=400, min_child_weight=3, max_depth=6, learning_rate=0.05, gamma=0.4, colsample_bytree=0.7, score=0.870, total=   0.3s\n",
      "[CV] n_estimators=400, min_child_weight=3, max_depth=6, learning_rate=0.05, gamma=0.4, colsample_bytree=0.7 \n",
      "[CV]  n_estimators=400, min_child_weight=3, max_depth=6, learning_rate=0.05, gamma=0.4, colsample_bytree=0.7, score=0.831, total=   0.3s\n",
      "[CV] n_estimators=400, min_child_weight=3, max_depth=6, learning_rate=0.05, gamma=0.4, colsample_bytree=0.7 \n",
      "[CV]  n_estimators=400, min_child_weight=3, max_depth=6, learning_rate=0.05, gamma=0.4, colsample_bytree=0.7, score=0.871, total=   0.3s\n",
      "[CV] n_estimators=400, min_child_weight=3, max_depth=6, learning_rate=0.05, gamma=0.4, colsample_bytree=0.7 \n",
      "[CV]  n_estimators=400, min_child_weight=3, max_depth=6, learning_rate=0.05, gamma=0.4, colsample_bytree=0.7, score=0.851, total=   0.3s\n",
      "[CV] n_estimators=400, min_child_weight=3, max_depth=6, learning_rate=0.05, gamma=0.4, colsample_bytree=0.7 \n",
      "[CV]  n_estimators=400, min_child_weight=3, max_depth=6, learning_rate=0.05, gamma=0.4, colsample_bytree=0.7, score=0.840, total=   0.3s\n",
      "[CV] n_estimators=400, min_child_weight=3, max_depth=6, learning_rate=0.05, gamma=0.4, colsample_bytree=0.7 \n",
      "[CV]  n_estimators=400, min_child_weight=3, max_depth=6, learning_rate=0.05, gamma=0.4, colsample_bytree=0.7, score=0.829, total=   0.3s\n",
      "[CV] n_estimators=400, min_child_weight=3, max_depth=6, learning_rate=0.05, gamma=0.4, colsample_bytree=0.7 \n",
      "[CV]  n_estimators=400, min_child_weight=3, max_depth=6, learning_rate=0.05, gamma=0.4, colsample_bytree=0.7, score=0.843, total=   0.3s\n",
      "[CV] n_estimators=1800, min_child_weight=7, max_depth=15, learning_rate=0.3, gamma=0.1, colsample_bytree=0.5 \n",
      "[CV]  n_estimators=1800, min_child_weight=7, max_depth=15, learning_rate=0.3, gamma=0.1, colsample_bytree=0.5, score=0.905, total=   2.3s\n",
      "[CV] n_estimators=1800, min_child_weight=7, max_depth=15, learning_rate=0.3, gamma=0.1, colsample_bytree=0.5 \n",
      "[CV]  n_estimators=1800, min_child_weight=7, max_depth=15, learning_rate=0.3, gamma=0.1, colsample_bytree=0.5, score=0.875, total=   2.3s\n",
      "[CV] n_estimators=1800, min_child_weight=7, max_depth=15, learning_rate=0.3, gamma=0.1, colsample_bytree=0.5 \n",
      "[CV]  n_estimators=1800, min_child_weight=7, max_depth=15, learning_rate=0.3, gamma=0.1, colsample_bytree=0.5, score=0.821, total=   2.3s\n",
      "[CV] n_estimators=1800, min_child_weight=7, max_depth=15, learning_rate=0.3, gamma=0.1, colsample_bytree=0.5 \n",
      "[CV]  n_estimators=1800, min_child_weight=7, max_depth=15, learning_rate=0.3, gamma=0.1, colsample_bytree=0.5, score=0.920, total=   2.3s\n",
      "[CV] n_estimators=1800, min_child_weight=7, max_depth=15, learning_rate=0.3, gamma=0.1, colsample_bytree=0.5 \n",
      "[CV]  n_estimators=1800, min_child_weight=7, max_depth=15, learning_rate=0.3, gamma=0.1, colsample_bytree=0.5, score=0.852, total=   2.3s\n",
      "[CV] n_estimators=1800, min_child_weight=7, max_depth=15, learning_rate=0.3, gamma=0.1, colsample_bytree=0.5 \n",
      "[CV]  n_estimators=1800, min_child_weight=7, max_depth=15, learning_rate=0.3, gamma=0.1, colsample_bytree=0.5, score=0.856, total=   2.3s\n",
      "[CV] n_estimators=1800, min_child_weight=7, max_depth=15, learning_rate=0.3, gamma=0.1, colsample_bytree=0.5 \n",
      "[CV]  n_estimators=1800, min_child_weight=7, max_depth=15, learning_rate=0.3, gamma=0.1, colsample_bytree=0.5, score=0.869, total=   2.3s\n",
      "[CV] n_estimators=1800, min_child_weight=7, max_depth=15, learning_rate=0.3, gamma=0.1, colsample_bytree=0.5 \n",
      "[CV]  n_estimators=1800, min_child_weight=7, max_depth=15, learning_rate=0.3, gamma=0.1, colsample_bytree=0.5, score=0.875, total=   2.3s\n",
      "[CV] n_estimators=1800, min_child_weight=7, max_depth=15, learning_rate=0.3, gamma=0.1, colsample_bytree=0.5 \n",
      "[CV]  n_estimators=1800, min_child_weight=7, max_depth=15, learning_rate=0.3, gamma=0.1, colsample_bytree=0.5, score=0.842, total=   2.4s\n",
      "[CV] n_estimators=1800, min_child_weight=7, max_depth=15, learning_rate=0.3, gamma=0.1, colsample_bytree=0.5 \n",
      "[CV]  n_estimators=1800, min_child_weight=7, max_depth=15, learning_rate=0.3, gamma=0.1, colsample_bytree=0.5, score=0.882, total=   2.5s\n",
      "[CV] n_estimators=400, min_child_weight=1, max_depth=3, learning_rate=0.15, gamma=0.4, colsample_bytree=0.5 \n",
      "[CV]  n_estimators=400, min_child_weight=1, max_depth=3, learning_rate=0.15, gamma=0.4, colsample_bytree=0.5, score=0.881, total=   0.2s\n",
      "[CV] n_estimators=400, min_child_weight=1, max_depth=3, learning_rate=0.15, gamma=0.4, colsample_bytree=0.5 \n",
      "[CV]  n_estimators=400, min_child_weight=1, max_depth=3, learning_rate=0.15, gamma=0.4, colsample_bytree=0.5, score=0.855, total=   0.2s\n",
      "[CV] n_estimators=400, min_child_weight=1, max_depth=3, learning_rate=0.15, gamma=0.4, colsample_bytree=0.5 \n",
      "[CV]  n_estimators=400, min_child_weight=1, max_depth=3, learning_rate=0.15, gamma=0.4, colsample_bytree=0.5, score=0.805, total=   0.2s\n",
      "[CV] n_estimators=400, min_child_weight=1, max_depth=3, learning_rate=0.15, gamma=0.4, colsample_bytree=0.5 \n",
      "[CV]  n_estimators=400, min_child_weight=1, max_depth=3, learning_rate=0.15, gamma=0.4, colsample_bytree=0.5, score=0.889, total=   0.2s\n",
      "[CV] n_estimators=400, min_child_weight=1, max_depth=3, learning_rate=0.15, gamma=0.4, colsample_bytree=0.5 \n",
      "[CV]  n_estimators=400, min_child_weight=1, max_depth=3, learning_rate=0.15, gamma=0.4, colsample_bytree=0.5, score=0.822, total=   0.2s\n",
      "[CV] n_estimators=400, min_child_weight=1, max_depth=3, learning_rate=0.15, gamma=0.4, colsample_bytree=0.5 \n",
      "[CV]  n_estimators=400, min_child_weight=1, max_depth=3, learning_rate=0.15, gamma=0.4, colsample_bytree=0.5, score=0.854, total=   0.2s\n",
      "[CV] n_estimators=400, min_child_weight=1, max_depth=3, learning_rate=0.15, gamma=0.4, colsample_bytree=0.5 \n",
      "[CV]  n_estimators=400, min_child_weight=1, max_depth=3, learning_rate=0.15, gamma=0.4, colsample_bytree=0.5, score=0.840, total=   0.2s\n",
      "[CV] n_estimators=400, min_child_weight=1, max_depth=3, learning_rate=0.15, gamma=0.4, colsample_bytree=0.5 \n",
      "[CV]  n_estimators=400, min_child_weight=1, max_depth=3, learning_rate=0.15, gamma=0.4, colsample_bytree=0.5, score=0.846, total=   0.2s\n",
      "[CV] n_estimators=400, min_child_weight=1, max_depth=3, learning_rate=0.15, gamma=0.4, colsample_bytree=0.5 \n",
      "[CV]  n_estimators=400, min_child_weight=1, max_depth=3, learning_rate=0.15, gamma=0.4, colsample_bytree=0.5, score=0.811, total=   0.2s\n",
      "[CV] n_estimators=400, min_child_weight=1, max_depth=3, learning_rate=0.15, gamma=0.4, colsample_bytree=0.5 \n",
      "[CV]  n_estimators=400, min_child_weight=1, max_depth=3, learning_rate=0.15, gamma=0.4, colsample_bytree=0.5, score=0.835, total=   0.2s\n",
      "[CV] n_estimators=200, min_child_weight=3, max_depth=10, learning_rate=0.25, gamma=0.3, colsample_bytree=0.4 \n",
      "[CV]  n_estimators=200, min_child_weight=3, max_depth=10, learning_rate=0.25, gamma=0.3, colsample_bytree=0.4, score=0.898, total=   0.3s\n",
      "[CV] n_estimators=200, min_child_weight=3, max_depth=10, learning_rate=0.25, gamma=0.3, colsample_bytree=0.4 \n",
      "[CV]  n_estimators=200, min_child_weight=3, max_depth=10, learning_rate=0.25, gamma=0.3, colsample_bytree=0.4, score=0.852, total=   0.3s\n",
      "[CV] n_estimators=200, min_child_weight=3, max_depth=10, learning_rate=0.25, gamma=0.3, colsample_bytree=0.4 \n",
      "[CV]  n_estimators=200, min_child_weight=3, max_depth=10, learning_rate=0.25, gamma=0.3, colsample_bytree=0.4, score=0.808, total=   0.3s\n",
      "[CV] n_estimators=200, min_child_weight=3, max_depth=10, learning_rate=0.25, gamma=0.3, colsample_bytree=0.4 \n",
      "[CV]  n_estimators=200, min_child_weight=3, max_depth=10, learning_rate=0.25, gamma=0.3, colsample_bytree=0.4, score=0.885, total=   0.3s\n",
      "[CV] n_estimators=200, min_child_weight=3, max_depth=10, learning_rate=0.25, gamma=0.3, colsample_bytree=0.4 \n",
      "[CV]  n_estimators=200, min_child_weight=3, max_depth=10, learning_rate=0.25, gamma=0.3, colsample_bytree=0.4, score=0.840, total=   0.3s\n",
      "[CV] n_estimators=200, min_child_weight=3, max_depth=10, learning_rate=0.25, gamma=0.3, colsample_bytree=0.4 \n",
      "[CV]  n_estimators=200, min_child_weight=3, max_depth=10, learning_rate=0.25, gamma=0.3, colsample_bytree=0.4, score=0.833, total=   0.3s\n",
      "[CV] n_estimators=200, min_child_weight=3, max_depth=10, learning_rate=0.25, gamma=0.3, colsample_bytree=0.4 \n",
      "[CV]  n_estimators=200, min_child_weight=3, max_depth=10, learning_rate=0.25, gamma=0.3, colsample_bytree=0.4, score=0.866, total=   0.3s\n",
      "[CV] n_estimators=200, min_child_weight=3, max_depth=10, learning_rate=0.25, gamma=0.3, colsample_bytree=0.4 \n",
      "[CV]  n_estimators=200, min_child_weight=3, max_depth=10, learning_rate=0.25, gamma=0.3, colsample_bytree=0.4, score=0.862, total=   0.2s\n",
      "[CV] n_estimators=200, min_child_weight=3, max_depth=10, learning_rate=0.25, gamma=0.3, colsample_bytree=0.4 \n",
      "[CV]  n_estimators=200, min_child_weight=3, max_depth=10, learning_rate=0.25, gamma=0.3, colsample_bytree=0.4, score=0.815, total=   0.2s\n",
      "[CV] n_estimators=200, min_child_weight=3, max_depth=10, learning_rate=0.25, gamma=0.3, colsample_bytree=0.4 \n",
      "[CV]  n_estimators=200, min_child_weight=3, max_depth=10, learning_rate=0.25, gamma=0.3, colsample_bytree=0.4, score=0.841, total=   0.2s\n"
     ]
    },
    {
     "name": "stderr",
     "output_type": "stream",
     "text": [
      "[Parallel(n_jobs=1)]: Done 500 out of 500 | elapsed:  7.0min finished\n"
     ]
    },
    {
     "data": {
      "text/plain": [
       "RandomizedSearchCV(cv=10,\n",
       "                   estimator=XGBRegressor(base_score=None, booster=None,\n",
       "                                          colsample_bylevel=None,\n",
       "                                          colsample_bynode=None,\n",
       "                                          colsample_bytree=None, gamma=None,\n",
       "                                          gpu_id=None, importance_type='gain',\n",
       "                                          interaction_constraints=None,\n",
       "                                          learning_rate=None,\n",
       "                                          max_delta_step=None, max_depth=None,\n",
       "                                          min_child_weight=None, missing=nan,\n",
       "                                          monotone_constraints=None,\n",
       "                                          n_estimators=100,...\n",
       "                                          scale_pos_weight=None, subsample=None,\n",
       "                                          tree_method=None,\n",
       "                                          validate_parameters=None,\n",
       "                                          verbosity=None),\n",
       "                   n_iter=50, n_jobs=1,\n",
       "                   param_distributions={'colsample_bytree': [0.3, 0.4, 0.5,\n",
       "                                                             0.7],\n",
       "                                        'gamma': [0.1, 0.2, 0.3, 0.4],\n",
       "                                        'learning_rate': [0.05, 0.1, 0.15, 0.2,\n",
       "                                                          0.25, 0.3],\n",
       "                                        'max_depth': [3, 4, 5, 6, 8, 10, 12,\n",
       "                                                      15],\n",
       "                                        'min_child_weight': [1, 3, 5, 7],\n",
       "                                        'n_estimators': [200, 400, 600, 800,\n",
       "                                                         1000, 1200, 1400, 1600,\n",
       "                                                         1800, 2000]},\n",
       "                   verbose=3)"
      ]
     },
     "execution_count": 103,
     "metadata": {},
     "output_type": "execute_result"
    }
   ],
   "source": [
    "xgboost_randomcv=RandomizedSearchCV(XGBRegressor(),param_distributions=params_xgboost,n_iter=50,n_jobs=1,cv=10,verbose=3)\n",
    "\n",
    "xgboost_randomcv.fit(X_train,y_train)"
   ]
  },
  {
   "cell_type": "markdown",
   "metadata": {},
   "source": [
    "#### FINDING THE BEST PARAMETER VALUES FOR DIFFERENT 'n_iter' AND 'cv'"
   ]
  },
  {
   "cell_type": "code",
   "execution_count": 104,
   "metadata": {},
   "outputs": [
    {
     "data": {
      "text/plain": [
       "{'n_estimators': 2000,\n",
       " 'min_child_weight': 3,\n",
       " 'max_depth': 8,\n",
       " 'learning_rate': 0.05,\n",
       " 'gamma': 0.1,\n",
       " 'colsample_bytree': 0.3}"
      ]
     },
     "execution_count": 104,
     "metadata": {},
     "output_type": "execute_result"
    }
   ],
   "source": [
    "xgboost_randomcv.best_params_ ## n_iter=50,cv=10  BEST"
   ]
  },
  {
   "cell_type": "markdown",
   "metadata": {},
   "source": [
    "#### Applying tuned hyper parameters using train test split technique for Xgboost"
   ]
  },
  {
   "cell_type": "code",
   "execution_count": 89,
   "metadata": {
    "scrolled": true
   },
   "outputs": [
    {
     "data": {
      "text/plain": [
       "0.9017014854420474"
      ]
     },
     "execution_count": 89,
     "metadata": {},
     "output_type": "execute_result"
    }
   ],
   "source": [
    "## n_iter=50,cv=10\n",
    "\n",
    "## Calculating the model score with tuned hyperparameters\n",
    "\n",
    "get_model_score(XGBRegressor(learning_rate=0.05,random_state=10,n_estimators=2000,min_child_weight=3,max_depth=8,\n",
    "                             gamma=0.1,colsample_bytree=0.3),X_train,X_test,y_train,y_test)"
   ]
  },
  {
   "cell_type": "code",
   "execution_count": 90,
   "metadata": {},
   "outputs": [
    {
     "data": {
      "text/plain": [
       "0.9017014854420474"
      ]
     },
     "execution_count": 90,
     "metadata": {},
     "output_type": "execute_result"
    }
   ],
   "source": [
    "## n_iter=50,cv=10\n",
    "\n",
    "## Calculating r2_score for the model with tuned hyperparameters\n",
    "\n",
    "get_r2_score(XGBRegressor(learning_rate=0.05,random_state=10,n_estimators=2000,min_child_weight=3,max_depth=8,\n",
    "                             gamma=0.1,colsample_bytree=0.3),X_train,X_test,y_train,y_test)"
   ]
  },
  {
   "cell_type": "code",
   "execution_count": 91,
   "metadata": {},
   "outputs": [
    {
     "data": {
      "text/plain": [
       "0.1280802358293695"
      ]
     },
     "execution_count": 91,
     "metadata": {},
     "output_type": "execute_result"
    }
   ],
   "source": [
    "## n_iter=50,cv=10\n",
    "\n",
    "## Calculating rmse score for the model with tuned hyperparameters\n",
    "\n",
    "get_rmse_score(XGBRegressor(learning_rate=0.05,random_state=10,n_estimators=2000,min_child_weight=3,max_depth=8,\n",
    "                             gamma=0.1,colsample_bytree=0.3),X_train,X_test,y_train,y_test)"
   ]
  },
  {
   "cell_type": "code",
   "execution_count": 92,
   "metadata": {},
   "outputs": [
    {
     "data": {
      "text/plain": [
       "0.09500642875403731"
      ]
     },
     "execution_count": 92,
     "metadata": {},
     "output_type": "execute_result"
    }
   ],
   "source": [
    "## n_iter=50,cv=10\n",
    "\n",
    "## Calculating mean absolute error for the model with tuned hyperparameters\n",
    "\n",
    "get_mae_score(XGBRegressor(learning_rate=0.05,random_state=10,n_estimators=2000,min_child_weight=3,max_depth=8,\n",
    "                             gamma=0.1,colsample_bytree=0.3),X_train,X_test,y_train,y_test)\n"
   ]
  },
  {
   "cell_type": "code",
   "execution_count": 93,
   "metadata": {},
   "outputs": [
    {
     "data": {
      "text/plain": [
       "(912    11.385092\n",
       " 373    11.719940\n",
       " 20     12.692503\n",
       " 800    12.206073\n",
       " 152    12.154779\n",
       " Name: SalePrice, dtype: float64,\n",
       " array([11.942357, 12.266708, 11.764323, 11.910629, 12.682258],\n",
       "       dtype=float32))"
      ]
     },
     "execution_count": 93,
     "metadata": {},
     "output_type": "execute_result"
    }
   ],
   "source": [
    "## n_iter=50,cv=10\n",
    "\n",
    "## Displaying and comparing y_train and y_predict values with tuned hyperparameters\n",
    "\n",
    "get_y_train_y_predict(XGBRegressor(learning_rate=0.05,random_state=10,n_estimators=2000,min_child_weight=3,max_depth=8,\n",
    "                             gamma=0.1,colsample_bytree=0.3),X_train,X_test,y_train,y_test)"
   ]
  },
  {
   "cell_type": "code",
   "execution_count": 94,
   "metadata": {},
   "outputs": [
    {
     "data": {
      "text/html": [
       "<div>\n",
       "<style scoped>\n",
       "    .dataframe tbody tr th:only-of-type {\n",
       "        vertical-align: middle;\n",
       "    }\n",
       "\n",
       "    .dataframe tbody tr th {\n",
       "        vertical-align: top;\n",
       "    }\n",
       "\n",
       "    .dataframe thead th {\n",
       "        text-align: right;\n",
       "    }\n",
       "</style>\n",
       "<table border=\"1\" class=\"dataframe\">\n",
       "  <thead>\n",
       "    <tr style=\"text-align: right;\">\n",
       "      <th></th>\n",
       "      <th>model_score</th>\n",
       "      <th>r2_score</th>\n",
       "      <th>rmse</th>\n",
       "      <th>mae</th>\n",
       "    </tr>\n",
       "  </thead>\n",
       "  <tbody>\n",
       "    <tr>\n",
       "      <th>XGBOOST Hyperparameter Tuned</th>\n",
       "      <td>0.901701</td>\n",
       "      <td>0.901701</td>\n",
       "      <td>0.12808</td>\n",
       "      <td>0.095006</td>\n",
       "    </tr>\n",
       "  </tbody>\n",
       "</table>\n",
       "</div>"
      ],
      "text/plain": [
       "                              model_score  r2_score     rmse       mae\n",
       "XGBOOST Hyperparameter Tuned     0.901701  0.901701  0.12808  0.095006"
      ]
     },
     "execution_count": 94,
     "metadata": {},
     "output_type": "execute_result"
    }
   ],
   "source": [
    "## Viewing all model evaluation metric values for XGBOOST using tuned hyperparameters \n",
    "\n",
    "result_xg_traintest_hyperparamtune =pd.DataFrame({'model_score': [get_model_score(XGBRegressor(learning_rate=0.05,random_state=10,n_estimators=2000,min_child_weight=3,max_depth=8,\n",
    "                                                                gamma=0.1,colsample_bytree=0.3),X_train,X_test,y_train,y_test)],\n",
    "                                       \n",
    "                                                  'r2_score':[get_r2_score(XGBRegressor(learning_rate=0.05,random_state=10,n_estimators=2000,min_child_weight=3,max_depth=8,\n",
    "                                                                gamma=0.1,colsample_bytree=0.3),X_train,X_test,y_train,y_test)],\n",
    "                                                  \n",
    "                                                  'rmse':[get_rmse_score(XGBRegressor(learning_rate=0.05,random_state=10,n_estimators=2000,min_child_weight=3,max_depth=8,\n",
    "                                                                gamma=0.1,colsample_bytree=0.3),X_train,X_test,y_train,y_test)],\n",
    "                                                  \n",
    "                                                  'mae':[get_mae_score(XGBRegressor(learning_rate=0.05,random_state=10,n_estimators=2000,min_child_weight=3,max_depth=8,\n",
    "                                                                gamma=0.1,colsample_bytree=0.3),X_train,X_test,y_train,y_test)]},\n",
    "                                       \n",
    "                                                  index=['XGBOOST Hyperparameter Tuned'])\n",
    "\n"
   ]
  },
  {
   "cell_type": "markdown",
   "metadata": {},
   "source": [
    "#### Fitting Randomized Search CV to X,y directly(Without usung train test split)"
   ]
  },
  {
   "cell_type": "code",
   "execution_count": 107,
   "metadata": {
    "collapsed": true
   },
   "outputs": [
    {
     "name": "stdout",
     "output_type": "stream",
     "text": [
      "Fitting 10 folds for each of 20 candidates, totalling 200 fits\n",
      "[CV] n_estimators=1000, min_child_weight=7, max_depth=10, learning_rate=0.25, gamma=0.2, colsample_bytree=0.3 \n"
     ]
    },
    {
     "name": "stderr",
     "output_type": "stream",
     "text": [
      "[Parallel(n_jobs=1)]: Using backend SequentialBackend with 1 concurrent workers.\n"
     ]
    },
    {
     "name": "stdout",
     "output_type": "stream",
     "text": [
      "[CV]  n_estimators=1000, min_child_weight=7, max_depth=10, learning_rate=0.25, gamma=0.2, colsample_bytree=0.3, score=0.881, total=   0.8s\n",
      "[CV] n_estimators=1000, min_child_weight=7, max_depth=10, learning_rate=0.25, gamma=0.2, colsample_bytree=0.3 \n"
     ]
    },
    {
     "name": "stderr",
     "output_type": "stream",
     "text": [
      "[Parallel(n_jobs=1)]: Done   1 out of   1 | elapsed:    0.7s remaining:    0.0s\n"
     ]
    },
    {
     "name": "stdout",
     "output_type": "stream",
     "text": [
      "[CV]  n_estimators=1000, min_child_weight=7, max_depth=10, learning_rate=0.25, gamma=0.2, colsample_bytree=0.3, score=0.896, total=   0.8s\n",
      "[CV] n_estimators=1000, min_child_weight=7, max_depth=10, learning_rate=0.25, gamma=0.2, colsample_bytree=0.3 \n"
     ]
    },
    {
     "name": "stderr",
     "output_type": "stream",
     "text": [
      "[Parallel(n_jobs=1)]: Done   2 out of   2 | elapsed:    1.5s remaining:    0.0s\n"
     ]
    },
    {
     "name": "stdout",
     "output_type": "stream",
     "text": [
      "[CV]  n_estimators=1000, min_child_weight=7, max_depth=10, learning_rate=0.25, gamma=0.2, colsample_bytree=0.3, score=0.897, total=   0.7s\n",
      "[CV] n_estimators=1000, min_child_weight=7, max_depth=10, learning_rate=0.25, gamma=0.2, colsample_bytree=0.3 \n",
      "[CV]  n_estimators=1000, min_child_weight=7, max_depth=10, learning_rate=0.25, gamma=0.2, colsample_bytree=0.3, score=0.856, total=   0.7s\n",
      "[CV] n_estimators=1000, min_child_weight=7, max_depth=10, learning_rate=0.25, gamma=0.2, colsample_bytree=0.3 \n",
      "[CV]  n_estimators=1000, min_child_weight=7, max_depth=10, learning_rate=0.25, gamma=0.2, colsample_bytree=0.3, score=0.892, total=   0.7s\n",
      "[CV] n_estimators=1000, min_child_weight=7, max_depth=10, learning_rate=0.25, gamma=0.2, colsample_bytree=0.3 \n",
      "[CV]  n_estimators=1000, min_child_weight=7, max_depth=10, learning_rate=0.25, gamma=0.2, colsample_bytree=0.3, score=0.894, total=   0.7s\n",
      "[CV] n_estimators=1000, min_child_weight=7, max_depth=10, learning_rate=0.25, gamma=0.2, colsample_bytree=0.3 \n",
      "[CV]  n_estimators=1000, min_child_weight=7, max_depth=10, learning_rate=0.25, gamma=0.2, colsample_bytree=0.3, score=0.895, total=   0.7s\n",
      "[CV] n_estimators=1000, min_child_weight=7, max_depth=10, learning_rate=0.25, gamma=0.2, colsample_bytree=0.3 \n",
      "[CV]  n_estimators=1000, min_child_weight=7, max_depth=10, learning_rate=0.25, gamma=0.2, colsample_bytree=0.3, score=0.886, total=   0.7s\n",
      "[CV] n_estimators=1000, min_child_weight=7, max_depth=10, learning_rate=0.25, gamma=0.2, colsample_bytree=0.3 \n",
      "[CV]  n_estimators=1000, min_child_weight=7, max_depth=10, learning_rate=0.25, gamma=0.2, colsample_bytree=0.3, score=0.831, total=   0.7s\n",
      "[CV] n_estimators=1000, min_child_weight=7, max_depth=10, learning_rate=0.25, gamma=0.2, colsample_bytree=0.3 \n",
      "[CV]  n_estimators=1000, min_child_weight=7, max_depth=10, learning_rate=0.25, gamma=0.2, colsample_bytree=0.3, score=0.857, total=   0.7s\n",
      "[CV] n_estimators=1400, min_child_weight=5, max_depth=6, learning_rate=0.2, gamma=0.4, colsample_bytree=0.7 \n",
      "[CV]  n_estimators=1400, min_child_weight=5, max_depth=6, learning_rate=0.2, gamma=0.4, colsample_bytree=0.7, score=0.872, total=   0.9s\n",
      "[CV] n_estimators=1400, min_child_weight=5, max_depth=6, learning_rate=0.2, gamma=0.4, colsample_bytree=0.7 \n",
      "[CV]  n_estimators=1400, min_child_weight=5, max_depth=6, learning_rate=0.2, gamma=0.4, colsample_bytree=0.7, score=0.897, total=   0.8s\n",
      "[CV] n_estimators=1400, min_child_weight=5, max_depth=6, learning_rate=0.2, gamma=0.4, colsample_bytree=0.7 \n",
      "[CV]  n_estimators=1400, min_child_weight=5, max_depth=6, learning_rate=0.2, gamma=0.4, colsample_bytree=0.7, score=0.883, total=   0.8s\n",
      "[CV] n_estimators=1400, min_child_weight=5, max_depth=6, learning_rate=0.2, gamma=0.4, colsample_bytree=0.7 \n",
      "[CV]  n_estimators=1400, min_child_weight=5, max_depth=6, learning_rate=0.2, gamma=0.4, colsample_bytree=0.7, score=0.845, total=   0.8s\n",
      "[CV] n_estimators=1400, min_child_weight=5, max_depth=6, learning_rate=0.2, gamma=0.4, colsample_bytree=0.7 \n",
      "[CV]  n_estimators=1400, min_child_weight=5, max_depth=6, learning_rate=0.2, gamma=0.4, colsample_bytree=0.7, score=0.861, total=   0.8s\n",
      "[CV] n_estimators=1400, min_child_weight=5, max_depth=6, learning_rate=0.2, gamma=0.4, colsample_bytree=0.7 \n",
      "[CV]  n_estimators=1400, min_child_weight=5, max_depth=6, learning_rate=0.2, gamma=0.4, colsample_bytree=0.7, score=0.871, total=   1.2s\n",
      "[CV] n_estimators=1400, min_child_weight=5, max_depth=6, learning_rate=0.2, gamma=0.4, colsample_bytree=0.7 \n",
      "[CV]  n_estimators=1400, min_child_weight=5, max_depth=6, learning_rate=0.2, gamma=0.4, colsample_bytree=0.7, score=0.862, total=   1.3s\n",
      "[CV] n_estimators=1400, min_child_weight=5, max_depth=6, learning_rate=0.2, gamma=0.4, colsample_bytree=0.7 \n",
      "[CV]  n_estimators=1400, min_child_weight=5, max_depth=6, learning_rate=0.2, gamma=0.4, colsample_bytree=0.7, score=0.885, total=   1.3s\n",
      "[CV] n_estimators=1400, min_child_weight=5, max_depth=6, learning_rate=0.2, gamma=0.4, colsample_bytree=0.7 \n",
      "[CV]  n_estimators=1400, min_child_weight=5, max_depth=6, learning_rate=0.2, gamma=0.4, colsample_bytree=0.7, score=0.843, total=   1.2s\n",
      "[CV] n_estimators=1400, min_child_weight=5, max_depth=6, learning_rate=0.2, gamma=0.4, colsample_bytree=0.7 \n",
      "[CV]  n_estimators=1400, min_child_weight=5, max_depth=6, learning_rate=0.2, gamma=0.4, colsample_bytree=0.7, score=0.844, total=   1.3s\n",
      "[CV] n_estimators=400, min_child_weight=7, max_depth=8, learning_rate=0.15, gamma=0.4, colsample_bytree=0.5 \n",
      "[CV]  n_estimators=400, min_child_weight=7, max_depth=8, learning_rate=0.15, gamma=0.4, colsample_bytree=0.5, score=0.882, total=   0.4s\n",
      "[CV] n_estimators=400, min_child_weight=7, max_depth=8, learning_rate=0.15, gamma=0.4, colsample_bytree=0.5 \n",
      "[CV]  n_estimators=400, min_child_weight=7, max_depth=8, learning_rate=0.15, gamma=0.4, colsample_bytree=0.5, score=0.903, total=   0.5s\n",
      "[CV] n_estimators=400, min_child_weight=7, max_depth=8, learning_rate=0.15, gamma=0.4, colsample_bytree=0.5 \n",
      "[CV]  n_estimators=400, min_child_weight=7, max_depth=8, learning_rate=0.15, gamma=0.4, colsample_bytree=0.5, score=0.897, total=   0.5s\n",
      "[CV] n_estimators=400, min_child_weight=7, max_depth=8, learning_rate=0.15, gamma=0.4, colsample_bytree=0.5 \n",
      "[CV]  n_estimators=400, min_child_weight=7, max_depth=8, learning_rate=0.15, gamma=0.4, colsample_bytree=0.5, score=0.858, total=   0.5s\n",
      "[CV] n_estimators=400, min_child_weight=7, max_depth=8, learning_rate=0.15, gamma=0.4, colsample_bytree=0.5 \n",
      "[CV]  n_estimators=400, min_child_weight=7, max_depth=8, learning_rate=0.15, gamma=0.4, colsample_bytree=0.5, score=0.869, total=   0.4s\n",
      "[CV] n_estimators=400, min_child_weight=7, max_depth=8, learning_rate=0.15, gamma=0.4, colsample_bytree=0.5 \n",
      "[CV]  n_estimators=400, min_child_weight=7, max_depth=8, learning_rate=0.15, gamma=0.4, colsample_bytree=0.5, score=0.873, total=   0.5s\n",
      "[CV] n_estimators=400, min_child_weight=7, max_depth=8, learning_rate=0.15, gamma=0.4, colsample_bytree=0.5 \n",
      "[CV]  n_estimators=400, min_child_weight=7, max_depth=8, learning_rate=0.15, gamma=0.4, colsample_bytree=0.5, score=0.864, total=   0.5s\n",
      "[CV] n_estimators=400, min_child_weight=7, max_depth=8, learning_rate=0.15, gamma=0.4, colsample_bytree=0.5 \n",
      "[CV]  n_estimators=400, min_child_weight=7, max_depth=8, learning_rate=0.15, gamma=0.4, colsample_bytree=0.5, score=0.884, total=   0.5s\n",
      "[CV] n_estimators=400, min_child_weight=7, max_depth=8, learning_rate=0.15, gamma=0.4, colsample_bytree=0.5 \n",
      "[CV]  n_estimators=400, min_child_weight=7, max_depth=8, learning_rate=0.15, gamma=0.4, colsample_bytree=0.5, score=0.852, total=   0.5s\n",
      "[CV] n_estimators=400, min_child_weight=7, max_depth=8, learning_rate=0.15, gamma=0.4, colsample_bytree=0.5 \n",
      "[CV]  n_estimators=400, min_child_weight=7, max_depth=8, learning_rate=0.15, gamma=0.4, colsample_bytree=0.5, score=0.854, total=   0.4s\n",
      "[CV] n_estimators=400, min_child_weight=3, max_depth=4, learning_rate=0.3, gamma=0.2, colsample_bytree=0.3 \n",
      "[CV]  n_estimators=400, min_child_weight=3, max_depth=4, learning_rate=0.3, gamma=0.2, colsample_bytree=0.3, score=0.883, total=   0.2s\n",
      "[CV] n_estimators=400, min_child_weight=3, max_depth=4, learning_rate=0.3, gamma=0.2, colsample_bytree=0.3 \n",
      "[CV]  n_estimators=400, min_child_weight=3, max_depth=4, learning_rate=0.3, gamma=0.2, colsample_bytree=0.3, score=0.887, total=   0.2s\n",
      "[CV] n_estimators=400, min_child_weight=3, max_depth=4, learning_rate=0.3, gamma=0.2, colsample_bytree=0.3 \n",
      "[CV]  n_estimators=400, min_child_weight=3, max_depth=4, learning_rate=0.3, gamma=0.2, colsample_bytree=0.3, score=0.894, total=   0.2s\n",
      "[CV] n_estimators=400, min_child_weight=3, max_depth=4, learning_rate=0.3, gamma=0.2, colsample_bytree=0.3 \n",
      "[CV]  n_estimators=400, min_child_weight=3, max_depth=4, learning_rate=0.3, gamma=0.2, colsample_bytree=0.3, score=0.858, total=   0.2s\n",
      "[CV] n_estimators=400, min_child_weight=3, max_depth=4, learning_rate=0.3, gamma=0.2, colsample_bytree=0.3 \n",
      "[CV]  n_estimators=400, min_child_weight=3, max_depth=4, learning_rate=0.3, gamma=0.2, colsample_bytree=0.3, score=0.889, total=   0.2s\n",
      "[CV] n_estimators=400, min_child_weight=3, max_depth=4, learning_rate=0.3, gamma=0.2, colsample_bytree=0.3 \n",
      "[CV]  n_estimators=400, min_child_weight=3, max_depth=4, learning_rate=0.3, gamma=0.2, colsample_bytree=0.3, score=0.888, total=   0.2s\n",
      "[CV] n_estimators=400, min_child_weight=3, max_depth=4, learning_rate=0.3, gamma=0.2, colsample_bytree=0.3 \n",
      "[CV]  n_estimators=400, min_child_weight=3, max_depth=4, learning_rate=0.3, gamma=0.2, colsample_bytree=0.3, score=0.881, total=   0.2s\n",
      "[CV] n_estimators=400, min_child_weight=3, max_depth=4, learning_rate=0.3, gamma=0.2, colsample_bytree=0.3 \n",
      "[CV]  n_estimators=400, min_child_weight=3, max_depth=4, learning_rate=0.3, gamma=0.2, colsample_bytree=0.3, score=0.880, total=   0.2s\n",
      "[CV] n_estimators=400, min_child_weight=3, max_depth=4, learning_rate=0.3, gamma=0.2, colsample_bytree=0.3 \n",
      "[CV]  n_estimators=400, min_child_weight=3, max_depth=4, learning_rate=0.3, gamma=0.2, colsample_bytree=0.3, score=0.862, total=   0.2s\n",
      "[CV] n_estimators=400, min_child_weight=3, max_depth=4, learning_rate=0.3, gamma=0.2, colsample_bytree=0.3 \n",
      "[CV]  n_estimators=400, min_child_weight=3, max_depth=4, learning_rate=0.3, gamma=0.2, colsample_bytree=0.3, score=0.850, total=   0.2s\n",
      "[CV] n_estimators=1200, min_child_weight=7, max_depth=4, learning_rate=0.2, gamma=0.1, colsample_bytree=0.7 \n",
      "[CV]  n_estimators=1200, min_child_weight=7, max_depth=4, learning_rate=0.2, gamma=0.1, colsample_bytree=0.7, score=0.883, total=   0.7s\n",
      "[CV] n_estimators=1200, min_child_weight=7, max_depth=4, learning_rate=0.2, gamma=0.1, colsample_bytree=0.7 \n",
      "[CV]  n_estimators=1200, min_child_weight=7, max_depth=4, learning_rate=0.2, gamma=0.1, colsample_bytree=0.7, score=0.919, total=   0.7s\n",
      "[CV] n_estimators=1200, min_child_weight=7, max_depth=4, learning_rate=0.2, gamma=0.1, colsample_bytree=0.7 \n",
      "[CV]  n_estimators=1200, min_child_weight=7, max_depth=4, learning_rate=0.2, gamma=0.1, colsample_bytree=0.7, score=0.898, total=   0.7s\n",
      "[CV] n_estimators=1200, min_child_weight=7, max_depth=4, learning_rate=0.2, gamma=0.1, colsample_bytree=0.7 \n",
      "[CV]  n_estimators=1200, min_child_weight=7, max_depth=4, learning_rate=0.2, gamma=0.1, colsample_bytree=0.7, score=0.887, total=   0.7s\n",
      "[CV] n_estimators=1200, min_child_weight=7, max_depth=4, learning_rate=0.2, gamma=0.1, colsample_bytree=0.7 \n",
      "[CV]  n_estimators=1200, min_child_weight=7, max_depth=4, learning_rate=0.2, gamma=0.1, colsample_bytree=0.7, score=0.876, total=   0.7s\n",
      "[CV] n_estimators=1200, min_child_weight=7, max_depth=4, learning_rate=0.2, gamma=0.1, colsample_bytree=0.7 \n",
      "[CV]  n_estimators=1200, min_child_weight=7, max_depth=4, learning_rate=0.2, gamma=0.1, colsample_bytree=0.7, score=0.900, total=   0.8s\n",
      "[CV] n_estimators=1200, min_child_weight=7, max_depth=4, learning_rate=0.2, gamma=0.1, colsample_bytree=0.7 \n",
      "[CV]  n_estimators=1200, min_child_weight=7, max_depth=4, learning_rate=0.2, gamma=0.1, colsample_bytree=0.7, score=0.903, total=   0.7s\n",
      "[CV] n_estimators=1200, min_child_weight=7, max_depth=4, learning_rate=0.2, gamma=0.1, colsample_bytree=0.7 \n",
      "[CV]  n_estimators=1200, min_child_weight=7, max_depth=4, learning_rate=0.2, gamma=0.1, colsample_bytree=0.7, score=0.884, total=   0.7s\n",
      "[CV] n_estimators=1200, min_child_weight=7, max_depth=4, learning_rate=0.2, gamma=0.1, colsample_bytree=0.7 \n",
      "[CV]  n_estimators=1200, min_child_weight=7, max_depth=4, learning_rate=0.2, gamma=0.1, colsample_bytree=0.7, score=0.865, total=   0.7s\n",
      "[CV] n_estimators=1200, min_child_weight=7, max_depth=4, learning_rate=0.2, gamma=0.1, colsample_bytree=0.7 \n",
      "[CV]  n_estimators=1200, min_child_weight=7, max_depth=4, learning_rate=0.2, gamma=0.1, colsample_bytree=0.7, score=0.855, total=   0.8s\n",
      "[CV] n_estimators=1800, min_child_weight=1, max_depth=15, learning_rate=0.1, gamma=0.2, colsample_bytree=0.4 \n",
      "[CV]  n_estimators=1800, min_child_weight=1, max_depth=15, learning_rate=0.1, gamma=0.2, colsample_bytree=0.4, score=0.885, total=   4.1s\n",
      "[CV] n_estimators=1800, min_child_weight=1, max_depth=15, learning_rate=0.1, gamma=0.2, colsample_bytree=0.4 \n",
      "[CV]  n_estimators=1800, min_child_weight=1, max_depth=15, learning_rate=0.1, gamma=0.2, colsample_bytree=0.4, score=0.912, total=   4.2s\n",
      "[CV] n_estimators=1800, min_child_weight=1, max_depth=15, learning_rate=0.1, gamma=0.2, colsample_bytree=0.4 \n",
      "[CV]  n_estimators=1800, min_child_weight=1, max_depth=15, learning_rate=0.1, gamma=0.2, colsample_bytree=0.4, score=0.900, total=   4.1s\n",
      "[CV] n_estimators=1800, min_child_weight=1, max_depth=15, learning_rate=0.1, gamma=0.2, colsample_bytree=0.4 \n",
      "[CV]  n_estimators=1800, min_child_weight=1, max_depth=15, learning_rate=0.1, gamma=0.2, colsample_bytree=0.4, score=0.865, total=   4.1s\n",
      "[CV] n_estimators=1800, min_child_weight=1, max_depth=15, learning_rate=0.1, gamma=0.2, colsample_bytree=0.4 \n",
      "[CV]  n_estimators=1800, min_child_weight=1, max_depth=15, learning_rate=0.1, gamma=0.2, colsample_bytree=0.4, score=0.884, total=   4.1s\n",
      "[CV] n_estimators=1800, min_child_weight=1, max_depth=15, learning_rate=0.1, gamma=0.2, colsample_bytree=0.4 \n",
      "[CV]  n_estimators=1800, min_child_weight=1, max_depth=15, learning_rate=0.1, gamma=0.2, colsample_bytree=0.4, score=0.902, total=   4.1s\n",
      "[CV] n_estimators=1800, min_child_weight=1, max_depth=15, learning_rate=0.1, gamma=0.2, colsample_bytree=0.4 \n",
      "[CV]  n_estimators=1800, min_child_weight=1, max_depth=15, learning_rate=0.1, gamma=0.2, colsample_bytree=0.4, score=0.890, total=   4.1s\n",
      "[CV] n_estimators=1800, min_child_weight=1, max_depth=15, learning_rate=0.1, gamma=0.2, colsample_bytree=0.4 \n",
      "[CV]  n_estimators=1800, min_child_weight=1, max_depth=15, learning_rate=0.1, gamma=0.2, colsample_bytree=0.4, score=0.889, total=   4.1s\n",
      "[CV] n_estimators=1800, min_child_weight=1, max_depth=15, learning_rate=0.1, gamma=0.2, colsample_bytree=0.4 \n",
      "[CV]  n_estimators=1800, min_child_weight=1, max_depth=15, learning_rate=0.1, gamma=0.2, colsample_bytree=0.4, score=0.877, total=   4.2s\n",
      "[CV] n_estimators=1800, min_child_weight=1, max_depth=15, learning_rate=0.1, gamma=0.2, colsample_bytree=0.4 \n",
      "[CV]  n_estimators=1800, min_child_weight=1, max_depth=15, learning_rate=0.1, gamma=0.2, colsample_bytree=0.4, score=0.867, total=   4.2s\n",
      "[CV] n_estimators=800, min_child_weight=3, max_depth=4, learning_rate=0.25, gamma=0.2, colsample_bytree=0.5 \n",
      "[CV]  n_estimators=800, min_child_weight=3, max_depth=4, learning_rate=0.25, gamma=0.2, colsample_bytree=0.5, score=0.891, total=   0.4s\n",
      "[CV] n_estimators=800, min_child_weight=3, max_depth=4, learning_rate=0.25, gamma=0.2, colsample_bytree=0.5 \n",
      "[CV]  n_estimators=800, min_child_weight=3, max_depth=4, learning_rate=0.25, gamma=0.2, colsample_bytree=0.5, score=0.906, total=   0.5s\n",
      "[CV] n_estimators=800, min_child_weight=3, max_depth=4, learning_rate=0.25, gamma=0.2, colsample_bytree=0.5 \n",
      "[CV]  n_estimators=800, min_child_weight=3, max_depth=4, learning_rate=0.25, gamma=0.2, colsample_bytree=0.5, score=0.887, total=   0.5s\n",
      "[CV] n_estimators=800, min_child_weight=3, max_depth=4, learning_rate=0.25, gamma=0.2, colsample_bytree=0.5 \n",
      "[CV]  n_estimators=800, min_child_weight=3, max_depth=4, learning_rate=0.25, gamma=0.2, colsample_bytree=0.5, score=0.864, total=   0.4s\n",
      "[CV] n_estimators=800, min_child_weight=3, max_depth=4, learning_rate=0.25, gamma=0.2, colsample_bytree=0.5 \n",
      "[CV]  n_estimators=800, min_child_weight=3, max_depth=4, learning_rate=0.25, gamma=0.2, colsample_bytree=0.5, score=0.883, total=   0.5s\n",
      "[CV] n_estimators=800, min_child_weight=3, max_depth=4, learning_rate=0.25, gamma=0.2, colsample_bytree=0.5 \n",
      "[CV]  n_estimators=800, min_child_weight=3, max_depth=4, learning_rate=0.25, gamma=0.2, colsample_bytree=0.5, score=0.894, total=   0.5s\n",
      "[CV] n_estimators=800, min_child_weight=3, max_depth=4, learning_rate=0.25, gamma=0.2, colsample_bytree=0.5 \n",
      "[CV]  n_estimators=800, min_child_weight=3, max_depth=4, learning_rate=0.25, gamma=0.2, colsample_bytree=0.5, score=0.871, total=   0.5s\n",
      "[CV] n_estimators=800, min_child_weight=3, max_depth=4, learning_rate=0.25, gamma=0.2, colsample_bytree=0.5 \n",
      "[CV]  n_estimators=800, min_child_weight=3, max_depth=4, learning_rate=0.25, gamma=0.2, colsample_bytree=0.5, score=0.887, total=   0.5s\n",
      "[CV] n_estimators=800, min_child_weight=3, max_depth=4, learning_rate=0.25, gamma=0.2, colsample_bytree=0.5 \n",
      "[CV]  n_estimators=800, min_child_weight=3, max_depth=4, learning_rate=0.25, gamma=0.2, colsample_bytree=0.5, score=0.871, total=   0.4s\n",
      "[CV] n_estimators=800, min_child_weight=3, max_depth=4, learning_rate=0.25, gamma=0.2, colsample_bytree=0.5 \n",
      "[CV]  n_estimators=800, min_child_weight=3, max_depth=4, learning_rate=0.25, gamma=0.2, colsample_bytree=0.5, score=0.854, total=   0.4s\n",
      "[CV] n_estimators=400, min_child_weight=7, max_depth=5, learning_rate=0.25, gamma=0.4, colsample_bytree=0.3 \n",
      "[CV]  n_estimators=400, min_child_weight=7, max_depth=5, learning_rate=0.25, gamma=0.4, colsample_bytree=0.3, score=0.875, total=   0.2s\n",
      "[CV] n_estimators=400, min_child_weight=7, max_depth=5, learning_rate=0.25, gamma=0.4, colsample_bytree=0.3 \n",
      "[CV]  n_estimators=400, min_child_weight=7, max_depth=5, learning_rate=0.25, gamma=0.4, colsample_bytree=0.3, score=0.884, total=   0.3s\n",
      "[CV] n_estimators=400, min_child_weight=7, max_depth=5, learning_rate=0.25, gamma=0.4, colsample_bytree=0.3 \n",
      "[CV]  n_estimators=400, min_child_weight=7, max_depth=5, learning_rate=0.25, gamma=0.4, colsample_bytree=0.3, score=0.889, total=   0.2s\n",
      "[CV] n_estimators=400, min_child_weight=7, max_depth=5, learning_rate=0.25, gamma=0.4, colsample_bytree=0.3 \n",
      "[CV]  n_estimators=400, min_child_weight=7, max_depth=5, learning_rate=0.25, gamma=0.4, colsample_bytree=0.3, score=0.846, total=   0.3s\n",
      "[CV] n_estimators=400, min_child_weight=7, max_depth=5, learning_rate=0.25, gamma=0.4, colsample_bytree=0.3 \n",
      "[CV]  n_estimators=400, min_child_weight=7, max_depth=5, learning_rate=0.25, gamma=0.4, colsample_bytree=0.3, score=0.880, total=   0.3s\n",
      "[CV] n_estimators=400, min_child_weight=7, max_depth=5, learning_rate=0.25, gamma=0.4, colsample_bytree=0.3 \n",
      "[CV]  n_estimators=400, min_child_weight=7, max_depth=5, learning_rate=0.25, gamma=0.4, colsample_bytree=0.3, score=0.874, total=   0.3s\n",
      "[CV] n_estimators=400, min_child_weight=7, max_depth=5, learning_rate=0.25, gamma=0.4, colsample_bytree=0.3 \n",
      "[CV]  n_estimators=400, min_child_weight=7, max_depth=5, learning_rate=0.25, gamma=0.4, colsample_bytree=0.3, score=0.859, total=   0.3s\n",
      "[CV] n_estimators=400, min_child_weight=7, max_depth=5, learning_rate=0.25, gamma=0.4, colsample_bytree=0.3 \n",
      "[CV]  n_estimators=400, min_child_weight=7, max_depth=5, learning_rate=0.25, gamma=0.4, colsample_bytree=0.3, score=0.868, total=   0.2s\n",
      "[CV] n_estimators=400, min_child_weight=7, max_depth=5, learning_rate=0.25, gamma=0.4, colsample_bytree=0.3 \n",
      "[CV]  n_estimators=400, min_child_weight=7, max_depth=5, learning_rate=0.25, gamma=0.4, colsample_bytree=0.3, score=0.821, total=   0.3s\n",
      "[CV] n_estimators=400, min_child_weight=7, max_depth=5, learning_rate=0.25, gamma=0.4, colsample_bytree=0.3 \n",
      "[CV]  n_estimators=400, min_child_weight=7, max_depth=5, learning_rate=0.25, gamma=0.4, colsample_bytree=0.3, score=0.848, total=   0.3s\n",
      "[CV] n_estimators=1400, min_child_weight=7, max_depth=5, learning_rate=0.1, gamma=0.2, colsample_bytree=0.3 \n",
      "[CV]  n_estimators=1400, min_child_weight=7, max_depth=5, learning_rate=0.1, gamma=0.2, colsample_bytree=0.3, score=0.882, total=   0.8s\n",
      "[CV] n_estimators=1400, min_child_weight=7, max_depth=5, learning_rate=0.1, gamma=0.2, colsample_bytree=0.3 \n",
      "[CV]  n_estimators=1400, min_child_weight=7, max_depth=5, learning_rate=0.1, gamma=0.2, colsample_bytree=0.3, score=0.913, total=   0.8s\n",
      "[CV] n_estimators=1400, min_child_weight=7, max_depth=5, learning_rate=0.1, gamma=0.2, colsample_bytree=0.3 \n",
      "[CV]  n_estimators=1400, min_child_weight=7, max_depth=5, learning_rate=0.1, gamma=0.2, colsample_bytree=0.3, score=0.893, total=   0.8s\n",
      "[CV] n_estimators=1400, min_child_weight=7, max_depth=5, learning_rate=0.1, gamma=0.2, colsample_bytree=0.3 \n",
      "[CV]  n_estimators=1400, min_child_weight=7, max_depth=5, learning_rate=0.1, gamma=0.2, colsample_bytree=0.3, score=0.864, total=   0.8s\n",
      "[CV] n_estimators=1400, min_child_weight=7, max_depth=5, learning_rate=0.1, gamma=0.2, colsample_bytree=0.3 \n",
      "[CV]  n_estimators=1400, min_child_weight=7, max_depth=5, learning_rate=0.1, gamma=0.2, colsample_bytree=0.3, score=0.878, total=   0.8s\n",
      "[CV] n_estimators=1400, min_child_weight=7, max_depth=5, learning_rate=0.1, gamma=0.2, colsample_bytree=0.3 \n",
      "[CV]  n_estimators=1400, min_child_weight=7, max_depth=5, learning_rate=0.1, gamma=0.2, colsample_bytree=0.3, score=0.895, total=   0.8s\n",
      "[CV] n_estimators=1400, min_child_weight=7, max_depth=5, learning_rate=0.1, gamma=0.2, colsample_bytree=0.3 \n",
      "[CV]  n_estimators=1400, min_child_weight=7, max_depth=5, learning_rate=0.1, gamma=0.2, colsample_bytree=0.3, score=0.892, total=   0.8s\n",
      "[CV] n_estimators=1400, min_child_weight=7, max_depth=5, learning_rate=0.1, gamma=0.2, colsample_bytree=0.3 \n",
      "[CV]  n_estimators=1400, min_child_weight=7, max_depth=5, learning_rate=0.1, gamma=0.2, colsample_bytree=0.3, score=0.891, total=   0.8s\n",
      "[CV] n_estimators=1400, min_child_weight=7, max_depth=5, learning_rate=0.1, gamma=0.2, colsample_bytree=0.3 \n",
      "[CV]  n_estimators=1400, min_child_weight=7, max_depth=5, learning_rate=0.1, gamma=0.2, colsample_bytree=0.3, score=0.862, total=   0.8s\n",
      "[CV] n_estimators=1400, min_child_weight=7, max_depth=5, learning_rate=0.1, gamma=0.2, colsample_bytree=0.3 \n",
      "[CV]  n_estimators=1400, min_child_weight=7, max_depth=5, learning_rate=0.1, gamma=0.2, colsample_bytree=0.3, score=0.869, total=   0.8s\n",
      "[CV] n_estimators=1000, min_child_weight=5, max_depth=8, learning_rate=0.3, gamma=0.3, colsample_bytree=0.3 \n",
      "[CV]  n_estimators=1000, min_child_weight=5, max_depth=8, learning_rate=0.3, gamma=0.3, colsample_bytree=0.3, score=0.882, total=   0.9s\n",
      "[CV] n_estimators=1000, min_child_weight=5, max_depth=8, learning_rate=0.3, gamma=0.3, colsample_bytree=0.3 \n",
      "[CV]  n_estimators=1000, min_child_weight=5, max_depth=8, learning_rate=0.3, gamma=0.3, colsample_bytree=0.3, score=0.879, total=   0.9s\n",
      "[CV] n_estimators=1000, min_child_weight=5, max_depth=8, learning_rate=0.3, gamma=0.3, colsample_bytree=0.3 \n",
      "[CV]  n_estimators=1000, min_child_weight=5, max_depth=8, learning_rate=0.3, gamma=0.3, colsample_bytree=0.3, score=0.909, total=   0.9s\n",
      "[CV] n_estimators=1000, min_child_weight=5, max_depth=8, learning_rate=0.3, gamma=0.3, colsample_bytree=0.3 \n",
      "[CV]  n_estimators=1000, min_child_weight=5, max_depth=8, learning_rate=0.3, gamma=0.3, colsample_bytree=0.3, score=0.842, total=   0.9s\n",
      "[CV] n_estimators=1000, min_child_weight=5, max_depth=8, learning_rate=0.3, gamma=0.3, colsample_bytree=0.3 \n",
      "[CV]  n_estimators=1000, min_child_weight=5, max_depth=8, learning_rate=0.3, gamma=0.3, colsample_bytree=0.3, score=0.891, total=   0.9s\n",
      "[CV] n_estimators=1000, min_child_weight=5, max_depth=8, learning_rate=0.3, gamma=0.3, colsample_bytree=0.3 \n",
      "[CV]  n_estimators=1000, min_child_weight=5, max_depth=8, learning_rate=0.3, gamma=0.3, colsample_bytree=0.3, score=0.890, total=   0.9s\n",
      "[CV] n_estimators=1000, min_child_weight=5, max_depth=8, learning_rate=0.3, gamma=0.3, colsample_bytree=0.3 \n",
      "[CV]  n_estimators=1000, min_child_weight=5, max_depth=8, learning_rate=0.3, gamma=0.3, colsample_bytree=0.3, score=0.877, total=   0.9s\n",
      "[CV] n_estimators=1000, min_child_weight=5, max_depth=8, learning_rate=0.3, gamma=0.3, colsample_bytree=0.3 \n",
      "[CV]  n_estimators=1000, min_child_weight=5, max_depth=8, learning_rate=0.3, gamma=0.3, colsample_bytree=0.3, score=0.873, total=   0.9s\n",
      "[CV] n_estimators=1000, min_child_weight=5, max_depth=8, learning_rate=0.3, gamma=0.3, colsample_bytree=0.3 \n",
      "[CV]  n_estimators=1000, min_child_weight=5, max_depth=8, learning_rate=0.3, gamma=0.3, colsample_bytree=0.3, score=0.860, total=   0.9s\n",
      "[CV] n_estimators=1000, min_child_weight=5, max_depth=8, learning_rate=0.3, gamma=0.3, colsample_bytree=0.3 \n",
      "[CV]  n_estimators=1000, min_child_weight=5, max_depth=8, learning_rate=0.3, gamma=0.3, colsample_bytree=0.3, score=0.847, total=   0.9s\n",
      "[CV] n_estimators=1800, min_child_weight=3, max_depth=6, learning_rate=0.15, gamma=0.1, colsample_bytree=0.7 \n",
      "[CV]  n_estimators=1800, min_child_weight=3, max_depth=6, learning_rate=0.15, gamma=0.1, colsample_bytree=0.7, score=0.875, total=   1.5s\n",
      "[CV] n_estimators=1800, min_child_weight=3, max_depth=6, learning_rate=0.15, gamma=0.1, colsample_bytree=0.7 \n",
      "[CV]  n_estimators=1800, min_child_weight=3, max_depth=6, learning_rate=0.15, gamma=0.1, colsample_bytree=0.7, score=0.907, total=   1.6s\n",
      "[CV] n_estimators=1800, min_child_weight=3, max_depth=6, learning_rate=0.15, gamma=0.1, colsample_bytree=0.7 \n",
      "[CV]  n_estimators=1800, min_child_weight=3, max_depth=6, learning_rate=0.15, gamma=0.1, colsample_bytree=0.7, score=0.901, total=   1.5s\n",
      "[CV] n_estimators=1800, min_child_weight=3, max_depth=6, learning_rate=0.15, gamma=0.1, colsample_bytree=0.7 \n",
      "[CV]  n_estimators=1800, min_child_weight=3, max_depth=6, learning_rate=0.15, gamma=0.1, colsample_bytree=0.7, score=0.892, total=   1.4s\n",
      "[CV] n_estimators=1800, min_child_weight=3, max_depth=6, learning_rate=0.15, gamma=0.1, colsample_bytree=0.7 \n",
      "[CV]  n_estimators=1800, min_child_weight=3, max_depth=6, learning_rate=0.15, gamma=0.1, colsample_bytree=0.7, score=0.878, total=   1.5s\n",
      "[CV] n_estimators=1800, min_child_weight=3, max_depth=6, learning_rate=0.15, gamma=0.1, colsample_bytree=0.7 \n",
      "[CV]  n_estimators=1800, min_child_weight=3, max_depth=6, learning_rate=0.15, gamma=0.1, colsample_bytree=0.7, score=0.901, total=   1.6s\n",
      "[CV] n_estimators=1800, min_child_weight=3, max_depth=6, learning_rate=0.15, gamma=0.1, colsample_bytree=0.7 \n",
      "[CV]  n_estimators=1800, min_child_weight=3, max_depth=6, learning_rate=0.15, gamma=0.1, colsample_bytree=0.7, score=0.900, total=   1.5s\n",
      "[CV] n_estimators=1800, min_child_weight=3, max_depth=6, learning_rate=0.15, gamma=0.1, colsample_bytree=0.7 \n",
      "[CV]  n_estimators=1800, min_child_weight=3, max_depth=6, learning_rate=0.15, gamma=0.1, colsample_bytree=0.7, score=0.902, total=   1.4s\n",
      "[CV] n_estimators=1800, min_child_weight=3, max_depth=6, learning_rate=0.15, gamma=0.1, colsample_bytree=0.7 \n",
      "[CV]  n_estimators=1800, min_child_weight=3, max_depth=6, learning_rate=0.15, gamma=0.1, colsample_bytree=0.7, score=0.890, total=   1.6s\n",
      "[CV] n_estimators=1800, min_child_weight=3, max_depth=6, learning_rate=0.15, gamma=0.1, colsample_bytree=0.7 \n",
      "[CV]  n_estimators=1800, min_child_weight=3, max_depth=6, learning_rate=0.15, gamma=0.1, colsample_bytree=0.7, score=0.862, total=   1.4s\n",
      "[CV] n_estimators=200, min_child_weight=1, max_depth=3, learning_rate=0.05, gamma=0.2, colsample_bytree=0.4 \n",
      "[CV]  n_estimators=200, min_child_weight=1, max_depth=3, learning_rate=0.05, gamma=0.2, colsample_bytree=0.4, score=0.892, total=   0.1s\n",
      "[CV] n_estimators=200, min_child_weight=1, max_depth=3, learning_rate=0.05, gamma=0.2, colsample_bytree=0.4 \n",
      "[CV]  n_estimators=200, min_child_weight=1, max_depth=3, learning_rate=0.05, gamma=0.2, colsample_bytree=0.4, score=0.909, total=   0.1s\n",
      "[CV] n_estimators=200, min_child_weight=1, max_depth=3, learning_rate=0.05, gamma=0.2, colsample_bytree=0.4 \n",
      "[CV]  n_estimators=200, min_child_weight=1, max_depth=3, learning_rate=0.05, gamma=0.2, colsample_bytree=0.4, score=0.894, total=   0.1s\n",
      "[CV] n_estimators=200, min_child_weight=1, max_depth=3, learning_rate=0.05, gamma=0.2, colsample_bytree=0.4 \n",
      "[CV]  n_estimators=200, min_child_weight=1, max_depth=3, learning_rate=0.05, gamma=0.2, colsample_bytree=0.4, score=0.861, total=   0.1s\n",
      "[CV] n_estimators=200, min_child_weight=1, max_depth=3, learning_rate=0.05, gamma=0.2, colsample_bytree=0.4 \n",
      "[CV]  n_estimators=200, min_child_weight=1, max_depth=3, learning_rate=0.05, gamma=0.2, colsample_bytree=0.4, score=0.881, total=   0.1s\n",
      "[CV] n_estimators=200, min_child_weight=1, max_depth=3, learning_rate=0.05, gamma=0.2, colsample_bytree=0.4 \n",
      "[CV]  n_estimators=200, min_child_weight=1, max_depth=3, learning_rate=0.05, gamma=0.2, colsample_bytree=0.4, score=0.891, total=   0.1s\n",
      "[CV] n_estimators=200, min_child_weight=1, max_depth=3, learning_rate=0.05, gamma=0.2, colsample_bytree=0.4 \n",
      "[CV]  n_estimators=200, min_child_weight=1, max_depth=3, learning_rate=0.05, gamma=0.2, colsample_bytree=0.4, score=0.882, total=   0.1s\n",
      "[CV] n_estimators=200, min_child_weight=1, max_depth=3, learning_rate=0.05, gamma=0.2, colsample_bytree=0.4 \n",
      "[CV]  n_estimators=200, min_child_weight=1, max_depth=3, learning_rate=0.05, gamma=0.2, colsample_bytree=0.4, score=0.890, total=   0.1s\n",
      "[CV] n_estimators=200, min_child_weight=1, max_depth=3, learning_rate=0.05, gamma=0.2, colsample_bytree=0.4 \n",
      "[CV]  n_estimators=200, min_child_weight=1, max_depth=3, learning_rate=0.05, gamma=0.2, colsample_bytree=0.4, score=0.870, total=   0.1s\n",
      "[CV] n_estimators=200, min_child_weight=1, max_depth=3, learning_rate=0.05, gamma=0.2, colsample_bytree=0.4 \n",
      "[CV]  n_estimators=200, min_child_weight=1, max_depth=3, learning_rate=0.05, gamma=0.2, colsample_bytree=0.4, score=0.857, total=   0.1s\n",
      "[CV] n_estimators=1200, min_child_weight=3, max_depth=3, learning_rate=0.05, gamma=0.3, colsample_bytree=0.3 \n",
      "[CV]  n_estimators=1200, min_child_weight=3, max_depth=3, learning_rate=0.05, gamma=0.3, colsample_bytree=0.3, score=0.885, total=   0.5s\n",
      "[CV] n_estimators=1200, min_child_weight=3, max_depth=3, learning_rate=0.05, gamma=0.3, colsample_bytree=0.3 \n",
      "[CV]  n_estimators=1200, min_child_weight=3, max_depth=3, learning_rate=0.05, gamma=0.3, colsample_bytree=0.3, score=0.904, total=   0.5s\n",
      "[CV] n_estimators=1200, min_child_weight=3, max_depth=3, learning_rate=0.05, gamma=0.3, colsample_bytree=0.3 \n",
      "[CV]  n_estimators=1200, min_child_weight=3, max_depth=3, learning_rate=0.05, gamma=0.3, colsample_bytree=0.3, score=0.890, total=   0.5s\n",
      "[CV] n_estimators=1200, min_child_weight=3, max_depth=3, learning_rate=0.05, gamma=0.3, colsample_bytree=0.3 \n",
      "[CV]  n_estimators=1200, min_child_weight=3, max_depth=3, learning_rate=0.05, gamma=0.3, colsample_bytree=0.3, score=0.869, total=   0.5s\n",
      "[CV] n_estimators=1200, min_child_weight=3, max_depth=3, learning_rate=0.05, gamma=0.3, colsample_bytree=0.3 \n",
      "[CV]  n_estimators=1200, min_child_weight=3, max_depth=3, learning_rate=0.05, gamma=0.3, colsample_bytree=0.3, score=0.873, total=   0.5s\n",
      "[CV] n_estimators=1200, min_child_weight=3, max_depth=3, learning_rate=0.05, gamma=0.3, colsample_bytree=0.3 \n",
      "[CV]  n_estimators=1200, min_child_weight=3, max_depth=3, learning_rate=0.05, gamma=0.3, colsample_bytree=0.3, score=0.888, total=   0.5s\n",
      "[CV] n_estimators=1200, min_child_weight=3, max_depth=3, learning_rate=0.05, gamma=0.3, colsample_bytree=0.3 \n",
      "[CV]  n_estimators=1200, min_child_weight=3, max_depth=3, learning_rate=0.05, gamma=0.3, colsample_bytree=0.3, score=0.876, total=   0.5s\n",
      "[CV] n_estimators=1200, min_child_weight=3, max_depth=3, learning_rate=0.05, gamma=0.3, colsample_bytree=0.3 \n",
      "[CV]  n_estimators=1200, min_child_weight=3, max_depth=3, learning_rate=0.05, gamma=0.3, colsample_bytree=0.3, score=0.888, total=   0.5s\n",
      "[CV] n_estimators=1200, min_child_weight=3, max_depth=3, learning_rate=0.05, gamma=0.3, colsample_bytree=0.3 \n",
      "[CV]  n_estimators=1200, min_child_weight=3, max_depth=3, learning_rate=0.05, gamma=0.3, colsample_bytree=0.3, score=0.860, total=   0.5s\n",
      "[CV] n_estimators=1200, min_child_weight=3, max_depth=3, learning_rate=0.05, gamma=0.3, colsample_bytree=0.3 \n",
      "[CV]  n_estimators=1200, min_child_weight=3, max_depth=3, learning_rate=0.05, gamma=0.3, colsample_bytree=0.3, score=0.850, total=   0.5s\n",
      "[CV] n_estimators=800, min_child_weight=1, max_depth=15, learning_rate=0.15, gamma=0.4, colsample_bytree=0.4 \n",
      "[CV]  n_estimators=800, min_child_weight=1, max_depth=15, learning_rate=0.15, gamma=0.4, colsample_bytree=0.4, score=0.876, total=   1.8s\n",
      "[CV] n_estimators=800, min_child_weight=1, max_depth=15, learning_rate=0.15, gamma=0.4, colsample_bytree=0.4 \n",
      "[CV]  n_estimators=800, min_child_weight=1, max_depth=15, learning_rate=0.15, gamma=0.4, colsample_bytree=0.4, score=0.902, total=   1.9s\n",
      "[CV] n_estimators=800, min_child_weight=1, max_depth=15, learning_rate=0.15, gamma=0.4, colsample_bytree=0.4 \n",
      "[CV]  n_estimators=800, min_child_weight=1, max_depth=15, learning_rate=0.15, gamma=0.4, colsample_bytree=0.4, score=0.888, total=   1.8s\n",
      "[CV] n_estimators=800, min_child_weight=1, max_depth=15, learning_rate=0.15, gamma=0.4, colsample_bytree=0.4 \n",
      "[CV]  n_estimators=800, min_child_weight=1, max_depth=15, learning_rate=0.15, gamma=0.4, colsample_bytree=0.4, score=0.854, total=   1.8s\n",
      "[CV] n_estimators=800, min_child_weight=1, max_depth=15, learning_rate=0.15, gamma=0.4, colsample_bytree=0.4 \n",
      "[CV]  n_estimators=800, min_child_weight=1, max_depth=15, learning_rate=0.15, gamma=0.4, colsample_bytree=0.4, score=0.873, total=   1.9s\n",
      "[CV] n_estimators=800, min_child_weight=1, max_depth=15, learning_rate=0.15, gamma=0.4, colsample_bytree=0.4 \n",
      "[CV]  n_estimators=800, min_child_weight=1, max_depth=15, learning_rate=0.15, gamma=0.4, colsample_bytree=0.4, score=0.889, total=   1.9s\n",
      "[CV] n_estimators=800, min_child_weight=1, max_depth=15, learning_rate=0.15, gamma=0.4, colsample_bytree=0.4 \n",
      "[CV]  n_estimators=800, min_child_weight=1, max_depth=15, learning_rate=0.15, gamma=0.4, colsample_bytree=0.4, score=0.866, total=   1.9s\n",
      "[CV] n_estimators=800, min_child_weight=1, max_depth=15, learning_rate=0.15, gamma=0.4, colsample_bytree=0.4 \n",
      "[CV]  n_estimators=800, min_child_weight=1, max_depth=15, learning_rate=0.15, gamma=0.4, colsample_bytree=0.4, score=0.872, total=   2.0s\n",
      "[CV] n_estimators=800, min_child_weight=1, max_depth=15, learning_rate=0.15, gamma=0.4, colsample_bytree=0.4 \n",
      "[CV]  n_estimators=800, min_child_weight=1, max_depth=15, learning_rate=0.15, gamma=0.4, colsample_bytree=0.4, score=0.862, total=   1.9s\n",
      "[CV] n_estimators=800, min_child_weight=1, max_depth=15, learning_rate=0.15, gamma=0.4, colsample_bytree=0.4 \n",
      "[CV]  n_estimators=800, min_child_weight=1, max_depth=15, learning_rate=0.15, gamma=0.4, colsample_bytree=0.4, score=0.844, total=   1.9s\n",
      "[CV] n_estimators=600, min_child_weight=7, max_depth=6, learning_rate=0.2, gamma=0.4, colsample_bytree=0.5 \n",
      "[CV]  n_estimators=600, min_child_weight=7, max_depth=6, learning_rate=0.2, gamma=0.4, colsample_bytree=0.5, score=0.875, total=   0.5s\n",
      "[CV] n_estimators=600, min_child_weight=7, max_depth=6, learning_rate=0.2, gamma=0.4, colsample_bytree=0.5 \n",
      "[CV]  n_estimators=600, min_child_weight=7, max_depth=6, learning_rate=0.2, gamma=0.4, colsample_bytree=0.5, score=0.889, total=   0.5s\n",
      "[CV] n_estimators=600, min_child_weight=7, max_depth=6, learning_rate=0.2, gamma=0.4, colsample_bytree=0.5 \n",
      "[CV]  n_estimators=600, min_child_weight=7, max_depth=6, learning_rate=0.2, gamma=0.4, colsample_bytree=0.5, score=0.887, total=   0.5s\n",
      "[CV] n_estimators=600, min_child_weight=7, max_depth=6, learning_rate=0.2, gamma=0.4, colsample_bytree=0.5 \n",
      "[CV]  n_estimators=600, min_child_weight=7, max_depth=6, learning_rate=0.2, gamma=0.4, colsample_bytree=0.5, score=0.838, total=   0.5s\n",
      "[CV] n_estimators=600, min_child_weight=7, max_depth=6, learning_rate=0.2, gamma=0.4, colsample_bytree=0.5 \n",
      "[CV]  n_estimators=600, min_child_weight=7, max_depth=6, learning_rate=0.2, gamma=0.4, colsample_bytree=0.5, score=0.853, total=   0.5s\n",
      "[CV] n_estimators=600, min_child_weight=7, max_depth=6, learning_rate=0.2, gamma=0.4, colsample_bytree=0.5 \n",
      "[CV]  n_estimators=600, min_child_weight=7, max_depth=6, learning_rate=0.2, gamma=0.4, colsample_bytree=0.5, score=0.863, total=   0.5s\n",
      "[CV] n_estimators=600, min_child_weight=7, max_depth=6, learning_rate=0.2, gamma=0.4, colsample_bytree=0.5 \n",
      "[CV]  n_estimators=600, min_child_weight=7, max_depth=6, learning_rate=0.2, gamma=0.4, colsample_bytree=0.5, score=0.856, total=   0.5s\n",
      "[CV] n_estimators=600, min_child_weight=7, max_depth=6, learning_rate=0.2, gamma=0.4, colsample_bytree=0.5 \n",
      "[CV]  n_estimators=600, min_child_weight=7, max_depth=6, learning_rate=0.2, gamma=0.4, colsample_bytree=0.5, score=0.887, total=   0.5s\n",
      "[CV] n_estimators=600, min_child_weight=7, max_depth=6, learning_rate=0.2, gamma=0.4, colsample_bytree=0.5 \n",
      "[CV]  n_estimators=600, min_child_weight=7, max_depth=6, learning_rate=0.2, gamma=0.4, colsample_bytree=0.5, score=0.863, total=   0.5s\n",
      "[CV] n_estimators=600, min_child_weight=7, max_depth=6, learning_rate=0.2, gamma=0.4, colsample_bytree=0.5 \n",
      "[CV]  n_estimators=600, min_child_weight=7, max_depth=6, learning_rate=0.2, gamma=0.4, colsample_bytree=0.5, score=0.850, total=   0.5s\n",
      "[CV] n_estimators=2000, min_child_weight=1, max_depth=15, learning_rate=0.2, gamma=0.3, colsample_bytree=0.4 \n",
      "[CV]  n_estimators=2000, min_child_weight=1, max_depth=15, learning_rate=0.2, gamma=0.3, colsample_bytree=0.4, score=0.873, total=   4.6s\n",
      "[CV] n_estimators=2000, min_child_weight=1, max_depth=15, learning_rate=0.2, gamma=0.3, colsample_bytree=0.4 \n",
      "[CV]  n_estimators=2000, min_child_weight=1, max_depth=15, learning_rate=0.2, gamma=0.3, colsample_bytree=0.4, score=0.895, total=   4.6s\n",
      "[CV] n_estimators=2000, min_child_weight=1, max_depth=15, learning_rate=0.2, gamma=0.3, colsample_bytree=0.4 \n",
      "[CV]  n_estimators=2000, min_child_weight=1, max_depth=15, learning_rate=0.2, gamma=0.3, colsample_bytree=0.4, score=0.892, total=   4.8s\n",
      "[CV] n_estimators=2000, min_child_weight=1, max_depth=15, learning_rate=0.2, gamma=0.3, colsample_bytree=0.4 \n",
      "[CV]  n_estimators=2000, min_child_weight=1, max_depth=15, learning_rate=0.2, gamma=0.3, colsample_bytree=0.4, score=0.846, total=   4.6s\n",
      "[CV] n_estimators=2000, min_child_weight=1, max_depth=15, learning_rate=0.2, gamma=0.3, colsample_bytree=0.4 \n",
      "[CV]  n_estimators=2000, min_child_weight=1, max_depth=15, learning_rate=0.2, gamma=0.3, colsample_bytree=0.4, score=0.880, total=   4.6s\n",
      "[CV] n_estimators=2000, min_child_weight=1, max_depth=15, learning_rate=0.2, gamma=0.3, colsample_bytree=0.4 \n",
      "[CV]  n_estimators=2000, min_child_weight=1, max_depth=15, learning_rate=0.2, gamma=0.3, colsample_bytree=0.4, score=0.886, total=   4.7s\n",
      "[CV] n_estimators=2000, min_child_weight=1, max_depth=15, learning_rate=0.2, gamma=0.3, colsample_bytree=0.4 \n",
      "[CV]  n_estimators=2000, min_child_weight=1, max_depth=15, learning_rate=0.2, gamma=0.3, colsample_bytree=0.4, score=0.887, total=   4.7s\n",
      "[CV] n_estimators=2000, min_child_weight=1, max_depth=15, learning_rate=0.2, gamma=0.3, colsample_bytree=0.4 \n",
      "[CV]  n_estimators=2000, min_child_weight=1, max_depth=15, learning_rate=0.2, gamma=0.3, colsample_bytree=0.4, score=0.877, total=   4.6s\n",
      "[CV] n_estimators=2000, min_child_weight=1, max_depth=15, learning_rate=0.2, gamma=0.3, colsample_bytree=0.4 \n",
      "[CV]  n_estimators=2000, min_child_weight=1, max_depth=15, learning_rate=0.2, gamma=0.3, colsample_bytree=0.4, score=0.871, total=   4.7s\n",
      "[CV] n_estimators=2000, min_child_weight=1, max_depth=15, learning_rate=0.2, gamma=0.3, colsample_bytree=0.4 \n",
      "[CV]  n_estimators=2000, min_child_weight=1, max_depth=15, learning_rate=0.2, gamma=0.3, colsample_bytree=0.4, score=0.843, total=   4.6s\n",
      "[CV] n_estimators=1200, min_child_weight=5, max_depth=5, learning_rate=0.15, gamma=0.2, colsample_bytree=0.3 \n",
      "[CV]  n_estimators=1200, min_child_weight=5, max_depth=5, learning_rate=0.15, gamma=0.2, colsample_bytree=0.3, score=0.885, total=   0.7s\n",
      "[CV] n_estimators=1200, min_child_weight=5, max_depth=5, learning_rate=0.15, gamma=0.2, colsample_bytree=0.3 \n",
      "[CV]  n_estimators=1200, min_child_weight=5, max_depth=5, learning_rate=0.15, gamma=0.2, colsample_bytree=0.3, score=0.917, total=   0.7s\n",
      "[CV] n_estimators=1200, min_child_weight=5, max_depth=5, learning_rate=0.15, gamma=0.2, colsample_bytree=0.3 \n",
      "[CV]  n_estimators=1200, min_child_weight=5, max_depth=5, learning_rate=0.15, gamma=0.2, colsample_bytree=0.3, score=0.899, total=   0.7s\n",
      "[CV] n_estimators=1200, min_child_weight=5, max_depth=5, learning_rate=0.15, gamma=0.2, colsample_bytree=0.3 \n",
      "[CV]  n_estimators=1200, min_child_weight=5, max_depth=5, learning_rate=0.15, gamma=0.2, colsample_bytree=0.3, score=0.866, total=   0.7s\n",
      "[CV] n_estimators=1200, min_child_weight=5, max_depth=5, learning_rate=0.15, gamma=0.2, colsample_bytree=0.3 \n",
      "[CV]  n_estimators=1200, min_child_weight=5, max_depth=5, learning_rate=0.15, gamma=0.2, colsample_bytree=0.3, score=0.887, total=   0.7s\n",
      "[CV] n_estimators=1200, min_child_weight=5, max_depth=5, learning_rate=0.15, gamma=0.2, colsample_bytree=0.3 \n",
      "[CV]  n_estimators=1200, min_child_weight=5, max_depth=5, learning_rate=0.15, gamma=0.2, colsample_bytree=0.3, score=0.895, total=   0.7s\n",
      "[CV] n_estimators=1200, min_child_weight=5, max_depth=5, learning_rate=0.15, gamma=0.2, colsample_bytree=0.3 \n",
      "[CV]  n_estimators=1200, min_child_weight=5, max_depth=5, learning_rate=0.15, gamma=0.2, colsample_bytree=0.3, score=0.892, total=   0.7s\n",
      "[CV] n_estimators=1200, min_child_weight=5, max_depth=5, learning_rate=0.15, gamma=0.2, colsample_bytree=0.3 \n",
      "[CV]  n_estimators=1200, min_child_weight=5, max_depth=5, learning_rate=0.15, gamma=0.2, colsample_bytree=0.3, score=0.879, total=   0.7s\n",
      "[CV] n_estimators=1200, min_child_weight=5, max_depth=5, learning_rate=0.15, gamma=0.2, colsample_bytree=0.3 \n",
      "[CV]  n_estimators=1200, min_child_weight=5, max_depth=5, learning_rate=0.15, gamma=0.2, colsample_bytree=0.3, score=0.861, total=   0.7s\n",
      "[CV] n_estimators=1200, min_child_weight=5, max_depth=5, learning_rate=0.15, gamma=0.2, colsample_bytree=0.3 \n",
      "[CV]  n_estimators=1200, min_child_weight=5, max_depth=5, learning_rate=0.15, gamma=0.2, colsample_bytree=0.3, score=0.855, total=   0.9s\n",
      "[CV] n_estimators=1600, min_child_weight=7, max_depth=3, learning_rate=0.2, gamma=0.1, colsample_bytree=0.3 \n",
      "[CV]  n_estimators=1600, min_child_weight=7, max_depth=3, learning_rate=0.2, gamma=0.1, colsample_bytree=0.3, score=0.879, total=   1.0s\n",
      "[CV] n_estimators=1600, min_child_weight=7, max_depth=3, learning_rate=0.2, gamma=0.1, colsample_bytree=0.3 \n",
      "[CV]  n_estimators=1600, min_child_weight=7, max_depth=3, learning_rate=0.2, gamma=0.1, colsample_bytree=0.3, score=0.915, total=   0.8s\n",
      "[CV] n_estimators=1600, min_child_weight=7, max_depth=3, learning_rate=0.2, gamma=0.1, colsample_bytree=0.3 \n",
      "[CV]  n_estimators=1600, min_child_weight=7, max_depth=3, learning_rate=0.2, gamma=0.1, colsample_bytree=0.3, score=0.902, total=   0.8s\n",
      "[CV] n_estimators=1600, min_child_weight=7, max_depth=3, learning_rate=0.2, gamma=0.1, colsample_bytree=0.3 \n",
      "[CV]  n_estimators=1600, min_child_weight=7, max_depth=3, learning_rate=0.2, gamma=0.1, colsample_bytree=0.3, score=0.870, total=   0.8s\n",
      "[CV] n_estimators=1600, min_child_weight=7, max_depth=3, learning_rate=0.2, gamma=0.1, colsample_bytree=0.3 \n",
      "[CV]  n_estimators=1600, min_child_weight=7, max_depth=3, learning_rate=0.2, gamma=0.1, colsample_bytree=0.3, score=0.890, total=   0.8s\n",
      "[CV] n_estimators=1600, min_child_weight=7, max_depth=3, learning_rate=0.2, gamma=0.1, colsample_bytree=0.3 \n",
      "[CV]  n_estimators=1600, min_child_weight=7, max_depth=3, learning_rate=0.2, gamma=0.1, colsample_bytree=0.3, score=0.898, total=   0.6s\n",
      "[CV] n_estimators=1600, min_child_weight=7, max_depth=3, learning_rate=0.2, gamma=0.1, colsample_bytree=0.3 \n",
      "[CV]  n_estimators=1600, min_child_weight=7, max_depth=3, learning_rate=0.2, gamma=0.1, colsample_bytree=0.3, score=0.893, total=   0.6s\n",
      "[CV] n_estimators=1600, min_child_weight=7, max_depth=3, learning_rate=0.2, gamma=0.1, colsample_bytree=0.3 \n",
      "[CV]  n_estimators=1600, min_child_weight=7, max_depth=3, learning_rate=0.2, gamma=0.1, colsample_bytree=0.3, score=0.890, total=   0.6s\n",
      "[CV] n_estimators=1600, min_child_weight=7, max_depth=3, learning_rate=0.2, gamma=0.1, colsample_bytree=0.3 \n",
      "[CV]  n_estimators=1600, min_child_weight=7, max_depth=3, learning_rate=0.2, gamma=0.1, colsample_bytree=0.3, score=0.866, total=   0.7s\n",
      "[CV] n_estimators=1600, min_child_weight=7, max_depth=3, learning_rate=0.2, gamma=0.1, colsample_bytree=0.3 \n",
      "[CV]  n_estimators=1600, min_child_weight=7, max_depth=3, learning_rate=0.2, gamma=0.1, colsample_bytree=0.3, score=0.870, total=   0.7s\n",
      "[CV] n_estimators=1000, min_child_weight=1, max_depth=6, learning_rate=0.2, gamma=0.2, colsample_bytree=0.7 \n",
      "[CV]  n_estimators=1000, min_child_weight=1, max_depth=6, learning_rate=0.2, gamma=0.2, colsample_bytree=0.7, score=0.876, total=   0.9s\n",
      "[CV] n_estimators=1000, min_child_weight=1, max_depth=6, learning_rate=0.2, gamma=0.2, colsample_bytree=0.7 \n",
      "[CV]  n_estimators=1000, min_child_weight=1, max_depth=6, learning_rate=0.2, gamma=0.2, colsample_bytree=0.7, score=0.915, total=   0.9s\n",
      "[CV] n_estimators=1000, min_child_weight=1, max_depth=6, learning_rate=0.2, gamma=0.2, colsample_bytree=0.7 \n",
      "[CV]  n_estimators=1000, min_child_weight=1, max_depth=6, learning_rate=0.2, gamma=0.2, colsample_bytree=0.7, score=0.896, total=   0.9s\n",
      "[CV] n_estimators=1000, min_child_weight=1, max_depth=6, learning_rate=0.2, gamma=0.2, colsample_bytree=0.7 \n",
      "[CV]  n_estimators=1000, min_child_weight=1, max_depth=6, learning_rate=0.2, gamma=0.2, colsample_bytree=0.7, score=0.870, total=   0.8s\n",
      "[CV] n_estimators=1000, min_child_weight=1, max_depth=6, learning_rate=0.2, gamma=0.2, colsample_bytree=0.7 \n",
      "[CV]  n_estimators=1000, min_child_weight=1, max_depth=6, learning_rate=0.2, gamma=0.2, colsample_bytree=0.7, score=0.873, total=   0.9s\n",
      "[CV] n_estimators=1000, min_child_weight=1, max_depth=6, learning_rate=0.2, gamma=0.2, colsample_bytree=0.7 \n",
      "[CV]  n_estimators=1000, min_child_weight=1, max_depth=6, learning_rate=0.2, gamma=0.2, colsample_bytree=0.7, score=0.882, total=   1.0s\n",
      "[CV] n_estimators=1000, min_child_weight=1, max_depth=6, learning_rate=0.2, gamma=0.2, colsample_bytree=0.7 \n",
      "[CV]  n_estimators=1000, min_child_weight=1, max_depth=6, learning_rate=0.2, gamma=0.2, colsample_bytree=0.7, score=0.896, total=   0.9s\n",
      "[CV] n_estimators=1000, min_child_weight=1, max_depth=6, learning_rate=0.2, gamma=0.2, colsample_bytree=0.7 \n",
      "[CV]  n_estimators=1000, min_child_weight=1, max_depth=6, learning_rate=0.2, gamma=0.2, colsample_bytree=0.7, score=0.883, total=   0.9s\n",
      "[CV] n_estimators=1000, min_child_weight=1, max_depth=6, learning_rate=0.2, gamma=0.2, colsample_bytree=0.7 \n",
      "[CV]  n_estimators=1000, min_child_weight=1, max_depth=6, learning_rate=0.2, gamma=0.2, colsample_bytree=0.7, score=0.874, total=   0.9s\n",
      "[CV] n_estimators=1000, min_child_weight=1, max_depth=6, learning_rate=0.2, gamma=0.2, colsample_bytree=0.7 \n",
      "[CV]  n_estimators=1000, min_child_weight=1, max_depth=6, learning_rate=0.2, gamma=0.2, colsample_bytree=0.7, score=0.848, total=   0.9s\n",
      "[CV] n_estimators=2000, min_child_weight=5, max_depth=5, learning_rate=0.15, gamma=0.3, colsample_bytree=0.5 \n",
      "[CV]  n_estimators=2000, min_child_weight=5, max_depth=5, learning_rate=0.15, gamma=0.3, colsample_bytree=0.5, score=0.883, total=   1.3s\n",
      "[CV] n_estimators=2000, min_child_weight=5, max_depth=5, learning_rate=0.15, gamma=0.3, colsample_bytree=0.5 \n",
      "[CV]  n_estimators=2000, min_child_weight=5, max_depth=5, learning_rate=0.15, gamma=0.3, colsample_bytree=0.5, score=0.906, total=   1.3s\n",
      "[CV] n_estimators=2000, min_child_weight=5, max_depth=5, learning_rate=0.15, gamma=0.3, colsample_bytree=0.5 \n",
      "[CV]  n_estimators=2000, min_child_weight=5, max_depth=5, learning_rate=0.15, gamma=0.3, colsample_bytree=0.5, score=0.900, total=   1.3s\n",
      "[CV] n_estimators=2000, min_child_weight=5, max_depth=5, learning_rate=0.15, gamma=0.3, colsample_bytree=0.5 \n",
      "[CV]  n_estimators=2000, min_child_weight=5, max_depth=5, learning_rate=0.15, gamma=0.3, colsample_bytree=0.5, score=0.861, total=   1.3s\n",
      "[CV] n_estimators=2000, min_child_weight=5, max_depth=5, learning_rate=0.15, gamma=0.3, colsample_bytree=0.5 \n",
      "[CV]  n_estimators=2000, min_child_weight=5, max_depth=5, learning_rate=0.15, gamma=0.3, colsample_bytree=0.5, score=0.877, total=   1.3s\n",
      "[CV] n_estimators=2000, min_child_weight=5, max_depth=5, learning_rate=0.15, gamma=0.3, colsample_bytree=0.5 \n",
      "[CV]  n_estimators=2000, min_child_weight=5, max_depth=5, learning_rate=0.15, gamma=0.3, colsample_bytree=0.5, score=0.885, total=   1.3s\n",
      "[CV] n_estimators=2000, min_child_weight=5, max_depth=5, learning_rate=0.15, gamma=0.3, colsample_bytree=0.5 \n",
      "[CV]  n_estimators=2000, min_child_weight=5, max_depth=5, learning_rate=0.15, gamma=0.3, colsample_bytree=0.5, score=0.873, total=   1.3s\n",
      "[CV] n_estimators=2000, min_child_weight=5, max_depth=5, learning_rate=0.15, gamma=0.3, colsample_bytree=0.5 \n",
      "[CV]  n_estimators=2000, min_child_weight=5, max_depth=5, learning_rate=0.15, gamma=0.3, colsample_bytree=0.5, score=0.887, total=   1.3s\n",
      "[CV] n_estimators=2000, min_child_weight=5, max_depth=5, learning_rate=0.15, gamma=0.3, colsample_bytree=0.5 \n",
      "[CV]  n_estimators=2000, min_child_weight=5, max_depth=5, learning_rate=0.15, gamma=0.3, colsample_bytree=0.5, score=0.862, total=   1.3s\n",
      "[CV] n_estimators=2000, min_child_weight=5, max_depth=5, learning_rate=0.15, gamma=0.3, colsample_bytree=0.5 \n",
      "[CV]  n_estimators=2000, min_child_weight=5, max_depth=5, learning_rate=0.15, gamma=0.3, colsample_bytree=0.5, score=0.857, total=   1.3s\n"
     ]
    },
    {
     "name": "stderr",
     "output_type": "stream",
     "text": [
      "[Parallel(n_jobs=1)]: Done 200 out of 200 | elapsed:  3.8min finished\n"
     ]
    },
    {
     "data": {
      "text/plain": [
       "RandomizedSearchCV(cv=10,\n",
       "                   estimator=XGBRegressor(base_score=None, booster=None,\n",
       "                                          colsample_bylevel=None,\n",
       "                                          colsample_bynode=None,\n",
       "                                          colsample_bytree=None, gamma=None,\n",
       "                                          gpu_id=None, importance_type='gain',\n",
       "                                          interaction_constraints=None,\n",
       "                                          learning_rate=None,\n",
       "                                          max_delta_step=None, max_depth=None,\n",
       "                                          min_child_weight=None, missing=nan,\n",
       "                                          monotone_constraints=None,\n",
       "                                          n_estimators=100,...\n",
       "                                          scale_pos_weight=None, subsample=None,\n",
       "                                          tree_method=None,\n",
       "                                          validate_parameters=None,\n",
       "                                          verbosity=None),\n",
       "                   n_iter=20, n_jobs=1,\n",
       "                   param_distributions={'colsample_bytree': [0.3, 0.4, 0.5,\n",
       "                                                             0.7],\n",
       "                                        'gamma': [0.1, 0.2, 0.3, 0.4],\n",
       "                                        'learning_rate': [0.05, 0.1, 0.15, 0.2,\n",
       "                                                          0.25, 0.3],\n",
       "                                        'max_depth': [3, 4, 5, 6, 8, 10, 12,\n",
       "                                                      15],\n",
       "                                        'min_child_weight': [1, 3, 5, 7],\n",
       "                                        'n_estimators': [200, 400, 600, 800,\n",
       "                                                         1000, 1200, 1400, 1600,\n",
       "                                                         1800, 2000]},\n",
       "                   verbose=3)"
      ]
     },
     "execution_count": 107,
     "metadata": {},
     "output_type": "execute_result"
    }
   ],
   "source": [
    "xgboost_randomcv=RandomizedSearchCV(XGBRegressor(),param_distributions=params_xgboost,n_iter=4,n_jobs=1,cv=3,verbose=3)\n",
    "\n",
    "xgboost_randomcv.fit(X,y)"
   ]
  },
  {
   "cell_type": "markdown",
   "metadata": {},
   "source": [
    "#### FINDING THE BEST PARAMETER VALUES FOR DIFFERENT 'n_iter' AND 'cv'"
   ]
  },
  {
   "cell_type": "code",
   "execution_count": 164,
   "metadata": {
    "scrolled": true
   },
   "outputs": [
    {
     "data": {
      "text/plain": [
       "{'n_estimators': 1000,\n",
       " 'min_child_weight': 1,\n",
       " 'max_depth': 6,\n",
       " 'learning_rate': 0.05,\n",
       " 'gamma': 0.1,\n",
       " 'colsample_bytree': 0.3}"
      ]
     },
     "execution_count": 164,
     "metadata": {},
     "output_type": "execute_result"
    }
   ],
   "source": [
    "xgboost_randomcv.best_params_  ## n_iter=4, cv=3   "
   ]
  },
  {
   "cell_type": "markdown",
   "metadata": {},
   "source": [
    "#### Applying tuned hyper parameters using Cross Validation technique for Xgboost"
   ]
  },
  {
   "cell_type": "code",
   "execution_count": 165,
   "metadata": {
    "scrolled": false
   },
   "outputs": [
    {
     "data": {
      "text/plain": [
       "0.8938852889704207"
      ]
     },
     "execution_count": 165,
     "metadata": {},
     "output_type": "execute_result"
    }
   ],
   "source": [
    "## n_iter=4, cv=3\n",
    "\n",
    "cross_val_score(XGBRegressor(learning_rate=0.05,random_state=10,n_estimators=1000,min_child_weight=1,\n",
    "                            max_depth=6,gamma=0.1,colsample_bytree=0.3),X,y,cv=10).mean()"
   ]
  },
  {
   "cell_type": "code",
   "execution_count": 95,
   "metadata": {},
   "outputs": [],
   "source": [
    "## Converting cross validation score of XGBOOST model with tuned hyperparameters into dataframe\n",
    "\n",
    "result_xg_crossval_hyperparamtune =pd.DataFrame({'cross_val_score': [cross_val_score(XGBRegressor(learning_rate=0.05,random_state=10,n_estimators=1000,min_child_weight=1,\n",
    "                                                                    max_depth=6,gamma=0.1,colsample_bytree=0.3),X,y,cv=10).mean()]},\n",
    "                                       index=['XGBOOST Hyperparameter Tuned'])\n"
   ]
  },
  {
   "cell_type": "code",
   "execution_count": 96,
   "metadata": {},
   "outputs": [
    {
     "data": {
      "text/html": [
       "<div>\n",
       "<style scoped>\n",
       "    .dataframe tbody tr th:only-of-type {\n",
       "        vertical-align: middle;\n",
       "    }\n",
       "\n",
       "    .dataframe tbody tr th {\n",
       "        vertical-align: top;\n",
       "    }\n",
       "\n",
       "    .dataframe thead th {\n",
       "        text-align: right;\n",
       "    }\n",
       "</style>\n",
       "<table border=\"1\" class=\"dataframe\">\n",
       "  <thead>\n",
       "    <tr style=\"text-align: right;\">\n",
       "      <th></th>\n",
       "      <th>model_score</th>\n",
       "      <th>r2_score</th>\n",
       "      <th>rmse</th>\n",
       "      <th>mae</th>\n",
       "      <th>cross_val_score</th>\n",
       "    </tr>\n",
       "  </thead>\n",
       "  <tbody>\n",
       "    <tr>\n",
       "      <th>XGBOOST Hyperparameter Tuned</th>\n",
       "      <td>0.901701</td>\n",
       "      <td>0.901701</td>\n",
       "      <td>0.12808</td>\n",
       "      <td>0.095006</td>\n",
       "      <td>0.893885</td>\n",
       "    </tr>\n",
       "  </tbody>\n",
       "</table>\n",
       "</div>"
      ],
      "text/plain": [
       "                              model_score  r2_score     rmse       mae  \\\n",
       "XGBOOST Hyperparameter Tuned     0.901701  0.901701  0.12808  0.095006   \n",
       "\n",
       "                              cross_val_score  \n",
       "XGBOOST Hyperparameter Tuned         0.893885  "
      ]
     },
     "execution_count": 96,
     "metadata": {},
     "output_type": "execute_result"
    }
   ],
   "source": [
    "## Viewing all the model evaluation metric values and cross validation score for XGBOOST \n",
    "## using tuned hyperparameters\n",
    "\n",
    "result_xg_hyperparamtune=pd.concat([result_xg_traintest_hyperparamtune,result_xg_crossval_hyperparamtune],\n",
    "                                    axis=1)\n",
    "\n",
    "result_xg_hyperparamtune"
   ]
  },
  {
   "cell_type": "code",
   "execution_count": null,
   "metadata": {},
   "outputs": [],
   "source": []
  },
  {
   "cell_type": "markdown",
   "metadata": {},
   "source": [
    "### HYPERARAMETER OPTIMIZATION FOR SVR"
   ]
  },
  {
   "cell_type": "code",
   "execution_count": 97,
   "metadata": {},
   "outputs": [
    {
     "name": "stdout",
     "output_type": "stream",
     "text": [
      "[{'C': [1, 2, 3, 4, 5, 6, 7, 8, 9, 10, 100, 1000], 'kernel': ['linear']}, {'C': [1, 10, 100, 1000], 'kernel': ['rbf'], 'gamma': [0.1, 0.2, 0.3, 0.4, 0.5, 0.6, 0.7, 0.8, 0.9]}]\n"
     ]
    }
   ],
   "source": [
    "# Applying Grid Search to find the best model and the best parameters #C--0.1 to 1000 #gamma---0.01 to 10\n",
    "\n",
    "params_svr = [{'C': [1,2,3,4,5,6,7,8,9, 10, 100, 1000], 'kernel': ['linear']},\n",
    "              {'C': [1, 10, 100, 1000], 'kernel': ['rbf'], 'gamma': [0.1, 0.2, 0.3, 0.4, 0.5, 0.6, 0.7, 0.8, 0.9]}]\n",
    "\n",
    "\n",
    "\n",
    "print(params_svr)\n"
   ]
  },
  {
   "cell_type": "markdown",
   "metadata": {},
   "source": [
    "### Fitting Randomized Search CV For Train Test Split data"
   ]
  },
  {
   "cell_type": "code",
   "execution_count": 46,
   "metadata": {
    "collapsed": true
   },
   "outputs": [
    {
     "name": "stdout",
     "output_type": "stream",
     "text": [
      "Fitting 3 folds for each of 4 candidates, totalling 12 fits\n",
      "[CV] kernel=linear, C=3 ..............................................\n",
      "[CV] .................. kernel=linear, C=3, score=0.883, total=   0.1s\n",
      "[CV] kernel=linear, C=3 ..............................................\n",
      "[CV] .................. kernel=linear, C=3, score=0.845, total=   0.1s"
     ]
    },
    {
     "name": "stderr",
     "output_type": "stream",
     "text": [
      "[Parallel(n_jobs=1)]: Using backend SequentialBackend with 1 concurrent workers.\n",
      "[Parallel(n_jobs=1)]: Done   1 out of   1 | elapsed:    0.0s remaining:    0.0s\n"
     ]
    },
    {
     "name": "stdout",
     "output_type": "stream",
     "text": [
      "\n",
      "[CV] kernel=linear, C=3 ..............................................\n",
      "[CV] .................. kernel=linear, C=3, score=0.872, total=   0.1s\n",
      "[CV] kernel=linear, C=1000 ...........................................\n",
      "[CV] ............... kernel=linear, C=1000, score=0.884, total=   7.6s\n",
      "[CV] kernel=linear, C=1000 ...........................................\n",
      "[CV] ............... kernel=linear, C=1000, score=0.846, total=  10.6s\n",
      "[CV] kernel=linear, C=1000 ...........................................\n",
      "[CV] ............... kernel=linear, C=1000, score=0.872, total=   8.5s\n",
      "[CV] kernel=rbf, gamma=0.6, C=1 ......................................\n",
      "[CV] .......... kernel=rbf, gamma=0.6, C=1, score=0.849, total=   0.1s\n",
      "[CV] kernel=rbf, gamma=0.6, C=1 ......................................\n",
      "[CV] .......... kernel=rbf, gamma=0.6, C=1, score=0.863, total=   0.0s\n",
      "[CV] kernel=rbf, gamma=0.6, C=1 ......................................\n",
      "[CV] .......... kernel=rbf, gamma=0.6, C=1, score=0.829, total=   0.0s\n",
      "[CV] kernel=rbf, gamma=0.4, C=1 ......................................\n",
      "[CV] .......... kernel=rbf, gamma=0.4, C=1, score=0.865, total=   0.0s\n",
      "[CV] kernel=rbf, gamma=0.4, C=1 ......................................\n",
      "[CV] .......... kernel=rbf, gamma=0.4, C=1, score=0.861, total=   0.0s\n",
      "[CV] kernel=rbf, gamma=0.4, C=1 ......................................\n",
      "[CV] .......... kernel=rbf, gamma=0.4, C=1, score=0.842, total=   0.1s\n"
     ]
    },
    {
     "name": "stderr",
     "output_type": "stream",
     "text": [
      "[Parallel(n_jobs=1)]: Done   2 out of   2 | elapsed:    0.1s remaining:    0.0s\n",
      "[Parallel(n_jobs=1)]: Done  12 out of  12 | elapsed:   27.2s finished\n"
     ]
    },
    {
     "data": {
      "text/plain": [
       "RandomizedSearchCV(cv=3, estimator=SVR(), n_iter=4, n_jobs=1,\n",
       "                   param_distributions=[{'C': [1, 2, 3, 4, 5, 6, 7, 8, 9, 10,\n",
       "                                               100, 1000],\n",
       "                                         'kernel': ['linear']},\n",
       "                                        {'C': [1, 10, 100, 1000],\n",
       "                                         'gamma': [0.1, 0.2, 0.3, 0.4, 0.5, 0.6,\n",
       "                                                   0.7, 0.8, 0.9],\n",
       "                                         'kernel': ['rbf']}],\n",
       "                   verbose=3)"
      ]
     },
     "execution_count": 46,
     "metadata": {},
     "output_type": "execute_result"
    }
   ],
   "source": [
    "svr_randomcv=RandomizedSearchCV(SVR(),param_distributions=params_svr,n_iter=4,n_jobs=1,cv=3,verbose=3)\n",
    "\n",
    "svr_randomcv.fit(X_train,y_train)"
   ]
  },
  {
   "cell_type": "markdown",
   "metadata": {},
   "source": [
    "#### FINDING THE BEST PARAMETER VALUES FOR DIFFERENT 'n_iter' AND 'cv'"
   ]
  },
  {
   "cell_type": "code",
   "execution_count": 47,
   "metadata": {},
   "outputs": [
    {
     "data": {
      "text/plain": [
       "{'kernel': 'linear', 'C': 1000}"
      ]
     },
     "execution_count": 47,
     "metadata": {},
     "output_type": "execute_result"
    }
   ],
   "source": [
    "svr_randomcv.best_params_ ## BEST"
   ]
  },
  {
   "cell_type": "markdown",
   "metadata": {},
   "source": [
    "#### Applying tuned hyper parameters using train test split technique for SVR"
   ]
  },
  {
   "cell_type": "code",
   "execution_count": 48,
   "metadata": {},
   "outputs": [
    {
     "data": {
      "text/plain": [
       "0.9052214608116056"
      ]
     },
     "execution_count": 48,
     "metadata": {},
     "output_type": "execute_result"
    }
   ],
   "source": [
    "## Calculating the model score using tuned hyperparameters  # C=1000,kernel='linear' ## BEST\n",
    "\n",
    "get_model_score(SVR(C=1000,kernel='linear'),X_train,X_test,y_train,y_test)"
   ]
  },
  {
   "cell_type": "code",
   "execution_count": 98,
   "metadata": {},
   "outputs": [
    {
     "data": {
      "text/plain": [
       "0.9052214608116056"
      ]
     },
     "execution_count": 98,
     "metadata": {},
     "output_type": "execute_result"
    }
   ],
   "source": [
    "## Calculating r2_score for the model using tuned hyperparameters\n",
    "\n",
    "get_r2_score(SVR(C=1000,kernel='linear'),X_train,X_test,y_train,y_test)"
   ]
  },
  {
   "cell_type": "code",
   "execution_count": 99,
   "metadata": {},
   "outputs": [
    {
     "data": {
      "text/plain": [
       "0.12576611526526232"
      ]
     },
     "execution_count": 99,
     "metadata": {},
     "output_type": "execute_result"
    }
   ],
   "source": [
    "## Calculating rmse score for the model using tuned hyperparameters\n",
    "\n",
    "get_rmse_score(SVR(C=1000,kernel='linear'),X_train,X_test,y_train,y_test)"
   ]
  },
  {
   "cell_type": "code",
   "execution_count": 100,
   "metadata": {},
   "outputs": [
    {
     "data": {
      "text/plain": [
       "0.09536301388646762"
      ]
     },
     "execution_count": 100,
     "metadata": {},
     "output_type": "execute_result"
    }
   ],
   "source": [
    "## Calculating mean absolute error for the model using tuned hyperparameters\n",
    "\n",
    "get_mae_score(SVR(C=1000,kernel='linear'),X_train,X_test,y_train,y_test)"
   ]
  },
  {
   "cell_type": "code",
   "execution_count": 101,
   "metadata": {},
   "outputs": [
    {
     "data": {
      "text/plain": [
       "(912    11.385092\n",
       " 373    11.719940\n",
       " 20     12.692503\n",
       " 800    12.206073\n",
       " 152    12.154779\n",
       " Name: SalePrice, dtype: float64,\n",
       " array([12.02443227, 12.32583964, 11.70592666, 11.91274209, 12.66676045]))"
      ]
     },
     "execution_count": 101,
     "metadata": {},
     "output_type": "execute_result"
    }
   ],
   "source": [
    "## Displaying and comparing y_train and y_predict values using tuned hyperparameters\n",
    "\n",
    "get_y_train_y_predict(SVR(C=1000,kernel='linear'),X_train,X_test,y_train,y_test)"
   ]
  },
  {
   "cell_type": "code",
   "execution_count": 102,
   "metadata": {},
   "outputs": [
    {
     "data": {
      "text/html": [
       "<div>\n",
       "<style scoped>\n",
       "    .dataframe tbody tr th:only-of-type {\n",
       "        vertical-align: middle;\n",
       "    }\n",
       "\n",
       "    .dataframe tbody tr th {\n",
       "        vertical-align: top;\n",
       "    }\n",
       "\n",
       "    .dataframe thead th {\n",
       "        text-align: right;\n",
       "    }\n",
       "</style>\n",
       "<table border=\"1\" class=\"dataframe\">\n",
       "  <thead>\n",
       "    <tr style=\"text-align: right;\">\n",
       "      <th></th>\n",
       "      <th>model_score</th>\n",
       "      <th>r2_score</th>\n",
       "      <th>rmse</th>\n",
       "      <th>mae</th>\n",
       "    </tr>\n",
       "  </thead>\n",
       "  <tbody>\n",
       "    <tr>\n",
       "      <th>SVR Hyperparameter Tuned</th>\n",
       "      <td>0.905221</td>\n",
       "      <td>0.905221</td>\n",
       "      <td>0.125766</td>\n",
       "      <td>0.095363</td>\n",
       "    </tr>\n",
       "  </tbody>\n",
       "</table>\n",
       "</div>"
      ],
      "text/plain": [
       "                          model_score  r2_score      rmse       mae\n",
       "SVR Hyperparameter Tuned     0.905221  0.905221  0.125766  0.095363"
      ]
     },
     "execution_count": 102,
     "metadata": {},
     "output_type": "execute_result"
    }
   ],
   "source": [
    "## Viewing all model evaluation metric values for SVR using tuned hyperparameters \n",
    "\n",
    "result_SVR_traintest_hyperparamtune =pd.DataFrame({'model_score': [get_model_score(SVR(C=1000,kernel='linear'),X_train,X_test,y_train,y_test)],\n",
    "                                       \n",
    "                                                  'r2_score':[get_r2_score(SVR(C=1000,kernel='linear'),X_train,X_test,y_train,y_test)],\n",
    "                                                  \n",
    "                                                  'rmse':[get_rmse_score(SVR(C=1000,kernel='linear'),X_train,X_test,y_train,y_test)],\n",
    "                                                  \n",
    "                                                  'mae':[get_mae_score(SVR(C=1000,kernel='linear'),X_train,X_test,y_train,y_test)]},\n",
    "                                       \n",
    "                                                  index=['SVR Hyperparameter Tuned'])\n"
   ]
  },
  {
   "cell_type": "markdown",
   "metadata": {},
   "source": [
    "#### Fitting Randomized Search CV to X,y directly(Without usung train test split)"
   ]
  },
  {
   "cell_type": "code",
   "execution_count": 103,
   "metadata": {
    "collapsed": true
   },
   "outputs": [
    {
     "name": "stdout",
     "output_type": "stream",
     "text": [
      "Fitting 3 folds for each of 4 candidates, totalling 12 fits\n",
      "[CV] kernel=rbf, gamma=0.5, C=10 .....................................\n",
      "[CV] ......... kernel=rbf, gamma=0.5, C=10, score=0.877, total=   0.1s\n",
      "[CV] kernel=rbf, gamma=0.5, C=10 .....................................\n",
      "[CV] ......... kernel=rbf, gamma=0.5, C=10, score=0.856, total=   0.1s\n",
      "[CV] kernel=rbf, gamma=0.5, C=10 .....................................\n",
      "[CV] ......... kernel=rbf, gamma=0.5, C=10, score=0.853, total=   0.1s\n",
      "[CV] kernel=rbf, gamma=0.5, C=1 ......................................\n"
     ]
    },
    {
     "name": "stderr",
     "output_type": "stream",
     "text": [
      "[Parallel(n_jobs=1)]: Using backend SequentialBackend with 1 concurrent workers.\n",
      "[Parallel(n_jobs=1)]: Done   1 out of   1 | elapsed:    0.0s remaining:    0.0s\n",
      "[Parallel(n_jobs=1)]: Done   2 out of   2 | elapsed:    0.0s remaining:    0.0s\n"
     ]
    },
    {
     "name": "stdout",
     "output_type": "stream",
     "text": [
      "[CV] .......... kernel=rbf, gamma=0.5, C=1, score=0.893, total=   0.0s\n",
      "[CV] kernel=rbf, gamma=0.5, C=1 ......................................\n",
      "[CV] .......... kernel=rbf, gamma=0.5, C=1, score=0.867, total=   0.0s\n",
      "[CV] kernel=rbf, gamma=0.5, C=1 ......................................\n",
      "[CV] .......... kernel=rbf, gamma=0.5, C=1, score=0.867, total=   0.0s\n",
      "[CV] kernel=rbf, gamma=0.8, C=1000 ...................................\n",
      "[CV] ....... kernel=rbf, gamma=0.8, C=1000, score=0.859, total=   0.1s\n",
      "[CV] kernel=rbf, gamma=0.8, C=1000 ...................................\n",
      "[CV] ....... kernel=rbf, gamma=0.8, C=1000, score=0.823, total=   0.1s\n",
      "[CV] kernel=rbf, gamma=0.8, C=1000 ...................................\n",
      "[CV] ....... kernel=rbf, gamma=0.8, C=1000, score=0.831, total=   0.1s\n",
      "[CV] kernel=rbf, gamma=0.5, C=1000 ...................................\n",
      "[CV] ....... kernel=rbf, gamma=0.5, C=1000, score=0.853, total=   0.1s\n",
      "[CV] kernel=rbf, gamma=0.5, C=1000 ...................................\n",
      "[CV] ....... kernel=rbf, gamma=0.5, C=1000, score=0.821, total=   0.1s\n",
      "[CV] kernel=rbf, gamma=0.5, C=1000 ...................................\n",
      "[CV] ....... kernel=rbf, gamma=0.5, C=1000, score=0.829, total=   0.1s\n"
     ]
    },
    {
     "name": "stderr",
     "output_type": "stream",
     "text": [
      "[Parallel(n_jobs=1)]: Done  12 out of  12 | elapsed:    0.7s finished\n"
     ]
    },
    {
     "data": {
      "text/plain": [
       "RandomizedSearchCV(cv=3, estimator=SVR(), n_iter=4, n_jobs=1,\n",
       "                   param_distributions=[{'C': [1, 2, 3, 4, 5, 6, 7, 8, 9, 10,\n",
       "                                               100, 1000],\n",
       "                                         'kernel': ['linear']},\n",
       "                                        {'C': [1, 10, 100, 1000],\n",
       "                                         'gamma': [0.1, 0.2, 0.3, 0.4, 0.5, 0.6,\n",
       "                                                   0.7, 0.8, 0.9],\n",
       "                                         'kernel': ['rbf']}],\n",
       "                   verbose=3)"
      ]
     },
     "execution_count": 103,
     "metadata": {},
     "output_type": "execute_result"
    }
   ],
   "source": [
    "svr_randomcv=RandomizedSearchCV(SVR(),param_distributions=params_svr,n_iter=4,n_jobs=1,cv=3,verbose=3)\n",
    "\n",
    "svr_randomcv.fit(X,y)"
   ]
  },
  {
   "cell_type": "markdown",
   "metadata": {},
   "source": [
    "#### FINDING THE BEST PARAMETER VALUES FOR DIFFERENT 'n_iter' AND 'cv'"
   ]
  },
  {
   "cell_type": "code",
   "execution_count": 104,
   "metadata": {},
   "outputs": [
    {
     "data": {
      "text/plain": [
       "{'kernel': 'rbf', 'gamma': 0.5, 'C': 1}"
      ]
     },
     "execution_count": 104,
     "metadata": {},
     "output_type": "execute_result"
    }
   ],
   "source": [
    "svr_randomcv.best_params_"
   ]
  },
  {
   "cell_type": "markdown",
   "metadata": {},
   "source": [
    "#### Applying tuned hyper parameters using Cross Validation technique for Xgboost"
   ]
  },
  {
   "cell_type": "code",
   "execution_count": 105,
   "metadata": {},
   "outputs": [
    {
     "data": {
      "text/plain": [
       "array([0.89391918, 0.91190067, 0.89412472, 0.87295951, 0.87805413,\n",
       "       0.89987745, 0.87228209, 0.87809508, 0.86433445, 0.86394629])"
      ]
     },
     "execution_count": 105,
     "metadata": {},
     "output_type": "execute_result"
    }
   ],
   "source": [
    "# n_iter=4,cv=3\n",
    "\n",
    "cross_val_score(SVR(C=1,gamma=0.5,kernel='rbf'),X,y,cv=10)"
   ]
  },
  {
   "cell_type": "code",
   "execution_count": 106,
   "metadata": {},
   "outputs": [
    {
     "data": {
      "text/plain": [
       "0.8829493583309842"
      ]
     },
     "execution_count": 106,
     "metadata": {},
     "output_type": "execute_result"
    }
   ],
   "source": [
    "cross_val_score(SVR(C=1,gamma=0.5,kernel='rbf'),X,y,cv=10).mean()"
   ]
  },
  {
   "cell_type": "code",
   "execution_count": 108,
   "metadata": {},
   "outputs": [],
   "source": [
    "## Converting cross validation score of SVR model with tuned hyperparameters into dataframe\n",
    "\n",
    "result_SVR_crossval_hyperparamtune =pd.DataFrame({'cross_val_score': [cross_val_score(SVR(C=1,gamma=0.5,kernel='rbf'),X,y,cv=10).mean()]},\n",
    "                                       index=['SVR Hyperparameter Tuned'])"
   ]
  },
  {
   "cell_type": "code",
   "execution_count": 109,
   "metadata": {},
   "outputs": [
    {
     "data": {
      "text/html": [
       "<div>\n",
       "<style scoped>\n",
       "    .dataframe tbody tr th:only-of-type {\n",
       "        vertical-align: middle;\n",
       "    }\n",
       "\n",
       "    .dataframe tbody tr th {\n",
       "        vertical-align: top;\n",
       "    }\n",
       "\n",
       "    .dataframe thead th {\n",
       "        text-align: right;\n",
       "    }\n",
       "</style>\n",
       "<table border=\"1\" class=\"dataframe\">\n",
       "  <thead>\n",
       "    <tr style=\"text-align: right;\">\n",
       "      <th></th>\n",
       "      <th>model_score</th>\n",
       "      <th>r2_score</th>\n",
       "      <th>rmse</th>\n",
       "      <th>mae</th>\n",
       "      <th>cross_val_score</th>\n",
       "    </tr>\n",
       "  </thead>\n",
       "  <tbody>\n",
       "    <tr>\n",
       "      <th>SVR Hyperparameter Tuned</th>\n",
       "      <td>0.905221</td>\n",
       "      <td>0.905221</td>\n",
       "      <td>0.125766</td>\n",
       "      <td>0.095363</td>\n",
       "      <td>0.882949</td>\n",
       "    </tr>\n",
       "  </tbody>\n",
       "</table>\n",
       "</div>"
      ],
      "text/plain": [
       "                          model_score  r2_score      rmse       mae  \\\n",
       "SVR Hyperparameter Tuned     0.905221  0.905221  0.125766  0.095363   \n",
       "\n",
       "                          cross_val_score  \n",
       "SVR Hyperparameter Tuned         0.882949  "
      ]
     },
     "execution_count": 109,
     "metadata": {},
     "output_type": "execute_result"
    }
   ],
   "source": [
    "## Viewing all the model evaluation metric values and cross validation score for SVR \n",
    "## using tuned hyperparameters\n",
    "\n",
    "result_SVR_hyperparamtune=pd.concat([result_SVR_traintest_hyperparamtune,result_SVR_crossval_hyperparamtune],\n",
    "                                    axis=1)\n",
    "\n",
    "result_SVR_hyperparamtune"
   ]
  },
  {
   "cell_type": "code",
   "execution_count": 112,
   "metadata": {},
   "outputs": [
    {
     "data": {
      "text/html": [
       "<div>\n",
       "<style scoped>\n",
       "    .dataframe tbody tr th:only-of-type {\n",
       "        vertical-align: middle;\n",
       "    }\n",
       "\n",
       "    .dataframe tbody tr th {\n",
       "        vertical-align: top;\n",
       "    }\n",
       "\n",
       "    .dataframe thead th {\n",
       "        text-align: right;\n",
       "    }\n",
       "</style>\n",
       "<table border=\"1\" class=\"dataframe\">\n",
       "  <thead>\n",
       "    <tr style=\"text-align: right;\">\n",
       "      <th></th>\n",
       "      <th>model_score</th>\n",
       "      <th>r2_score</th>\n",
       "      <th>rmse</th>\n",
       "      <th>mae</th>\n",
       "      <th>cross_val_score</th>\n",
       "    </tr>\n",
       "  </thead>\n",
       "  <tbody>\n",
       "    <tr>\n",
       "      <th>Random Forest Hyperparameter Tuned</th>\n",
       "      <td>0.887049</td>\n",
       "      <td>0.887049</td>\n",
       "      <td>0.137295</td>\n",
       "      <td>0.096988</td>\n",
       "      <td>0.887423</td>\n",
       "    </tr>\n",
       "    <tr>\n",
       "      <th>XGBOOST Hyperparameter Tuned</th>\n",
       "      <td>0.901701</td>\n",
       "      <td>0.901701</td>\n",
       "      <td>0.128080</td>\n",
       "      <td>0.095006</td>\n",
       "      <td>0.893885</td>\n",
       "    </tr>\n",
       "    <tr>\n",
       "      <th>SVR Hyperparameter Tuned</th>\n",
       "      <td>0.905221</td>\n",
       "      <td>0.905221</td>\n",
       "      <td>0.125766</td>\n",
       "      <td>0.095363</td>\n",
       "      <td>0.882949</td>\n",
       "    </tr>\n",
       "  </tbody>\n",
       "</table>\n",
       "</div>"
      ],
      "text/plain": [
       "                                    model_score  r2_score      rmse       mae  \\\n",
       "Random Forest Hyperparameter Tuned     0.887049  0.887049  0.137295  0.096988   \n",
       "XGBOOST Hyperparameter Tuned           0.901701  0.901701  0.128080  0.095006   \n",
       "SVR Hyperparameter Tuned               0.905221  0.905221  0.125766  0.095363   \n",
       "\n",
       "                                    cross_val_score  \n",
       "Random Forest Hyperparameter Tuned         0.887423  \n",
       "XGBOOST Hyperparameter Tuned               0.893885  \n",
       "SVR Hyperparameter Tuned                   0.882949  "
      ]
     },
     "execution_count": 112,
     "metadata": {},
     "output_type": "execute_result"
    }
   ],
   "source": [
    "## Viewing and comparing all the model evaluation metrics values of different models with hyperparameter optimization\n",
    "\n",
    "result_with_hyperparamtune_rf_xg_SVR=pd.concat([result_rf_hyperparamtune,result_xg_hyperparamtune,result_SVR_hyperparamtune],\n",
    "                                     axis=0)\n",
    "\n",
    "result_with_hyperparamtune_rf_xg_SVR"
   ]
  },
  {
   "cell_type": "code",
   "execution_count": 181,
   "metadata": {},
   "outputs": [
    {
     "data": {
      "text/html": [
       "<div>\n",
       "<style scoped>\n",
       "    .dataframe tbody tr th:only-of-type {\n",
       "        vertical-align: middle;\n",
       "    }\n",
       "\n",
       "    .dataframe tbody tr th {\n",
       "        vertical-align: top;\n",
       "    }\n",
       "\n",
       "    .dataframe thead th {\n",
       "        text-align: right;\n",
       "    }\n",
       "</style>\n",
       "<table border=\"1\" class=\"dataframe\">\n",
       "  <thead>\n",
       "    <tr style=\"text-align: right;\">\n",
       "      <th></th>\n",
       "      <th>model_score</th>\n",
       "      <th>r2_score</th>\n",
       "      <th>rmse</th>\n",
       "      <th>mae</th>\n",
       "      <th>cross_val_score</th>\n",
       "    </tr>\n",
       "  </thead>\n",
       "  <tbody>\n",
       "    <tr>\n",
       "      <th>Random Forest Without Hyperparameter Tune</th>\n",
       "      <td>0.878067</td>\n",
       "      <td>0.878067</td>\n",
       "      <td>0.142649</td>\n",
       "      <td>0.103198</td>\n",
       "      <td>0.874137</td>\n",
       "    </tr>\n",
       "    <tr>\n",
       "      <th>XGBOOST Without Hyperparameter Tune</th>\n",
       "      <td>0.903941</td>\n",
       "      <td>0.903941</td>\n",
       "      <td>0.126613</td>\n",
       "      <td>0.093910</td>\n",
       "      <td>0.891533</td>\n",
       "    </tr>\n",
       "    <tr>\n",
       "      <th>SVR Without Hyperparameter Tune</th>\n",
       "      <td>0.894999</td>\n",
       "      <td>0.894999</td>\n",
       "      <td>0.132375</td>\n",
       "      <td>0.100170</td>\n",
       "      <td>0.886948</td>\n",
       "    </tr>\n",
       "    <tr>\n",
       "      <th>Linear Regression Without Hyperparameter Tune</th>\n",
       "      <td>0.904519</td>\n",
       "      <td>0.904519</td>\n",
       "      <td>0.126232</td>\n",
       "      <td>0.096170</td>\n",
       "      <td>0.880901</td>\n",
       "    </tr>\n",
       "  </tbody>\n",
       "</table>\n",
       "</div>"
      ],
      "text/plain": [
       "                                               model_score  r2_score  \\\n",
       "Random Forest Without Hyperparameter Tune         0.878067  0.878067   \n",
       "XGBOOST Without Hyperparameter Tune               0.903941  0.903941   \n",
       "SVR Without Hyperparameter Tune                   0.894999  0.894999   \n",
       "Linear Regression Without Hyperparameter Tune     0.904519  0.904519   \n",
       "\n",
       "                                                   rmse       mae  \\\n",
       "Random Forest Without Hyperparameter Tune      0.142649  0.103198   \n",
       "XGBOOST Without Hyperparameter Tune            0.126613  0.093910   \n",
       "SVR Without Hyperparameter Tune                0.132375  0.100170   \n",
       "Linear Regression Without Hyperparameter Tune  0.126232  0.096170   \n",
       "\n",
       "                                               cross_val_score  \n",
       "Random Forest Without Hyperparameter Tune             0.874137  \n",
       "XGBOOST Without Hyperparameter Tune                   0.891533  \n",
       "SVR Without Hyperparameter Tune                       0.886948  \n",
       "Linear Regression Without Hyperparameter Tune         0.880901  "
      ]
     },
     "execution_count": 181,
     "metadata": {},
     "output_type": "execute_result"
    }
   ],
   "source": [
    "## Viewing and comparing all the model evaluation metrics values of different models without hyperparameter optimization\n",
    "\n",
    "result_without_hyperparamtune_rf_xg_SVR=result_without_hyperparamtune.loc[['Random Forest','XGBOOST','SVR','Linear Regression'],:]\n",
    "\n",
    "## Renaming the rows/indexes\n",
    "\n",
    "result_without_hyperparamtune_rf_xg_SVR.index=['Random Forest Without Hyperparameter Tune',\n",
    "                                              'XGBOOST Without Hyperparameter Tune',\n",
    "                                              'SVR Without Hyperparameter Tune',\n",
    "                                              'Linear Regression Without Hyperparameter Tune']\n",
    "\n",
    "result_without_hyperparamtune_rf_xg_SVR"
   ]
  },
  {
   "cell_type": "code",
   "execution_count": null,
   "metadata": {},
   "outputs": [],
   "source": []
  },
  {
   "cell_type": "markdown",
   "metadata": {},
   "source": [
    "### STACKING ENSEMBLE"
   ]
  },
  {
   "cell_type": "markdown",
   "metadata": {},
   "source": [
    "## base=rf,xg,lin  meta=svr"
   ]
  },
  {
   "cell_type": "code",
   "execution_count": 25,
   "metadata": {},
   "outputs": [],
   "source": [
    "## Defining the base models\n",
    "\n",
    "level0=list()\n",
    "\n",
    "level0.append(('rf',RandomForestRegressor(n_estimators= 2000,min_samples_split= 2,min_samples_leaf= 1,\n",
    "                                      max_features= 'sqrt',max_depth= 340,random_state=10)))\n",
    "\n",
    "level0.append(('lr',LinearRegression()))"
   ]
  },
  {
   "cell_type": "code",
   "execution_count": 26,
   "metadata": {},
   "outputs": [],
   "source": [
    "## Defining meta learner model\n",
    "\n",
    "level1=SVR(C=1000,kernel='linear')"
   ]
  },
  {
   "cell_type": "code",
   "execution_count": 27,
   "metadata": {},
   "outputs": [],
   "source": [
    "## Defining stacking ensemble  ## check Shift+Tab for details ## for base- rf,xg,linear meta=svr\n",
    "\n",
    "stacking_model=StackingRegressor(estimators=level0,final_estimator=level1,cv=10)"
   ]
  },
  {
   "cell_type": "markdown",
   "metadata": {},
   "source": [
    "#### Fitting the Stacked Ensembled Model to train_test_split data"
   ]
  },
  {
   "cell_type": "code",
   "execution_count": 215,
   "metadata": {
    "collapsed": true
   },
   "outputs": [
    {
     "data": {
      "text/plain": [
       "StackingRegressor(cv=10,\n",
       "                  estimators=[('rf',\n",
       "                               RandomForestRegressor(max_depth=340,\n",
       "                                                     max_features='sqrt',\n",
       "                                                     n_estimators=2000,\n",
       "                                                     random_state=10)),\n",
       "                              ('lr', LinearRegression())],\n",
       "                  final_estimator=SVR(C=1000, kernel='linear'))"
      ]
     },
     "execution_count": 215,
     "metadata": {},
     "output_type": "execute_result"
    }
   ],
   "source": [
    "stacking_model.fit(X_train,y_train)"
   ]
  },
  {
   "cell_type": "markdown",
   "metadata": {},
   "source": [
    "#### Using Stacked Ensemble Model and calculating the different evaluation metric values BASE=rf,xg,linear  META=svr"
   ]
  },
  {
   "cell_type": "code",
   "execution_count": 216,
   "metadata": {},
   "outputs": [
    {
     "data": {
      "text/plain": [
       "0.9093325077824626"
      ]
     },
     "execution_count": 216,
     "metadata": {},
     "output_type": "execute_result"
    }
   ],
   "source": [
    "## Calculating the model score using Stacked Ensemble model\n",
    "\n",
    "get_model_score(stacking_model,X_train,X_test,y_train,y_test)  ## with  rf linear  svr ## BEST"
   ]
  },
  {
   "cell_type": "code",
   "execution_count": 217,
   "metadata": {},
   "outputs": [
    {
     "data": {
      "text/plain": [
       "0.9093325077824626"
      ]
     },
     "execution_count": 217,
     "metadata": {},
     "output_type": "execute_result"
    }
   ],
   "source": [
    "## Calculating r2_score for the model using Stacked Ensemble model\n",
    "\n",
    "get_r2_score(stacking_model,X_train,X_test,y_train,y_test)"
   ]
  },
  {
   "cell_type": "code",
   "execution_count": 218,
   "metadata": {},
   "outputs": [
    {
     "data": {
      "text/plain": [
       "0.12300830747678204"
      ]
     },
     "execution_count": 218,
     "metadata": {},
     "output_type": "execute_result"
    }
   ],
   "source": [
    "## Calculating rmse score for the model using Stacked Ensemble model\n",
    "\n",
    "get_rmse_score(stacking_model,X_train,X_test,y_train,y_test)"
   ]
  },
  {
   "cell_type": "code",
   "execution_count": 219,
   "metadata": {},
   "outputs": [
    {
     "data": {
      "text/plain": [
       "0.09292279281899297"
      ]
     },
     "execution_count": 219,
     "metadata": {},
     "output_type": "execute_result"
    }
   ],
   "source": [
    "## Calculating mean absolute error for the model using Stacked Ensemble model\n",
    "\n",
    "get_mae_score(stacking_model,X_train,X_test,y_train,y_test)"
   ]
  },
  {
   "cell_type": "code",
   "execution_count": 220,
   "metadata": {},
   "outputs": [
    {
     "data": {
      "text/plain": [
       "(912    11.385092\n",
       " 373    11.719940\n",
       " 20     12.692503\n",
       " 800    12.206073\n",
       " 152    12.154779\n",
       " Name: SalePrice, dtype: float64,\n",
       " array([11.99134391, 12.30971798, 11.71429262, 11.88284453, 12.70549393]))"
      ]
     },
     "execution_count": 220,
     "metadata": {},
     "output_type": "execute_result"
    }
   ],
   "source": [
    "## Displaying and comparing y_train and y_predict values using Stacked Ensemble model\n",
    "\n",
    "get_y_train_y_predict(stacking_model,X_train,X_test,y_train,y_test)"
   ]
  },
  {
   "cell_type": "markdown",
   "metadata": {},
   "source": [
    "#### Fitting the Stacked Ensemble Model to the entire data"
   ]
  },
  {
   "cell_type": "code",
   "execution_count": 28,
   "metadata": {
    "collapsed": true
   },
   "outputs": [
    {
     "data": {
      "text/plain": [
       "StackingRegressor(cv=10,\n",
       "                  estimators=[('rf',\n",
       "                               RandomForestRegressor(max_depth=340,\n",
       "                                                     max_features='sqrt',\n",
       "                                                     n_estimators=2000,\n",
       "                                                     random_state=10)),\n",
       "                              ('lr', LinearRegression())],\n",
       "                  final_estimator=SVR(C=1000, kernel='linear'))"
      ]
     },
     "execution_count": 28,
     "metadata": {},
     "output_type": "execute_result"
    }
   ],
   "source": [
    "stacking_model.fit(X,y)"
   ]
  },
  {
   "cell_type": "markdown",
   "metadata": {},
   "source": [
    "#### Using Stacked Ensemble Model and calculating the Cross Validation Score of the model"
   ]
  },
  {
   "cell_type": "code",
   "execution_count": 222,
   "metadata": {},
   "outputs": [
    {
     "data": {
      "text/plain": [
       "array([0.88711299, 0.912706  , 0.90739987, 0.87752946, 0.88524926,\n",
       "       0.90054868, 0.89699589, 0.90690546, 0.87384598, 0.87422707])"
      ]
     },
     "execution_count": 222,
     "metadata": {},
     "output_type": "execute_result"
    }
   ],
   "source": [
    "cross_val_score(stacking_model,X,y,cv=10)"
   ]
  },
  {
   "cell_type": "code",
   "execution_count": 223,
   "metadata": {},
   "outputs": [
    {
     "data": {
      "text/plain": [
       "0.8922520663870401"
      ]
     },
     "execution_count": 223,
     "metadata": {},
     "output_type": "execute_result"
    }
   ],
   "source": [
    "cross_val_score(stacking_model,X,y,cv=10).mean()"
   ]
  },
  {
   "cell_type": "code",
   "execution_count": 2,
   "metadata": {},
   "outputs": [],
   "source": [
    "## From above modeling we can see that the model 'STACKING_MODEL' is giving us the best result regarding modelscore,r2 score\n",
    "## rmse and mae"
   ]
  },
  {
   "cell_type": "code",
   "execution_count": null,
   "metadata": {},
   "outputs": [],
   "source": []
  }
 ],
 "metadata": {
  "kernelspec": {
   "display_name": "Python 3",
   "language": "python",
   "name": "python3"
  },
  "language_info": {
   "codemirror_mode": {
    "name": "ipython",
    "version": 3
   },
   "file_extension": ".py",
   "mimetype": "text/x-python",
   "name": "python",
   "nbconvert_exporter": "python",
   "pygments_lexer": "ipython3",
   "version": "3.8.3"
  }
 },
 "nbformat": 4,
 "nbformat_minor": 4
}
